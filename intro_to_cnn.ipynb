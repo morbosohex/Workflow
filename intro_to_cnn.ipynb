{
  "nbformat": 4,
  "nbformat_minor": 0,
  "metadata": {
    "colab": {
      "name": "intro-to-cnn.ipynb",
      "version": "0.3.2",
      "provenance": [],
      "collapsed_sections": [],
      "include_colab_link": true
    },
    "kernelspec": {
      "name": "python3",
      "display_name": "Python 3"
    },
    "accelerator": "GPU"
  },
  "cells": [
    {
      "cell_type": "markdown",
      "metadata": {
        "id": "view-in-github",
        "colab_type": "text"
      },
      "source": [
        "<a href=\"https://colab.research.google.com/github/morbosohex/Workflow/blob/master/intro_to_cnn.ipynb\" target=\"_parent\"><img src=\"https://colab.research.google.com/assets/colab-badge.svg\" alt=\"Open In Colab\"/></a>"
      ]
    },
    {
      "cell_type": "markdown",
      "metadata": {
        "id": "qABx13605gOg",
        "colab_type": "text"
      },
      "source": [
        "The optimizer is specified when you compile the model (in Step 7 of the notebook). \n",
        "\n",
        "'sgd' : SGD\n",
        "\n",
        "'rmsprop' : RMSprop\n",
        "\n",
        "'adagrad' : Adagrad\n",
        "\n",
        "'adadelta' : Adadelta\n",
        "\n",
        "'adam' : Adam\n",
        "\n",
        "'adamax' : Adamax\n",
        "\n",
        "'nadam' : Nadam\n",
        "\n",
        "'tfoptimizer' : TFOptimi"
      ]
    },
    {
      "cell_type": "markdown",
      "metadata": {
        "id": "FEpOGNKvdbrp",
        "colab_type": "text"
      },
      "source": [
        "# Convolutional Layers in Keras"
      ]
    },
    {
      "cell_type": "code",
      "metadata": {
        "id": "BApKk-E56CXg",
        "colab_type": "code",
        "outputId": "62f3df3d-0019-46de-da12-9957f4ed37bb",
        "colab": {
          "base_uri": "https://localhost:8080/",
          "height": 34
        }
      },
      "source": [
        "from keras.layers import Conv2D"
      ],
      "execution_count": 0,
      "outputs": [
        {
          "output_type": "stream",
          "text": [
            "Using TensorFlow backend.\n"
          ],
          "name": "stderr"
        }
      ]
    },
    {
      "cell_type": "markdown",
      "metadata": {
        "id": "FtYJalPZeOGu",
        "colab_type": "text"
      },
      "source": [
        "### Arguments\n",
        "\n",
        "- `filters` - number of filters\n",
        "- `kernel_size` - height and width of the convolution window\n",
        "- `strides` - stride of the convolution, if don't specify anything, `strides` is set to 1\n",
        "- `padding` - one of `valid` or `same`, if don't specify anything, `padding` is set to `valid`\n",
        "- `activation` - Typically `relu`, if you don't specify anything, no activation is applied. You are strongly encouraged to add a ReLU activation function to every convolutional layer in your networks.\n",
        "\n",
        "NOTE: It is possible to represent both kernel_size and strides as either a number or a tuple.\n",
        "\n",
        "\n",
        "When using your convolutional layer as the first layer (appearing after the input layer) in a model, you must provide an additional input_shape argument:\n",
        "\n",
        "- `input_shape `- Tuple specifying the height, width, and depth (in that order) of the input.\n",
        "\n",
        "NOTE: Do not include the input_shape argument if the convolutional layer is not the first layer in your network."
      ]
    },
    {
      "cell_type": "markdown",
      "metadata": {
        "id": "OUrZbTcYftOb",
        "colab_type": "text"
      },
      "source": [
        "## Example #1\n",
        "\n",
        "Say I'm constructing a CNN, and my input layer accepts grayscale images that are 200 by 200 pixels (corresponding to a 3D array with height 200, width 200, and depth 1). Then, say I'd like the next layer to be a convolutional layer with 16 filters, each with a width and height of 2. When performing the convolution, I'd like the filter to jump two pixels at a time. I also don't want the filter to extend outside of the image boundaries; in other words, I don't want to pad the image with zeros. Then, to construct this convolutional layer, I would use the following line of code:\n",
        "\n",
        "假设我正在构建CNN，我的输入层接受200 x 200像素的灰度图像（对应于高度为200，宽度为200，深度为1的3D数组）。然后，假设我希望下一层是一个带有16个滤波器的卷积层，每个滤波器的宽度和高度为2.当执行卷积时，我希望滤波器一次跳两个像素,也即步长为2。我也不希望滤波器延伸到图像边界之外;换句话说，我不想用零填充图像。然后，为了构造这个卷积层，我将使用以下代码行："
      ]
    },
    {
      "cell_type": "code",
      "metadata": {
        "id": "NZcCiJRZfsob",
        "colab_type": "code",
        "outputId": "22e43a25-a0e4-4bc2-c063-8b1cb8557437",
        "colab": {
          "base_uri": "https://localhost:8080/",
          "height": 107
        }
      },
      "source": [
        "Conv2D(filters=16, \n",
        "       kernel_size=2,\n",
        "       strides=2,\n",
        "       padding='valid',\n",
        "       activation='relu',\n",
        "       input_shape=(200,200,1))"
      ],
      "execution_count": 0,
      "outputs": [
        {
          "output_type": "stream",
          "text": [
            "WARNING: Logging before flag parsing goes to stderr.\n",
            "W0718 14:35:10.980968 140640370833280 deprecation_wrapper.py:119] From /usr/local/lib/python3.6/dist-packages/keras/backend/tensorflow_backend.py:74: The name tf.get_default_graph is deprecated. Please use tf.compat.v1.get_default_graph instead.\n",
            "\n"
          ],
          "name": "stderr"
        },
        {
          "output_type": "execute_result",
          "data": {
            "text/plain": [
              "<keras.layers.convolutional.Conv2D at 0x7fe918b7a4a8>"
            ]
          },
          "metadata": {
            "tags": []
          },
          "execution_count": 3
        }
      ]
    },
    {
      "cell_type": "markdown",
      "metadata": {
        "id": "99nKKWCtgkOD",
        "colab_type": "text"
      },
      "source": [
        "## Example #2\n",
        "\n",
        "Say I'd like the next layer in my CNN to be a convolutional layer that takes the layer constructed in Example 1 as input. Say I'd like my new layer to have 32 filters, each with a height and width of 3. When performing the convolution, I'd like the filter to jump 1 pixel at a time. I want the convolutional layer to see all regions of the previous layer, and so I don't mind if the filter hangs over the edge of the previous layer when it's performing the convolution. Then, to construct this convolutional layer, I would use the following line of code:\n",
        "\n",
        "假设我希望CNN中的下一层是卷积层，它将示例1中构造的卷积层作为输入。假设我希望我的新图层有32个滤波器，每个滤波器的高度和宽度均为3.当执行卷积时，我希望滤波器一次跳1个像素,即步长为1。我希望卷积层能够看到前一层的所有区域，所以我不介意过滤器在执行卷积时是否挂在前一层的边缘上,即需要进行零填充。然后，为了构造这个卷积层，我将使用以下代码行："
      ]
    },
    {
      "cell_type": "code",
      "metadata": {
        "id": "wbHm11xWgnL4",
        "colab_type": "code",
        "outputId": "877cb5ce-98a7-4cdf-ca4d-37e41fbc851a",
        "colab": {
          "base_uri": "https://localhost:8080/",
          "height": 34
        }
      },
      "source": [
        "Conv2D(filters=32,\n",
        "      kernel_size=3,\n",
        "      strides=1,\n",
        "      padding='same',\n",
        "      activation='relu')"
      ],
      "execution_count": 0,
      "outputs": [
        {
          "output_type": "execute_result",
          "data": {
            "text/plain": [
              "<keras.layers.convolutional.Conv2D at 0x7fe918b7a908>"
            ]
          },
          "metadata": {
            "tags": []
          },
          "execution_count": 5
        }
      ]
    },
    {
      "cell_type": "markdown",
      "metadata": {
        "id": "Kx0-s-NGhBoC",
        "colab_type": "text"
      },
      "source": [
        "## Example #3\n",
        "\n",
        "If you look up code online, it is also common to see convolutional layers in Keras in this format:"
      ]
    },
    {
      "cell_type": "code",
      "metadata": {
        "id": "XNvd46T8hNs5",
        "colab_type": "code",
        "outputId": "c3ea54fd-b2e4-4543-da57-a099fee96eda",
        "colab": {
          "base_uri": "https://localhost:8080/",
          "height": 34
        }
      },
      "source": [
        "Conv2D(64, (2,2), activation='relu')"
      ],
      "execution_count": 0,
      "outputs": [
        {
          "output_type": "execute_result",
          "data": {
            "text/plain": [
              "<keras.layers.convolutional.Conv2D at 0x7fe918b7a438>"
            ]
          },
          "metadata": {
            "tags": []
          },
          "execution_count": 6
        }
      ]
    },
    {
      "cell_type": "markdown",
      "metadata": {
        "id": "pe4CD0BQhTwj",
        "colab_type": "text"
      },
      "source": [
        "In this case, there are 64 filters, each with a size of 2x2, and the layer has a ReLU activation function. The other arguments in the layer use the default values, so the convolution uses a stride of 1, and the padding has been set to 'valid'."
      ]
    },
    {
      "cell_type": "markdown",
      "metadata": {
        "id": "KQbfjASLmsOY",
        "colab_type": "text"
      },
      "source": [
        "# Dimensionality"
      ]
    },
    {
      "cell_type": "markdown",
      "metadata": {
        "id": "CUPnZuFWmxmr",
        "colab_type": "text"
      },
      "source": [
        "-  same as with neural network, create a CNN in keras by first creating a Sequential model\n",
        "- add layers by using `.add()`\n"
      ]
    },
    {
      "cell_type": "markdown",
      "metadata": {
        "id": "E6Vs6doroIf1",
        "colab_type": "text"
      },
      "source": [
        "This corresponds to the value under Output Shape in the printed output. In the figure above, None corresponds to the batch size, and the convolutional layer has a height of 100, width of 100, and depth of 16."
      ]
    },
    {
      "cell_type": "code",
      "metadata": {
        "id": "0PkPQ-e3nI_v",
        "colab_type": "code",
        "outputId": "309dacfa-3fe2-48a7-8671-99a591895706",
        "colab": {
          "base_uri": "https://localhost:8080/",
          "height": 175
        }
      },
      "source": [
        "from keras.models import Sequential\n",
        "from keras.layers import Conv2D\n",
        "\n",
        "model = Sequential()\n",
        "model.add(Conv2D(filters=16,\n",
        "                 kernel_size=2,\n",
        "                 strides=2, \n",
        "                 padding='valid',\n",
        "                 activation='relu',\n",
        "                 input_shape=(200,200,1)))\n",
        "model.summary()"
      ],
      "execution_count": 0,
      "outputs": [
        {
          "output_type": "stream",
          "text": [
            "_________________________________________________________________\n",
            "Layer (type)                 Output Shape              Param #   \n",
            "=================================================================\n",
            "conv2d_12 (Conv2D)           (None, 100, 100, 16)      80        \n",
            "=================================================================\n",
            "Total params: 80\n",
            "Trainable params: 80\n",
            "Non-trainable params: 0\n",
            "_________________________________________________________________\n"
          ],
          "name": "stdout"
        }
      ]
    },
    {
      "cell_type": "markdown",
      "metadata": {
        "id": "MWtturMFoL-K",
        "colab_type": "text"
      },
      "source": [
        "# Formula: Number of Parameters in a Convolutional Layer"
      ]
    },
    {
      "cell_type": "markdown",
      "metadata": {
        "id": "K6nCXXmNoOIC",
        "colab_type": "text"
      },
      "source": [
        "The number of parameters in a convolutional layer depends on the supplied values of filters, kernel_size, and input_shape. Let's define a few variables:\n",
        "\n",
        "- `K` - 滤波器的数量\n",
        "- `F` - 卷积层的高度和宽度\n",
        "- `D_in` - 前一层的深度\n",
        "\n",
        "Notice that `K = filters`, and `F = kernel_size`. Likewise, `D_in` is the last value in the input_shape tuple.\n",
        "\n",
        "each filter: `F*F*D_in` weights\n",
        "\n",
        "there is `K` filters: `K*F*F*D_in`\n",
        "\n",
        "Since there is one bias term per filter, the convolutional layer has `K` biases. Thus, the _ number of parameters_ in the convolutional layer is given by `K*F*F*D_in + K`."
      ]
    },
    {
      "cell_type": "markdown",
      "metadata": {
        "id": "eaRAleCqpJFD",
        "colab_type": "text"
      },
      "source": [
        "# Formula: Shape of a Convolutional Layer"
      ]
    },
    {
      "cell_type": "markdown",
      "metadata": {
        "id": "He2VLEjno5vs",
        "colab_type": "text"
      },
      "source": [
        "The shape of a convolutional layer depends on the supplied values of `kernel_size`, `input_shape`, `padding`, and `stride`. Let's define a few variables:\n",
        "\n",
        "- K - 卷积层中滤波器的数量\n",
        "- F - 滤波器的高度与宽度\n",
        "- S - 卷积层的步长\n",
        "- H_in - 前一层的高度\n",
        "- W_in - 前一层的宽度\n",
        "\n",
        "Notice that `K = filters`, `F = kernel_size`, and `S = stride`. Likewise, `H_in` and `W_in` are the first and second value of the input_shape tuple, respectively.\n",
        "\n",
        "The **depth** of the convolutional layer will always equal the number of filters `K`.\n",
        "\n",
        "\n",
        "If `padding = 'same'`, then the spatial dimensions of the convolutional layer are the following:\n",
        "\n",
        "- height = ceil(float(`H_in`) / float(`S`))\n",
        "- width = ceil(float(`W_in`) / float(`S`))\n",
        "\n",
        "If `padding = 'valid'`, then the spatial dimensions of the convolutional layer are the following:\n",
        "\n",
        "- height = ceil(float(`H_in` - `F` + 1) / float(`S`))\n",
        "- width = ceil(float(`W_in` - `F` + 1) / float(`S`))\n",
        "\n"
      ]
    },
    {
      "cell_type": "markdown",
      "metadata": {
        "id": "iCZTcnrHsiwn",
        "colab_type": "text"
      },
      "source": [
        "# Quiz"
      ]
    },
    {
      "cell_type": "code",
      "metadata": {
        "id": "vaVDT43Eq0xS",
        "colab_type": "code",
        "outputId": "685948e8-6412-49a3-efd1-92bfdbaeaf9d",
        "colab": {
          "base_uri": "https://localhost:8080/",
          "height": 175
        }
      },
      "source": [
        "from keras.models import Sequential\n",
        "from keras.layers import Conv2D\n",
        "\n",
        "model = Sequential()\n",
        "model.add(Conv2D(filters=32, kernel_size=3, strides=2, padding='same', \n",
        "    activation='relu', input_shape=(128, 128, 3)))\n",
        "model.summary()"
      ],
      "execution_count": 0,
      "outputs": [
        {
          "output_type": "stream",
          "text": [
            "_________________________________________________________________\n",
            "Layer (type)                 Output Shape              Param #   \n",
            "=================================================================\n",
            "conv2d_13 (Conv2D)           (None, 64, 64, 32)        896       \n",
            "=================================================================\n",
            "Total params: 896\n",
            "Trainable params: 896\n",
            "Non-trainable params: 0\n",
            "_________________________________________________________________\n"
          ],
          "name": "stdout"
        }
      ]
    },
    {
      "cell_type": "markdown",
      "metadata": {
        "id": "o6WBCFMGq2iq",
        "colab_type": "text"
      },
      "source": [
        "#### How many parameters does the convolutional layer have?\n",
        "\n",
        "K = 32\n",
        "F = 3\n",
        "D_in = 3\n",
        "\n",
        "num_of_weights = 32 * 3* 3* 3\n",
        "num_of_bias = 32\n"
      ]
    },
    {
      "cell_type": "markdown",
      "metadata": {
        "id": "U5iFHFx7pO7J",
        "colab_type": "text"
      },
      "source": [
        "#### What is the depth of the convolutional layer?\n",
        "answer = K"
      ]
    },
    {
      "cell_type": "markdown",
      "metadata": {
        "id": "-kFyT04lqoIC",
        "colab_type": "text"
      },
      "source": [
        "#### What is the width of the convolutional layer?\n",
        "\n",
        "padding='same'\n",
        "\n",
        "S = 2\n",
        "\n",
        "W_in = 128\n",
        "\n",
        "width = ceil(float(W_in)/float(S)) = 64"
      ]
    },
    {
      "cell_type": "markdown",
      "metadata": {
        "id": "_DmlG-HFG-sF",
        "colab_type": "text"
      },
      "source": [
        "# Pooling Layer"
      ]
    },
    {
      "cell_type": "markdown",
      "metadata": {
        "id": "YElQgZ9tHQgw",
        "colab_type": "text"
      },
      "source": [
        "池化层的输入是卷积层中不同滤波器产生的特征映射的堆叠, 卷积层可能会因为滤波器的数量巨大,产生的特征映射过多, 导致维度过大, 池化层所扮演的角色就是降低维数\n",
        "\n",
        "两种类型\n",
        "\n",
        "- 最大池化层\n",
        "\n",
        "将一组特征映射作为输入\n",
        "与卷积操作类似,需要获得滤波器,以及滑动步长, 然后对一组特征映射进行平行垂直滑动.\n",
        "\n",
        "最大池化层中对应的节点值的计算方法是: 拿出**窗口**中包含的最大像素\n",
        "\n",
        "输出是一组具有相同数量的特征映射, 但是特征映射的宽和高都减小了\n",
        "\n",
        "- 全局平均池化\n",
        "\n",
        "对于这种类型,不指定窗口大小,也不指定步长\n",
        "\n",
        "对一组特征映射计算每个映射的节点均值, 最终会得到一个向量, 向量数目和特征映射数目相同\n",
        "\n"
      ]
    },
    {
      "cell_type": "markdown",
      "metadata": {
        "id": "3e3bsN0gMg28",
        "colab_type": "text"
      },
      "source": [
        "## Max Pooling Layers in Keras - 最大池化层-Keras"
      ]
    },
    {
      "cell_type": "code",
      "metadata": {
        "id": "kmzDlhdMM6FK",
        "colab_type": "code",
        "colab": {}
      },
      "source": [
        "# 导入包并且新建最大池化层\n",
        "from keras.layers import MaxPooling2D"
      ],
      "execution_count": 0,
      "outputs": []
    },
    {
      "cell_type": "markdown",
      "metadata": {
        "id": "jLx3VGvwNK1B",
        "colab_type": "text"
      },
      "source": [
        "```MaxPooling2D(pool_size,strides,padding)```\n",
        "\n",
        "参数\n",
        "\n",
        "- `pool_size` - 池化窗口的宽和高\n",
        "- `strides` - 滑动步长, 如果不指定, 大小为池化窗口的大小\n",
        "- `padding` - 两个选项`valid`和`same`,如果不指定, 默认不填充\n"
      ]
    },
    {
      "cell_type": "markdown",
      "metadata": {
        "id": "9H0xGEUbN5ey",
        "colab_type": "text"
      },
      "source": [
        "Example\n",
        "Say I'm constructing a CNN, and I'd like to reduce the dimensionality of a convolutional layer by following it with a max pooling layer. Say the convolutional layer has size (100, 100, 15), and I'd like the max pooling layer to have size (50, 50, 15). I can do this by using a 2x2 window in my max pooling layer, with a stride of 2, which could be constructed in the following line of code:\n",
        "\n",
        "假设我正在构建一个CNN，我想通过跟随最大池层来减少卷积层的维数。假设卷积层的大小（100,100,15），我想最大池层的大小（50,50,15）。我可以通过在我的最大池层中使用2x2窗口来做到这一点，步长为2，可以在以下代码行中构造：\n",
        "\n"
      ]
    },
    {
      "cell_type": "code",
      "metadata": {
        "id": "_dEznzJAOQQ3",
        "colab_type": "code",
        "colab": {
          "base_uri": "https://localhost:8080/",
          "height": 109
        },
        "outputId": "98f12572-5dc8-46c6-ef39-3da840afe5bb"
      },
      "source": [
        "MaxPooling2D(pool_size=2, strides=2)"
      ],
      "execution_count": 3,
      "outputs": [
        {
          "output_type": "stream",
          "text": [
            "WARNING: Logging before flag parsing goes to stderr.\n",
            "W0808 07:55:28.687218 139850996135808 deprecation_wrapper.py:119] From /usr/local/lib/python3.6/dist-packages/keras/backend/tensorflow_backend.py:74: The name tf.get_default_graph is deprecated. Please use tf.compat.v1.get_default_graph instead.\n",
            "\n"
          ],
          "name": "stderr"
        },
        {
          "output_type": "execute_result",
          "data": {
            "text/plain": [
              "<keras.layers.pooling.MaxPooling2D at 0x7f314e57b860>"
            ]
          },
          "metadata": {
            "tags": []
          },
          "execution_count": 3
        }
      ]
    },
    {
      "cell_type": "code",
      "metadata": {
        "id": "zzHUVfpdOeeK",
        "colab_type": "code",
        "colab": {
          "base_uri": "https://localhost:8080/",
          "height": 35
        },
        "outputId": "ee47abeb-0586-4cb0-a81f-6e28c2ac9472"
      },
      "source": [
        " MaxPooling2D(pool_size=2, strides=1)"
      ],
      "execution_count": 4,
      "outputs": [
        {
          "output_type": "execute_result",
          "data": {
            "text/plain": [
              "<keras.layers.pooling.MaxPooling2D at 0x7f314e57b9e8>"
            ]
          },
          "metadata": {
            "tags": []
          },
          "execution_count": 4
        }
      ]
    },
    {
      "cell_type": "markdown",
      "metadata": {
        "id": "XfMKym_POlO0",
        "colab_type": "text"
      },
      "source": [
        "## 查看最大池化层的维度"
      ]
    },
    {
      "cell_type": "code",
      "metadata": {
        "id": "V2syLBipO9nZ",
        "colab_type": "code",
        "colab": {
          "base_uri": "https://localhost:8080/",
          "height": 271
        },
        "outputId": "eef89f7e-0616-41c6-9df6-97c5a845a061"
      },
      "source": [
        "from keras.layers import MaxPooling2D\n",
        "from keras.models import Sequential\n",
        "\n",
        "model = Sequential()\n",
        "model.add(MaxPooling2D(pool_size=2,strides=2,input_shape=(100,100,15)))\n",
        "model.summary()"
      ],
      "execution_count": 5,
      "outputs": [
        {
          "output_type": "stream",
          "text": [
            "W0808 07:59:39.212870 139850996135808 deprecation_wrapper.py:119] From /usr/local/lib/python3.6/dist-packages/keras/backend/tensorflow_backend.py:517: The name tf.placeholder is deprecated. Please use tf.compat.v1.placeholder instead.\n",
            "\n",
            "W0808 07:59:39.228593 139850996135808 deprecation_wrapper.py:119] From /usr/local/lib/python3.6/dist-packages/keras/backend/tensorflow_backend.py:3976: The name tf.nn.max_pool is deprecated. Please use tf.nn.max_pool2d instead.\n",
            "\n"
          ],
          "name": "stderr"
        },
        {
          "output_type": "stream",
          "text": [
            "_________________________________________________________________\n",
            "Layer (type)                 Output Shape              Param #   \n",
            "=================================================================\n",
            "max_pooling2d_3 (MaxPooling2 (None, 50, 50, 15)        0         \n",
            "=================================================================\n",
            "Total params: 0\n",
            "Trainable params: 0\n",
            "Non-trainable params: 0\n",
            "_________________________________________________________________\n"
          ],
          "name": "stdout"
        }
      ]
    },
    {
      "cell_type": "code",
      "metadata": {
        "id": "zxOsi8AyPZIm",
        "colab_type": "code",
        "colab": {}
      },
      "source": [
        ""
      ],
      "execution_count": 0,
      "outputs": []
    }
  ]
}