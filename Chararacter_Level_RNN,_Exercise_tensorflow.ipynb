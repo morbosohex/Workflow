{
  "nbformat": 4,
  "nbformat_minor": 0,
  "metadata": {
    "kernelspec": {
      "name": "python3",
      "display_name": "Python 3"
    },
    "language_info": {
      "codemirror_mode": {
        "name": "ipython",
        "version": 3
      },
      "file_extension": ".py",
      "mimetype": "text/x-python",
      "name": "python",
      "nbconvert_exporter": "python",
      "pygments_lexer": "ipython3",
      "version": "3.6.4"
    },
    "colab": {
      "name": "Chararacter-Level RNN, Exercise-tensorflow.ipynb",
      "version": "0.3.2",
      "provenance": [],
      "include_colab_link": true
    },
    "accelerator": "GPU"
  },
  "cells": [
    {
      "cell_type": "markdown",
      "metadata": {
        "id": "view-in-github",
        "colab_type": "text"
      },
      "source": [
        "<a href=\"https://colab.research.google.com/github/morbosohex/Workflow/blob/master/Chararacter_Level_RNN%2C_Exercise_tensorflow.ipynb\" target=\"_parent\"><img src=\"https://colab.research.google.com/assets/colab-badge.svg\" alt=\"Open In Colab\"/></a>"
      ]
    },
    {
      "cell_type": "code",
      "metadata": {
        "id": "XG9zDnBjbBA8",
        "colab_type": "code",
        "colab": {
          "base_uri": "https://localhost:8080/",
          "height": 128
        },
        "outputId": "d38f7a69-2ba5-430a-fcb9-8885388514c4"
      },
      "source": [
        "from google.colab import drive\n",
        "drive.mount('/content/drive')"
      ],
      "execution_count": 3,
      "outputs": [
        {
          "output_type": "stream",
          "text": [
            "Go to this URL in a browser: https://accounts.google.com/o/oauth2/auth?client_id=947318989803-6bn6qk8qdgf4n4g3pfee6491hc0brc4i.apps.googleusercontent.com&redirect_uri=urn%3Aietf%3Awg%3Aoauth%3A2.0%3Aoob&scope=email%20https%3A%2F%2Fwww.googleapis.com%2Fauth%2Fdocs.test%20https%3A%2F%2Fwww.googleapis.com%2Fauth%2Fdrive%20https%3A%2F%2Fwww.googleapis.com%2Fauth%2Fdrive.photos.readonly%20https%3A%2F%2Fwww.googleapis.com%2Fauth%2Fpeopleapi.readonly&response_type=code\n",
            "\n",
            "Enter your authorization code:\n",
            "··········\n",
            "Mounted at /content/drive\n"
          ],
          "name": "stdout"
        }
      ]
    },
    {
      "cell_type": "code",
      "metadata": {
        "id": "qr9Q5mSGbDVq",
        "colab_type": "code",
        "colab": {}
      },
      "source": [
        "import os\n",
        "os.chdir('/content/drive/My Drive/Colab Notebooks/dl-tensorflow/intro-to-rnns')"
      ],
      "execution_count": 0,
      "outputs": []
    },
    {
      "cell_type": "markdown",
      "metadata": {
        "id": "IRq60DA5f_Sl",
        "colab_type": "text"
      },
      "source": [
        "# Anna KaRNNa\n",
        "\n",
        "In this notebook, we'll build a character-wise RNN trained on Anna Karenina, one of my all-time favorite books. It'll be able to generate new text based on the text from the book.\n",
        "\n",
        "This network is based off of Andrej Karpathy's [post on RNNs](http://karpathy.github.io/2015/05/21/rnn-effectiveness/) and [implementation in Torch](https://github.com/karpathy/char-rnn). Also, some information [here at r2rt](http://r2rt.com/recurrent-neural-networks-in-tensorflow-ii.html) and from [Sherjil Ozair](https://github.com/sherjilozair/char-rnn-tensorflow) on GitHub. Below is the general architecture of the character-wise RNN.\n",
        "\n",
        "![a](https://tva1.sinaimg.cn/large/006y8mN6ly1g6zgnz1dbwj30p20k5jtl.jpg)\n",
        "\n",
        "\n",
        "\n"
      ]
    },
    {
      "cell_type": "code",
      "metadata": {
        "id": "m5gBhcGXf_Sm",
        "colab_type": "code",
        "colab": {}
      },
      "source": [
        "import time\n",
        "from collections import namedtuple\n",
        "\n",
        "import numpy as np\n",
        "import tensorflow as tf"
      ],
      "execution_count": 0,
      "outputs": []
    },
    {
      "cell_type": "markdown",
      "metadata": {
        "id": "OKayqFyGf_So",
        "colab_type": "text"
      },
      "source": [
        "First we'll load the text file and convert it into integers for our network to use. Here I'm creating a couple dictionaries to convert the characters to and from integers. Encoding the characters as integers makes it easier to use as input in the network."
      ]
    },
    {
      "cell_type": "code",
      "metadata": {
        "id": "OBXsBrJFf_Sp",
        "colab_type": "code",
        "colab": {}
      },
      "source": [
        "with open('anna.txt', 'r') as f:\n",
        "    text=f.read()\n",
        "vocab = sorted(set(text))\n",
        "vocab_to_int = {c: i for i, c in enumerate(vocab)}\n",
        "int_to_vocab = dict(enumerate(vocab))\n",
        "encoded = np.array([vocab_to_int[c] for c in text], dtype=np.int32)"
      ],
      "execution_count": 0,
      "outputs": []
    },
    {
      "cell_type": "markdown",
      "metadata": {
        "id": "Mx6zSNxHf_Sr",
        "colab_type": "text"
      },
      "source": [
        "Let's check out the first 100 characters, make sure everything is peachy. According to the [American Book Review](http://americanbookreview.org/100bestlines.asp), this is the 6th best first line of a book ever."
      ]
    },
    {
      "cell_type": "code",
      "metadata": {
        "id": "7wJho7ohf_Ss",
        "colab_type": "code",
        "colab": {
          "base_uri": "https://localhost:8080/",
          "height": 35
        },
        "outputId": "664675bf-a5f5-4bcf-b2f9-63f6c242c61a"
      },
      "source": [
        "text[:100]"
      ],
      "execution_count": 7,
      "outputs": [
        {
          "output_type": "execute_result",
          "data": {
            "text/plain": [
              "'Chapter 1\\n\\n\\nHappy families are all alike; every unhappy family is unhappy in its own\\nway.\\n\\nEverythin'"
            ]
          },
          "metadata": {
            "tags": []
          },
          "execution_count": 7
        }
      ]
    },
    {
      "cell_type": "markdown",
      "metadata": {
        "id": "Fn-3Pnvjf_Su",
        "colab_type": "text"
      },
      "source": [
        "And we can see the characters encoded as integers."
      ]
    },
    {
      "cell_type": "code",
      "metadata": {
        "id": "lQbSWcRAf_Su",
        "colab_type": "code",
        "colab": {
          "base_uri": "https://localhost:8080/",
          "height": 145
        },
        "outputId": "446e14a7-b3e4-4d75-e8c1-61cd3a66c966"
      },
      "source": [
        "encoded[:100]"
      ],
      "execution_count": 11,
      "outputs": [
        {
          "output_type": "execute_result",
          "data": {
            "text/plain": [
              "array([31, 64, 57, 72, 76, 61, 74,  1, 16,  0,  0,  0, 36, 57, 72, 72, 81,\n",
              "        1, 62, 57, 69, 65, 68, 65, 61, 75,  1, 57, 74, 61,  1, 57, 68, 68,\n",
              "        1, 57, 68, 65, 67, 61, 26,  1, 61, 78, 61, 74, 81,  1, 77, 70, 64,\n",
              "       57, 72, 72, 81,  1, 62, 57, 69, 65, 68, 81,  1, 65, 75,  1, 77, 70,\n",
              "       64, 57, 72, 72, 81,  1, 65, 70,  1, 65, 76, 75,  1, 71, 79, 70,  0,\n",
              "       79, 57, 81, 13,  0,  0, 33, 78, 61, 74, 81, 76, 64, 65, 70],\n",
              "      dtype=int32)"
            ]
          },
          "metadata": {
            "tags": []
          },
          "execution_count": 11
        }
      ]
    },
    {
      "cell_type": "markdown",
      "metadata": {
        "id": "6X-AWJ0ef_Sw",
        "colab_type": "text"
      },
      "source": [
        "Since the network is working with individual characters, it's similar to a classification problem in which we are trying to predict the next character from the previous text.  Here's how many 'classes' our network has to pick from."
      ]
    },
    {
      "cell_type": "code",
      "metadata": {
        "id": "h3exJus2f_Sx",
        "colab_type": "code",
        "colab": {
          "base_uri": "https://localhost:8080/",
          "height": 35
        },
        "outputId": "28b37ff2-9faa-41e7-9898-1001834e5a36"
      },
      "source": [
        "len(vocab)"
      ],
      "execution_count": 9,
      "outputs": [
        {
          "output_type": "execute_result",
          "data": {
            "text/plain": [
              "83"
            ]
          },
          "metadata": {
            "tags": []
          },
          "execution_count": 9
        }
      ]
    },
    {
      "cell_type": "markdown",
      "metadata": {
        "id": "jahCMpjtf_Sy",
        "colab_type": "text"
      },
      "source": [
        "## Making training mini-batches\n",
        "\n",
        "Here is where we'll make our mini-batches for training. Remember that we want our batches to be multiple sequences of some desired number of sequence steps. Considering a simple example, our batches would look like this:\n",
        "\n",
        "![image.png](https://upload-images.jianshu.io/upload_images/12735209-a0590a3cbfe0ccfc.png?imageMogr2/auto-orient/strip%7CimageView2/2/w/1240)\n",
        "\n",
        "\n",
        "\n",
        "<br>\n",
        "\n",
        "We start with our text encoded as integers in one long array in `encoded`. Let's create a function that will give us an iterator for our batches. I like using [generator functions](https://jeffknupp.com/blog/2013/04/07/improve-your-python-yield-and-generators-explained/) to do this. Then we can pass `encoded` into this function and get our batch generator.\n",
        "\n",
        "The first thing we need to do is discard some of the text so we only have completely full batches. Each batch contains $N \\times M$ characters, where $N$ is the batch size (the number of sequences) and $M$ is the number of steps. Then, to get the total number of batches, $K$, we can make from the array `arr`, you divide the length of `arr` by the number of characters per batch. Once you know the number of batches, you can get the total number of characters to keep from `arr`, $N * M * K$.\n",
        "\n",
        "After that, we need to split `arr` into $N$ sequences. You can do this using `arr.reshape(size)` where `size` is a tuple containing the dimensions sizes of the reshaped array. We know we want $N$ sequences (`batch_size` below), let's make that the size of the first dimension. For the second dimension, you can use `-1` as a placeholder in the size, it'll fill up the array with the appropriate data for you. After this, you should have an array that is $N \\times (M * K)$.\n",
        "\n",
        "Now that we have this array, we can iterate through it to get our batches. The idea is each batch is a $N \\times M$ window on the $N \\times (M * K)$ array. For each subsequent batch, the window moves over by `n_steps`. We also want to create both the input and target arrays. Remember that the targets are the inputs shifted over one character. \n",
        "\n",
        "The way I like to do this window is use `range` to take steps of size `n_steps` from $0$ to `arr.shape[1]`, the total number of steps in each sequence. That way, the integers you get from `range` always point to the start of a batch, and each window is `n_steps` wide.\n",
        "\n",
        "> **Exercise:** Write the code for creating batches in the function below. The exercises in this notebook _will not be easy_. I've provided a notebook with solutions alongside this notebook. If you get stuck, checkout the solutions. The most important thing is that you don't copy and paste the code into here, **type out the solution code yourself.**"
      ]
    },
    {
      "cell_type": "code",
      "metadata": {
        "id": "ueWs4D-ef_Sz",
        "colab_type": "code",
        "colab": {}
      },
      "source": [
        "def get_batches(arr, batch_size, n_steps):\n",
        "    '''Create a generator that returns batches of size\n",
        "       batch_size x n_steps from arr.\n",
        "       \n",
        "       Arguments\n",
        "       ---------\n",
        "       arr: Array you want to make batches from\n",
        "       batch_size: Batch size, the number of sequences per batch\n",
        "       n_steps: Number of sequence steps per batch\n",
        "    '''\n",
        "    # Get the number of characters per batch and number of batches we can make\n",
        "    characters_per_batch = batch_size * n_steps\n",
        "    n_batches = len(arr) // characters_per_batch\n",
        "    \n",
        "    # Keep only enough characters to make full batches\n",
        "    arr = arr[:n_batches*characters_per_batch]\n",
        "    \n",
        "    # Reshape into batch_size rows\n",
        "    arr = arr.reshape((batch_size, -1))\n",
        "    \n",
        "    for n in range(0, arr.shape[1], n_steps):\n",
        "        # The features\n",
        "        x = arr[:, n:n+n_steps]\n",
        "        # The targets, shifted by one\n",
        "        y_temp = arr[:, n+1:n+n_steps+1]\n",
        "        \n",
        "        # For the very last batch, y will be one character short at the end of \n",
        "        # the sequences which breaks things. To get around this, I'll make an \n",
        "        # array of the appropriate size first, of all zeros, then add the targets.\n",
        "        # This will introduce a small artifact in the last batch, but it won't matter.\n",
        "        y = np.zeros(x.shape, dtype=x.dtype)\n",
        "        y[:,:y_temp.shape[1]] = y_temp\n",
        "        \n",
        "        yield x, y"
      ],
      "execution_count": 0,
      "outputs": []
    },
    {
      "cell_type": "markdown",
      "metadata": {
        "id": "X0Wq3i12f_S1",
        "colab_type": "text"
      },
      "source": [
        "Now I'll make my data sets and we can check out what's going on here. Here I'm going to use a batch size of 10 and 50 sequence steps."
      ]
    },
    {
      "cell_type": "code",
      "metadata": {
        "id": "jzzD0HBnf_S1",
        "colab_type": "code",
        "colab": {}
      },
      "source": [
        "batches = get_batches(encoded, 10, 50)\n",
        "x, y = next(batches)"
      ],
      "execution_count": 0,
      "outputs": []
    },
    {
      "cell_type": "code",
      "metadata": {
        "id": "RC7qCvkvf_S4",
        "colab_type": "code",
        "colab": {
          "base_uri": "https://localhost:8080/",
          "height": 435
        },
        "outputId": "4e965acd-edec-4161-9809-c89352ba9248"
      },
      "source": [
        "print('x\\n', x[:10, :10])\n",
        "print('\\ny\\n', y[:10, :10])"
      ],
      "execution_count": 38,
      "outputs": [
        {
          "output_type": "stream",
          "text": [
            "x\n",
            " [[31 64 57 72 76 61 74  1 16  0]\n",
            " [ 1 57 69  1 70 71 76  1 63 71]\n",
            " [78 65 70 13  0  0  3 53 61 75]\n",
            " [70  1 60 77 74 65 70 63  1 64]\n",
            " [ 1 65 76  1 65 75 11  1 75 65]\n",
            " [ 1 37 76  1 79 57 75  0 71 70]\n",
            " [64 61 70  1 59 71 69 61  1 62]\n",
            " [26  1 58 77 76  1 70 71 79  1]\n",
            " [76  1 65 75 70  7 76 13  1 48]\n",
            " [ 1 75 57 65 60  1 76 71  1 64]]\n",
            "\n",
            "y\n",
            " [[64 57 72 76 61 74  1 16  0  0]\n",
            " [57 69  1 70 71 76  1 63 71 65]\n",
            " [65 70 13  0  0  3 53 61 75 11]\n",
            " [ 1 60 77 74 65 70 63  1 64 65]\n",
            " [65 76  1 65 75 11  1 75 65 74]\n",
            " [37 76  1 79 57 75  0 71 70 68]\n",
            " [61 70  1 59 71 69 61  1 62 71]\n",
            " [ 1 58 77 76  1 70 71 79  1 75]\n",
            " [ 1 65 75 70  7 76 13  1 48 64]\n",
            " [75 57 65 60  1 76 71  1 64 61]]\n"
          ],
          "name": "stdout"
        }
      ]
    },
    {
      "cell_type": "markdown",
      "metadata": {
        "id": "0gJVA590f_S6",
        "colab_type": "text"
      },
      "source": [
        "If you implemented `get_batches` correctly, the above output should look something like \n",
        "```\n",
        "x\n",
        " [[55 63 69 22  6 76 45  5 16 35]\n",
        " [ 5 69  1  5 12 52  6  5 56 52]\n",
        " [48 29 12 61 35 35  8 64 76 78]\n",
        " [12  5 24 39 45 29 12 56  5 63]\n",
        " [ 5 29  6  5 29 78 28  5 78 29]\n",
        " [ 5 13  6  5 36 69 78 35 52 12]\n",
        " [63 76 12  5 18 52  1 76  5 58]\n",
        " [34  5 73 39  6  5 12 52 36  5]\n",
        " [ 6  5 29 78 12 79  6 61  5 59]\n",
        " [ 5 78 69 29 24  5  6 52  5 63]]\n",
        "\n",
        "y\n",
        " [[63 69 22  6 76 45  5 16 35 35]\n",
        " [69  1  5 12 52  6  5 56 52 29]\n",
        " [29 12 61 35 35  8 64 76 78 28]\n",
        " [ 5 24 39 45 29 12 56  5 63 29]\n",
        " [29  6  5 29 78 28  5 78 29 45]\n",
        " [13  6  5 36 69 78 35 52 12 43]\n",
        " [76 12  5 18 52  1 76  5 58 52]\n",
        " [ 5 73 39  6  5 12 52 36  5 78]\n",
        " [ 5 29 78 12 79  6 61  5 59 63]\n",
        " [78 69 29 24  5  6 52  5 63 76]]\n",
        " ```\n",
        " although the exact numbers will be different. Check to make sure the data is shifted over one step for `y`."
      ]
    },
    {
      "cell_type": "markdown",
      "metadata": {
        "id": "RpFx-Cpxf_S7",
        "colab_type": "text"
      },
      "source": [
        "## Building the model\n",
        "\n",
        "Below is where you'll build the network. We'll break it up into parts so it's easier to reason about each bit. Then we can connect them up into the whole network.\n",
        "\n",
        "![image.png](https://upload-images.jianshu.io/upload_images/12735209-c66f87b7942e0ace.png?imageMogr2/auto-orient/strip%7CimageView2/2/w/1240)\n",
        "\n",
        "\n",
        "\n",
        "### Inputs\n",
        "\n",
        "First off we'll create our input placeholders. As usual we need placeholders for the training data and the targets. We'll also create a placeholder for dropout layers called `keep_prob`. This will be a scalar, that is a 0-D tensor. To make a scalar, you create a placeholder without giving it a size.\n",
        "\n",
        "> **Exercise:** Create the input placeholders in the function below."
      ]
    },
    {
      "cell_type": "code",
      "metadata": {
        "id": "802r_yvMf_S8",
        "colab_type": "code",
        "colab": {}
      },
      "source": [
        "def build_inputs(batch_size, num_steps):\n",
        "    ''' Define placeholders for inputs, targets, and dropout \n",
        "    \n",
        "        Arguments\n",
        "        ---------\n",
        "        batch_size: Batch size, number of sequences per batch\n",
        "        num_steps: Number of sequence steps in a batch\n",
        "        \n",
        "    '''\n",
        "    # Declare placeholders we'll feed into the graph\n",
        "    inputs = tf.placeholder(tf.int32, shape=(batch_size, num_steps), name='inputs')\n",
        "    targets = tf.placeholder(tf.int32, shape=(batch_size, num_steps),name='targets')\n",
        "    \n",
        "    # Keep probability placeholder for drop out layers\n",
        "    keep_prob = tf.placeholder(dtype=tf.float32, name='keep_prob')\n",
        "    \n",
        "    return inputs, targets, keep_prob"
      ],
      "execution_count": 0,
      "outputs": []
    },
    {
      "cell_type": "markdown",
      "metadata": {
        "id": "bXZLt7kGf_S9",
        "colab_type": "text"
      },
      "source": [
        "### LSTM Cell\n",
        "\n",
        "Here we will create the LSTM cell we'll use in the hidden layer. We'll use this cell as a building block for the RNN. So we aren't actually defining the RNN here, just the type of cell we'll use in the hidden layer.\n",
        "\n",
        "We first create a basic LSTM cell with\n",
        "\n",
        "```python\n",
        "lstm = tf.contrib.rnn.BasicLSTMCell(num_units)\n",
        "```\n",
        "\n",
        "where `num_units` is the number of units in the hidden layers in the cell. Then we can add dropout by wrapping it with \n",
        "\n",
        "```python\n",
        "tf.contrib.rnn.DropoutWrapper(lstm, output_keep_prob=keep_prob)\n",
        "```\n",
        "You pass in a cell and it will automatically add dropout to the inputs or outputs. Finally, we can stack up the LSTM cells into layers with [`tf.contrib.rnn.MultiRNNCell`](https://www.tensorflow.org/versions/r1.0/api_docs/python/tf/contrib/rnn/MultiRNNCell). With this, you pass in a list of cells and it will send the output of one cell into the next cell. Previously with TensorFlow 1.0, you could do this\n",
        "\n",
        "```python\n",
        "tf.contrib.rnn.MultiRNNCell([cell]*num_layers)\n",
        "```\n",
        "\n",
        "This might look a little weird if you know Python well because this will create a list of the same `cell` object. However, TensorFlow 1.0 will create different weight matrices for all `cell` objects. But, starting with TensorFlow 1.1 you actually need to create new cell objects in the list. To get it to work in TensorFlow 1.1, it should look like\n",
        "\n",
        "```python\n",
        "def build_cell(num_units, keep_prob):\n",
        "    lstm = tf.contrib.rnn.BasicLSTMCell(num_units)\n",
        "    drop = tf.contrib.rnn.DropoutWrapper(lstm, output_keep_prob=keep_prob)\n",
        "    \n",
        "    return drop\n",
        "    \n",
        "tf.contrib.rnn.MultiRNNCell([build_cell(num_units, keep_prob) for _ in range(num_layers)])\n",
        "```\n",
        "\n",
        "Even though this is actually multiple LSTM cells stacked on each other, you can treat the multiple layers as one cell.\n",
        "\n",
        "We also need to create an initial cell state of all zeros. This can be done like so\n",
        "\n",
        "```python\n",
        "initial_state = cell.zero_state(batch_size, tf.float32)\n",
        "```\n",
        "\n",
        "Below, we implement the `build_lstm` function to create these LSTM cells and the initial state."
      ]
    },
    {
      "cell_type": "code",
      "metadata": {
        "id": "WD-7qoWcf_S-",
        "colab_type": "code",
        "colab": {}
      },
      "source": [
        "def build_lstm(lstm_size, num_layers, batch_size, keep_prob):\n",
        "    ''' Build LSTM cell.\n",
        "    \n",
        "        Arguments\n",
        "        ---------\n",
        "        keep_prob: Scalar tensor (tf.placeholder) for the dropout keep probability\n",
        "        lstm_size: Size of the hidden layers in the LSTM cells\n",
        "        num_layers: Number of LSTM layers\n",
        "        batch_size: Batch size\n",
        "\n",
        "    '''\n",
        "    ### Build the LSTM Cell\n",
        "    # Use a basic LSTM cell\n",
        "    def build_cell(lstm_size, keep_prob):\n",
        "        lstm = tf.contrib.rnn.BasicLSTMCell(lstm_size)\n",
        "        \n",
        "        # Add dropout to the cell outputs\n",
        "        drop = tf.contrib.rnn.DropoutWrapper(lstm, output_keep_prob=keep_prob)\n",
        "        return drop\n",
        "    # Stack up multiple LSTM layers, for deep learning\n",
        "    cell = tf.contrib.rnn.MultiRNNCell([build_cell(lstm_size, keep_prob) for _ in range(num_layers)])\n",
        "    initial_state = cell.zero_state(batch_size, tf.float32)\n",
        "    \n",
        "    return cell, initial_state"
      ],
      "execution_count": 0,
      "outputs": []
    },
    {
      "cell_type": "markdown",
      "metadata": {
        "id": "4Wbt9tZ8f_TA",
        "colab_type": "text"
      },
      "source": [
        "### RNN Output\n",
        "\n",
        "Here we'll create the output layer. We need to connect the output of the RNN cells to a full connected layer with a softmax output. The softmax output gives us a probability distribution we can use to predict the next character, so we want this layer to have size $C$, the number of classes/characters we have in our text.\n",
        "\n",
        "If our input has batch size $N$, number of steps $M$, and the hidden layer has $L$ hidden units, then the output is a 3D tensor with size $N \\times M \\times L$. The output of each LSTM cell has size $L$, we have $M$ of them, one for each sequence step, and we have $N$ sequences. So the total size is $N \\times M \\times L$. \n",
        "\n",
        "We are using the same fully connected layer, the same weights, for each of the outputs. Then, to make things easier, we should reshape the outputs into a 2D tensor with shape $(M * N) \\times L$. That is, one row for each sequence and step, where the values of each row are the output from the LSTM cells. We get the LSTM output as a list, `lstm_output`. First we need to concatenate this whole list into one array with [`tf.concat`](https://www.tensorflow.org/api_docs/python/tf/concat). Then, reshape it (with `tf.reshape`) to size $(M * N) \\times L$.\n",
        "\n",
        "One we have the outputs reshaped, we can do the matrix multiplication with the weights. We need to wrap the weight and bias variables in a variable scope with `tf.variable_scope(scope_name)` because there are weights being created in the LSTM cells. TensorFlow will throw an error if the weights created here have the same names as the weights created in the LSTM cells, which they will be default. To avoid this, we wrap the variables in a variable scope so we can give them unique names.\n",
        "\n",
        "> **Exercise:** Implement the output layer in the function below."
      ]
    },
    {
      "cell_type": "code",
      "metadata": {
        "id": "dmT-7hWsf_TA",
        "colab_type": "code",
        "colab": {}
      },
      "source": [
        "def build_output(lstm_output, in_size, out_size):\n",
        "    ''' Build a softmax layer, return the softmax output and logits.\n",
        "    \n",
        "        Arguments\n",
        "        ---------\n",
        "        \n",
        "        lstm_output: List of output tensors from the LSTM layer\n",
        "        in_size: Size of the input tensor, for example, size of the LSTM cells\n",
        "        out_size: Size of this softmax layer\n",
        "    \n",
        "    '''\n",
        "\n",
        "    # Reshape output so it's a bunch of rows, one row for each step for each sequence.\n",
        "    # Concatenate lstm_output over axis 1 (the columns)\n",
        "    seq_output = tf.concat(lstm_output, axis=1) \n",
        "    # Reshape seq_output to a 2D tensor with lstm_size columns\n",
        "    x = tf.reshape(seq_output, (-1, in_size))\n",
        "    \n",
        "    # Connect the RNN outputs to a softmax layer\n",
        "    with tf.variable_scope('softmax'):\n",
        "        # Create the weight and bias variables here\n",
        "        softmax_w = tf.Variable(tf.truncated_normal((in_size, out_size), stddev=0.1))\n",
        "        softmax_b = tf.Variable(tf.zeros(out_size))\n",
        "    \n",
        "    # Since output is a bunch of rows of RNN cell outputs, logits will be a bunch\n",
        "    # of rows of logit outputs, one for each step and sequence\n",
        "    logits = tf.matmul(x, softmax_w) + softmax_b\n",
        "    \n",
        "    # Use softmax to get the probabilities for predicted characters\n",
        "    out = tf.nn.softmax(logits=logits, name='predictions')\n",
        "    \n",
        "    return out, logits"
      ],
      "execution_count": 0,
      "outputs": []
    },
    {
      "cell_type": "markdown",
      "metadata": {
        "id": "6E8xCSewf_TC",
        "colab_type": "text"
      },
      "source": [
        "### Training loss\n",
        "\n",
        "Next up is the training loss. We get the logits and targets and calculate the softmax cross-entropy loss. First we need to one-hot encode the targets, we're getting them as encoded characters. Then, reshape the one-hot targets so it's a 2D tensor with size $(M*N) \\times C$ where $C$ is the number of classes/characters we have. Remember that we reshaped the LSTM outputs and ran them through a fully connected layer with $C$ units. So our logits will also have size $(M*N) \\times C$.\n",
        "\n",
        "Then we run the logits and targets through `tf.nn.softmax_cross_entropy_with_logits` and find the mean to get the loss.\n",
        "\n",
        ">**Exercise:** Implement the loss calculation in the function below."
      ]
    },
    {
      "cell_type": "code",
      "metadata": {
        "id": "wPccMqWIf_TC",
        "colab_type": "code",
        "colab": {}
      },
      "source": [
        "def build_loss(logits, targets, lstm_size, num_classes):\n",
        "    ''' Calculate the loss from the logits and the targets.\n",
        "    \n",
        "        Arguments\n",
        "        ---------\n",
        "        logits: Logits from final fully connected layer\n",
        "        targets: Targets for supervised learning\n",
        "        lstm_size: Number of LSTM hidden units\n",
        "        num_classes: Number of classes in targets\n",
        "        \n",
        "    '''\n",
        "    \n",
        "    # One-hot encode targets and reshape to match logits, one row per sequence per step\n",
        "    y_one_hot = tf.one_hot(targets, num_classes)\n",
        "    y_reshaped =  tf.reshape(y_one_hot, logits.get_shape())\n",
        "    \n",
        "    # Softmax cross entropy loss\n",
        "    loss = tf.reduce_sum(tf.nn.softmax_cross_entropy_with_logits(labels=y_reshaped, logits=logits, dim=1))\n",
        "    \n",
        "    return loss"
      ],
      "execution_count": 0,
      "outputs": []
    },
    {
      "cell_type": "markdown",
      "metadata": {
        "id": "SiGOjP_Cf_TE",
        "colab_type": "text"
      },
      "source": [
        "### Optimizer\n",
        "\n",
        "Here we build the optimizer. Normal RNNs have have issues gradients exploding and disappearing. LSTMs fix the disappearance problem, but the gradients can still grow without bound. To fix this, we can clip the gradients above some threshold. That is, if a gradient is larger than that threshold, we set it to the threshold. This will ensure the gradients never grow overly large. Then we use an AdamOptimizer for the learning step."
      ]
    },
    {
      "cell_type": "code",
      "metadata": {
        "id": "AZ7S8pw7f_TF",
        "colab_type": "code",
        "colab": {}
      },
      "source": [
        "def build_optimizer(loss, learning_rate, grad_clip):\n",
        "    ''' Build optmizer for training, using gradient clipping.\n",
        "    \n",
        "        Arguments:\n",
        "        loss: Network loss\n",
        "        learning_rate: Learning rate for optimizer\n",
        "    \n",
        "    '''\n",
        "    \n",
        "    # Optimizer for training, using gradient clipping to control exploding gradients\n",
        "    tvars = tf.trainable_variables()\n",
        "    grads, _ = tf.clip_by_global_norm(tf.gradients(loss, tvars), grad_clip)\n",
        "    train_op = tf.train.AdamOptimizer(learning_rate)\n",
        "    optimizer = train_op.apply_gradients(zip(grads, tvars))\n",
        "    \n",
        "    return optimizer"
      ],
      "execution_count": 0,
      "outputs": []
    },
    {
      "cell_type": "markdown",
      "metadata": {
        "id": "MnrA2DxNf_TH",
        "colab_type": "text"
      },
      "source": [
        "### Build the network\n",
        "\n",
        "Now we can put all the pieces together and build a class for the network. To actually run data through the LSTM cells, we will use [`tf.nn.dynamic_rnn`](https://www.tensorflow.org/versions/r1.0/api_docs/python/tf/nn/dynamic_rnn). This function will pass the hidden and cell states across LSTM cells appropriately for us. It returns the outputs for each LSTM cell at each step for each sequence in the mini-batch. It also gives us the final LSTM state. We want to save this state as `final_state` so we can pass it to the first LSTM cell in the the next mini-batch run. For `tf.nn.dynamic_rnn`, we pass in the cell and initial state we get from `build_lstm`, as well as our input sequences. Also, we need to one-hot encode the inputs before going into the RNN. \n",
        "\n",
        "> **Exercise:** Use the functions you've implemented previously and `tf.nn.dynamic_rnn` to build the network."
      ]
    },
    {
      "cell_type": "code",
      "metadata": {
        "id": "bH38E_9zf_TH",
        "colab_type": "code",
        "colab": {}
      },
      "source": [
        "class CharRNN:\n",
        "    \n",
        "    def __init__(self, num_classes, batch_size=64, num_steps=50, \n",
        "                       lstm_size=128, num_layers=2, learning_rate=0.001, \n",
        "                       grad_clip=5, sampling=False):\n",
        "    \n",
        "        # When we're using this network for sampling later, we'll be passing in\n",
        "        # one character at a time, so providing an option for that\n",
        "        if sampling == True:\n",
        "            batch_size, num_steps = 1, 1\n",
        "        else:\n",
        "            batch_size, num_steps = batch_size, num_steps\n",
        "\n",
        "        tf.reset_default_graph()\n",
        "        \n",
        "        # Build the input placeholder tensors\n",
        "        self.inputs, self.targets, self.keep_prob = build_inputs(batch_size, num_steps)\n",
        "\n",
        "        # Build the LSTM cell\n",
        "        cell, self.initial_state = build_lstm(lstm_size, num_layers, batch_size, keep_prob)\n",
        "\n",
        "        ### Run the data through the RNN layers\n",
        "        # First, one-hot encode the input tokens\n",
        "        x_one_hot = tf.one_hot(self.inputs, num_classes)\n",
        "        \n",
        "        # Run each sequence step through the RNN with tf.nn.dynamic_rnn \n",
        "        outputs, state = tf.nn.dynamic_rnn(cell, x_one_hot, initial_state=self.initial_state)\n",
        "        self.final_state = state\n",
        "        \n",
        "        # Get softmax predictions and logits\n",
        "        self.prediction, self.logits = build_output(outputs, lstm_size, num_classes)\n",
        "        \n",
        "        # Loss and optimizer (with gradient clipping)\n",
        "        self.loss = build_loss(self.logits, self.targets, lstm_size, num_classes)\n",
        "        self.optimizer = build_optimizer(self.loss, learning_rate, grad_clip)"
      ],
      "execution_count": 0,
      "outputs": []
    },
    {
      "cell_type": "markdown",
      "metadata": {
        "id": "mPZZPJQWf_TJ",
        "colab_type": "text"
      },
      "source": [
        "## Hyperparameters\n",
        "\n",
        "Here are the hyperparameters for the network.\n",
        "\n",
        "* `batch_size` - Number of sequences running through the network in one pass.\n",
        "* `num_steps` - Number of characters in the sequence the network is trained on. Larger is better typically, the network will learn more long range dependencies. But it takes longer to train. 100 is typically a good number here.\n",
        "* `lstm_size` - The number of units in the hidden layers.\n",
        "* `num_layers` - Number of hidden LSTM layers to use\n",
        "* `learning_rate` - Learning rate for training\n",
        "* `keep_prob` - The dropout keep probability when training. If you're network is overfitting, try decreasing this.\n",
        "\n",
        "Here's some good advice from Andrej Karpathy on training the network. I'm going to copy it in here for your benefit, but also link to [where it originally came from](https://github.com/karpathy/char-rnn#tips-and-tricks).\n",
        "\n",
        "> ## Tips and Tricks\n",
        "\n",
        ">### Monitoring Validation Loss vs. Training Loss\n",
        ">If you're somewhat new to Machine Learning or Neural Networks it can take a bit of expertise to get good models. The most important quantity to keep track of is the difference between your training loss (printed during training) and the validation loss (printed once in a while when the RNN is run on the validation data (by default every 1000 iterations)). In particular:\n",
        "\n",
        "> - If your training loss is much lower than validation loss then this means the network might be **overfitting**. Solutions to this are to decrease your network size, or to increase dropout. For example you could try dropout of 0.5 and so on.\n",
        "> - If your training/validation loss are about equal then your model is **underfitting**. Increase the size of your model (either number of layers or the raw number of neurons per layer)\n",
        "\n",
        "> ### Approximate number of parameters\n",
        "\n",
        "> The two most important parameters that control the model are `lstm_size` and `num_layers`. I would advise that you always use `num_layers` of either 2/3. The `lstm_size` can be adjusted based on how much data you have. The two important quantities to keep track of here are:\n",
        "\n",
        "> - The number of parameters in your model. This is printed when you start training.\n",
        "> - The size of your dataset. 1MB file is approximately 1 million characters.\n",
        "\n",
        ">These two should be about the same order of magnitude. It's a little tricky to tell. Here are some examples:\n",
        "\n",
        "> - I have a 100MB dataset and I'm using the default parameter settings (which currently print 150K parameters). My data size is significantly larger (100 mil >> 0.15 mil), so I expect to heavily underfit. I am thinking I can comfortably afford to make `lstm_size` larger.\n",
        "> - I have a 10MB dataset and running a 10 million parameter model. I'm slightly nervous and I'm carefully monitoring my validation loss. If it's larger than my training loss then I may want to try to increase dropout a bit and see if that helps the validation loss.\n",
        "\n",
        "> ### Best models strategy\n",
        "\n",
        ">The winning strategy to obtaining very good models (if you have the compute time) is to always err on making the network larger (as large as you're willing to wait for it to compute) and then try different dropout values (between 0,1). Whatever model has the best validation performance (the loss, written in the checkpoint filename, low is good) is the one you should use in the end.\n",
        "\n",
        ">It is very common in deep learning to run many different models with many different hyperparameter settings, and in the end take whatever checkpoint gave the best validation performance.\n",
        "\n",
        ">By the way, the size of your training and validation splits are also parameters. Make sure you have a decent amount of data in your validation set or otherwise the validation performance will be noisy and not very informative."
      ]
    },
    {
      "cell_type": "code",
      "metadata": {
        "id": "UGfkuc1hf_TJ",
        "colab_type": "code",
        "colab": {}
      },
      "source": [
        "batch_size = 10         # Sequences per batch\n",
        "num_steps = 50          # Number of sequence steps per batch\n",
        "lstm_size = 128         # Size of hidden layers in LSTMs\n",
        "num_layers = 2          # Number of LSTM layers\n",
        "learning_rate = 0.01    # Learning rate\n",
        "keep_prob = 0.5         # Dropout keep probability"
      ],
      "execution_count": 0,
      "outputs": []
    },
    {
      "cell_type": "markdown",
      "metadata": {
        "id": "4wq0r-bpf_TM",
        "colab_type": "text"
      },
      "source": [
        "## Time for training\n",
        "\n",
        "This is typical training code, passing inputs and targets into the network, then running the optimizer. Here we also get back the final LSTM state for the mini-batch. Then, we pass that state back into the network so the next batch can continue the state from the previous batch. And every so often (set by `save_every_n`) I save a checkpoint.\n",
        "\n",
        "Here I'm saving checkpoints with the format\n",
        "\n",
        "`i{iteration number}_l{# hidden layer units}.ckpt`\n",
        "\n",
        "> **Exercise:** Set the hyperparameters above to train the network. Watch the training loss, it should be consistently dropping. Also, I highly advise running this on a GPU."
      ]
    },
    {
      "cell_type": "code",
      "metadata": {
        "scrolled": true,
        "id": "5wgHonu-f_TM",
        "colab_type": "code",
        "colab": {
          "base_uri": "https://localhost:8080/",
          "height": 1000
        },
        "outputId": "69d3c23c-21f4-482a-c79e-cf3cc05c20e4"
      },
      "source": [
        "epochs = 20\n",
        "# Print losses every N interations\n",
        "print_every_n = 50\n",
        "\n",
        "# Save every N iterations\n",
        "save_every_n = 200\n",
        "\n",
        "model = CharRNN(len(vocab), batch_size=batch_size, num_steps=num_steps,\n",
        "                lstm_size=lstm_size, num_layers=num_layers, \n",
        "                learning_rate=learning_rate)\n",
        "\n",
        "saver = tf.train.Saver(max_to_keep=100)\n",
        "with tf.Session() as sess:\n",
        "    sess.run(tf.global_variables_initializer())\n",
        "    \n",
        "    # Use the line below to load a checkpoint and resume training\n",
        "    #saver.restore(sess, 'checkpoints/______.ckpt')\n",
        "    counter = 0\n",
        "    for e in range(epochs):\n",
        "        # Train network\n",
        "        new_state = sess.run(model.initial_state)\n",
        "        loss = 0\n",
        "        for x, y in get_batches(encoded, batch_size, num_steps):\n",
        "            counter += 1\n",
        "            start = time.time()\n",
        "            feed = {model.inputs: x,\n",
        "                    model.targets: y,\n",
        "                    model.keep_prob: keep_prob,\n",
        "                    model.initial_state: new_state}\n",
        "            batch_loss, new_state, _ = sess.run([model.loss, \n",
        "                                                 model.final_state, \n",
        "                                                 model.optimizer], \n",
        "                                                 feed_dict=feed)\n",
        "            if (counter % print_every_n == 0):\n",
        "                end = time.time()\n",
        "                print('Epoch: {}/{}... '.format(e+1, epochs),\n",
        "                      'Training Step: {}... '.format(counter),\n",
        "                      'Training loss: {:.4f}... '.format(batch_loss),\n",
        "                      '{:.4f} sec/batch'.format((end-start)))\n",
        "        \n",
        "            if (counter % save_every_n == 0):\n",
        "                saver.save(sess, \"checkpoints/i{}_l{}.ckpt\".format(counter, lstm_size))\n",
        "    \n",
        "    saver.save(sess, \"checkpoints/i{}_l{}.ckpt\".format(counter, lstm_size))"
      ],
      "execution_count": 0,
      "outputs": [
        {
          "output_type": "stream",
          "text": [
            "WARNING:tensorflow:From <ipython-input-49-2faa37301da9>:18: softmax_cross_entropy_with_logits (from tensorflow.python.ops.nn_ops) is deprecated and will be removed in a future version.\n",
            "Instructions for updating:\n",
            "\n",
            "Future major versions of TensorFlow will allow gradients to flow\n",
            "into the labels input on backprop by default.\n",
            "\n",
            "See `tf.nn.softmax_cross_entropy_with_logits_v2`.\n",
            "\n",
            "WARNING:tensorflow:From /usr/local/lib/python3.6/dist-packages/tensorflow/python/ops/clip_ops.py:286: add_dispatch_support.<locals>.wrapper (from tensorflow.python.ops.array_ops) is deprecated and will be removed in a future version.\n",
            "Instructions for updating:\n",
            "Use tf.where in 2.0, which has the same broadcast rule as np.where\n",
            "Epoch: 1/20...  Training Step: 50...  Training loss: 1542.3219...  0.0865 sec/batch\n",
            "Epoch: 1/20...  Training Step: 100...  Training loss: 1284.8624...  0.0863 sec/batch\n",
            "Epoch: 1/20...  Training Step: 150...  Training loss: 1181.5859...  0.0899 sec/batch\n",
            "Epoch: 1/20...  Training Step: 200...  Training loss: 1195.8987...  0.0862 sec/batch\n",
            "Epoch: 1/20...  Training Step: 250...  Training loss: 1138.3860...  0.0877 sec/batch\n",
            "Epoch: 1/20...  Training Step: 300...  Training loss: 1061.1012...  0.0851 sec/batch\n",
            "Epoch: 1/20...  Training Step: 350...  Training loss: 1057.0781...  0.0857 sec/batch\n",
            "Epoch: 1/20...  Training Step: 400...  Training loss: 1056.6691...  0.0863 sec/batch\n",
            "Epoch: 1/20...  Training Step: 450...  Training loss: 1095.5996...  0.0830 sec/batch\n",
            "Epoch: 1/20...  Training Step: 500...  Training loss: 1113.9922...  0.0872 sec/batch\n",
            "Epoch: 1/20...  Training Step: 550...  Training loss: 963.0806...  0.0869 sec/batch\n",
            "Epoch: 1/20...  Training Step: 600...  Training loss: 896.5059...  0.0825 sec/batch\n",
            "Epoch: 1/20...  Training Step: 650...  Training loss: 926.2819...  0.0858 sec/batch\n",
            "Epoch: 1/20...  Training Step: 700...  Training loss: 954.9654...  0.0842 sec/batch\n",
            "Epoch: 1/20...  Training Step: 750...  Training loss: 1009.7968...  0.0857 sec/batch\n",
            "Epoch: 1/20...  Training Step: 800...  Training loss: 980.8322...  0.0849 sec/batch\n",
            "Epoch: 1/20...  Training Step: 850...  Training loss: 1027.9860...  0.0858 sec/batch\n",
            "Epoch: 1/20...  Training Step: 900...  Training loss: 935.6875...  0.0862 sec/batch\n",
            "Epoch: 1/20...  Training Step: 950...  Training loss: 969.2404...  0.0836 sec/batch\n",
            "Epoch: 1/20...  Training Step: 1000...  Training loss: 937.8135...  0.0854 sec/batch\n",
            "Epoch: 1/20...  Training Step: 1050...  Training loss: 953.0619...  0.0838 sec/batch\n",
            "Epoch: 1/20...  Training Step: 1100...  Training loss: 943.0525...  0.0837 sec/batch\n",
            "Epoch: 1/20...  Training Step: 1150...  Training loss: 977.7495...  0.0845 sec/batch\n",
            "Epoch: 1/20...  Training Step: 1200...  Training loss: 929.7187...  0.0837 sec/batch\n",
            "Epoch: 1/20...  Training Step: 1250...  Training loss: 829.6107...  0.0869 sec/batch\n",
            "Epoch: 1/20...  Training Step: 1300...  Training loss: 895.3698...  0.0863 sec/batch\n",
            "Epoch: 1/20...  Training Step: 1350...  Training loss: 863.4623...  0.0855 sec/batch\n",
            "Epoch: 1/20...  Training Step: 1400...  Training loss: 969.3239...  0.0843 sec/batch\n",
            "Epoch: 1/20...  Training Step: 1450...  Training loss: 897.6523...  0.0813 sec/batch\n",
            "Epoch: 1/20...  Training Step: 1500...  Training loss: 952.3271...  0.0930 sec/batch\n",
            "Epoch: 1/20...  Training Step: 1550...  Training loss: 895.6071...  0.0888 sec/batch\n",
            "Epoch: 1/20...  Training Step: 1600...  Training loss: 944.0707...  0.0837 sec/batch\n",
            "Epoch: 1/20...  Training Step: 1650...  Training loss: 868.1235...  0.0824 sec/batch\n",
            "Epoch: 1/20...  Training Step: 1700...  Training loss: 895.0247...  0.0855 sec/batch\n",
            "Epoch: 1/20...  Training Step: 1750...  Training loss: 922.8366...  0.0874 sec/batch\n",
            "Epoch: 1/20...  Training Step: 1800...  Training loss: 925.2108...  0.0859 sec/batch\n",
            "Epoch: 1/20...  Training Step: 1850...  Training loss: 932.4876...  0.0840 sec/batch\n",
            "Epoch: 1/20...  Training Step: 1900...  Training loss: 805.1084...  0.0855 sec/batch\n",
            "Epoch: 1/20...  Training Step: 1950...  Training loss: 859.2159...  0.0991 sec/batch\n",
            "Epoch: 1/20...  Training Step: 2000...  Training loss: 884.9590...  0.0885 sec/batch\n",
            "Epoch: 1/20...  Training Step: 2050...  Training loss: 960.3200...  0.0839 sec/batch\n",
            "Epoch: 1/20...  Training Step: 2100...  Training loss: 888.7858...  0.0877 sec/batch\n",
            "Epoch: 1/20...  Training Step: 2150...  Training loss: 878.2549...  0.0841 sec/batch\n",
            "Epoch: 1/20...  Training Step: 2200...  Training loss: 863.2261...  0.0879 sec/batch\n",
            "Epoch: 1/20...  Training Step: 2250...  Training loss: 888.2692...  0.0870 sec/batch\n",
            "Epoch: 1/20...  Training Step: 2300...  Training loss: 845.5599...  0.0854 sec/batch\n",
            "Epoch: 1/20...  Training Step: 2350...  Training loss: 940.8090...  0.0867 sec/batch\n",
            "Epoch: 1/20...  Training Step: 2400...  Training loss: 916.6687...  0.0840 sec/batch\n",
            "Epoch: 1/20...  Training Step: 2450...  Training loss: 970.5088...  0.0819 sec/batch\n",
            "Epoch: 1/20...  Training Step: 2500...  Training loss: 843.4070...  0.0831 sec/batch\n"
          ],
          "name": "stdout"
        },
        {
          "output_type": "error",
          "ename": "KeyboardInterrupt",
          "evalue": "ignored",
          "traceback": [
            "\u001b[0;31m---------------------------------------------------------------------------\u001b[0m",
            "\u001b[0;31mKeyboardInterrupt\u001b[0m                         Traceback (most recent call last)",
            "\u001b[0;32m<ipython-input-52-6fbd3ad10191>\u001b[0m in \u001b[0;36m<module>\u001b[0;34m()\u001b[0m\n\u001b[1;32m     31\u001b[0m                                                  \u001b[0mmodel\u001b[0m\u001b[0;34m.\u001b[0m\u001b[0mfinal_state\u001b[0m\u001b[0;34m,\u001b[0m\u001b[0;34m\u001b[0m\u001b[0;34m\u001b[0m\u001b[0m\n\u001b[1;32m     32\u001b[0m                                                  model.optimizer], \n\u001b[0;32m---> 33\u001b[0;31m                                                  feed_dict=feed)\n\u001b[0m\u001b[1;32m     34\u001b[0m             \u001b[0;32mif\u001b[0m \u001b[0;34m(\u001b[0m\u001b[0mcounter\u001b[0m \u001b[0;34m%\u001b[0m \u001b[0mprint_every_n\u001b[0m \u001b[0;34m==\u001b[0m \u001b[0;36m0\u001b[0m\u001b[0;34m)\u001b[0m\u001b[0;34m:\u001b[0m\u001b[0;34m\u001b[0m\u001b[0;34m\u001b[0m\u001b[0m\n\u001b[1;32m     35\u001b[0m                 \u001b[0mend\u001b[0m \u001b[0;34m=\u001b[0m \u001b[0mtime\u001b[0m\u001b[0;34m.\u001b[0m\u001b[0mtime\u001b[0m\u001b[0;34m(\u001b[0m\u001b[0;34m)\u001b[0m\u001b[0;34m\u001b[0m\u001b[0;34m\u001b[0m\u001b[0m\n",
            "\u001b[0;32m/usr/local/lib/python3.6/dist-packages/tensorflow/python/client/session.py\u001b[0m in \u001b[0;36mrun\u001b[0;34m(self, fetches, feed_dict, options, run_metadata)\u001b[0m\n\u001b[1;32m    948\u001b[0m     \u001b[0;32mtry\u001b[0m\u001b[0;34m:\u001b[0m\u001b[0;34m\u001b[0m\u001b[0;34m\u001b[0m\u001b[0m\n\u001b[1;32m    949\u001b[0m       result = self._run(None, fetches, feed_dict, options_ptr,\n\u001b[0;32m--> 950\u001b[0;31m                          run_metadata_ptr)\n\u001b[0m\u001b[1;32m    951\u001b[0m       \u001b[0;32mif\u001b[0m \u001b[0mrun_metadata\u001b[0m\u001b[0;34m:\u001b[0m\u001b[0;34m\u001b[0m\u001b[0;34m\u001b[0m\u001b[0m\n\u001b[1;32m    952\u001b[0m         \u001b[0mproto_data\u001b[0m \u001b[0;34m=\u001b[0m \u001b[0mtf_session\u001b[0m\u001b[0;34m.\u001b[0m\u001b[0mTF_GetBuffer\u001b[0m\u001b[0;34m(\u001b[0m\u001b[0mrun_metadata_ptr\u001b[0m\u001b[0;34m)\u001b[0m\u001b[0;34m\u001b[0m\u001b[0;34m\u001b[0m\u001b[0m\n",
            "\u001b[0;32m/usr/local/lib/python3.6/dist-packages/tensorflow/python/client/session.py\u001b[0m in \u001b[0;36m_run\u001b[0;34m(self, handle, fetches, feed_dict, options, run_metadata)\u001b[0m\n\u001b[1;32m   1171\u001b[0m     \u001b[0;32mif\u001b[0m \u001b[0mfinal_fetches\u001b[0m \u001b[0;32mor\u001b[0m \u001b[0mfinal_targets\u001b[0m \u001b[0;32mor\u001b[0m \u001b[0;34m(\u001b[0m\u001b[0mhandle\u001b[0m \u001b[0;32mand\u001b[0m \u001b[0mfeed_dict_tensor\u001b[0m\u001b[0;34m)\u001b[0m\u001b[0;34m:\u001b[0m\u001b[0;34m\u001b[0m\u001b[0;34m\u001b[0m\u001b[0m\n\u001b[1;32m   1172\u001b[0m       results = self._do_run(handle, final_targets, final_fetches,\n\u001b[0;32m-> 1173\u001b[0;31m                              feed_dict_tensor, options, run_metadata)\n\u001b[0m\u001b[1;32m   1174\u001b[0m     \u001b[0;32melse\u001b[0m\u001b[0;34m:\u001b[0m\u001b[0;34m\u001b[0m\u001b[0;34m\u001b[0m\u001b[0m\n\u001b[1;32m   1175\u001b[0m       \u001b[0mresults\u001b[0m \u001b[0;34m=\u001b[0m \u001b[0;34m[\u001b[0m\u001b[0;34m]\u001b[0m\u001b[0;34m\u001b[0m\u001b[0;34m\u001b[0m\u001b[0m\n",
            "\u001b[0;32m/usr/local/lib/python3.6/dist-packages/tensorflow/python/client/session.py\u001b[0m in \u001b[0;36m_do_run\u001b[0;34m(self, handle, target_list, fetch_list, feed_dict, options, run_metadata)\u001b[0m\n\u001b[1;32m   1348\u001b[0m     \u001b[0;32mif\u001b[0m \u001b[0mhandle\u001b[0m \u001b[0;32mis\u001b[0m \u001b[0;32mNone\u001b[0m\u001b[0;34m:\u001b[0m\u001b[0;34m\u001b[0m\u001b[0;34m\u001b[0m\u001b[0m\n\u001b[1;32m   1349\u001b[0m       return self._do_call(_run_fn, feeds, fetches, targets, options,\n\u001b[0;32m-> 1350\u001b[0;31m                            run_metadata)\n\u001b[0m\u001b[1;32m   1351\u001b[0m     \u001b[0;32melse\u001b[0m\u001b[0;34m:\u001b[0m\u001b[0;34m\u001b[0m\u001b[0;34m\u001b[0m\u001b[0m\n\u001b[1;32m   1352\u001b[0m       \u001b[0;32mreturn\u001b[0m \u001b[0mself\u001b[0m\u001b[0;34m.\u001b[0m\u001b[0m_do_call\u001b[0m\u001b[0;34m(\u001b[0m\u001b[0m_prun_fn\u001b[0m\u001b[0;34m,\u001b[0m \u001b[0mhandle\u001b[0m\u001b[0;34m,\u001b[0m \u001b[0mfeeds\u001b[0m\u001b[0;34m,\u001b[0m \u001b[0mfetches\u001b[0m\u001b[0;34m)\u001b[0m\u001b[0;34m\u001b[0m\u001b[0;34m\u001b[0m\u001b[0m\n",
            "\u001b[0;32m/usr/local/lib/python3.6/dist-packages/tensorflow/python/client/session.py\u001b[0m in \u001b[0;36m_do_call\u001b[0;34m(self, fn, *args)\u001b[0m\n\u001b[1;32m   1354\u001b[0m   \u001b[0;32mdef\u001b[0m \u001b[0m_do_call\u001b[0m\u001b[0;34m(\u001b[0m\u001b[0mself\u001b[0m\u001b[0;34m,\u001b[0m \u001b[0mfn\u001b[0m\u001b[0;34m,\u001b[0m \u001b[0;34m*\u001b[0m\u001b[0margs\u001b[0m\u001b[0;34m)\u001b[0m\u001b[0;34m:\u001b[0m\u001b[0;34m\u001b[0m\u001b[0;34m\u001b[0m\u001b[0m\n\u001b[1;32m   1355\u001b[0m     \u001b[0;32mtry\u001b[0m\u001b[0;34m:\u001b[0m\u001b[0;34m\u001b[0m\u001b[0;34m\u001b[0m\u001b[0m\n\u001b[0;32m-> 1356\u001b[0;31m       \u001b[0;32mreturn\u001b[0m \u001b[0mfn\u001b[0m\u001b[0;34m(\u001b[0m\u001b[0;34m*\u001b[0m\u001b[0margs\u001b[0m\u001b[0;34m)\u001b[0m\u001b[0;34m\u001b[0m\u001b[0;34m\u001b[0m\u001b[0m\n\u001b[0m\u001b[1;32m   1357\u001b[0m     \u001b[0;32mexcept\u001b[0m \u001b[0merrors\u001b[0m\u001b[0;34m.\u001b[0m\u001b[0mOpError\u001b[0m \u001b[0;32mas\u001b[0m \u001b[0me\u001b[0m\u001b[0;34m:\u001b[0m\u001b[0;34m\u001b[0m\u001b[0;34m\u001b[0m\u001b[0m\n\u001b[1;32m   1358\u001b[0m       \u001b[0mmessage\u001b[0m \u001b[0;34m=\u001b[0m \u001b[0mcompat\u001b[0m\u001b[0;34m.\u001b[0m\u001b[0mas_text\u001b[0m\u001b[0;34m(\u001b[0m\u001b[0me\u001b[0m\u001b[0;34m.\u001b[0m\u001b[0mmessage\u001b[0m\u001b[0;34m)\u001b[0m\u001b[0;34m\u001b[0m\u001b[0;34m\u001b[0m\u001b[0m\n",
            "\u001b[0;32m/usr/local/lib/python3.6/dist-packages/tensorflow/python/client/session.py\u001b[0m in \u001b[0;36m_run_fn\u001b[0;34m(feed_dict, fetch_list, target_list, options, run_metadata)\u001b[0m\n\u001b[1;32m   1339\u001b[0m       \u001b[0mself\u001b[0m\u001b[0;34m.\u001b[0m\u001b[0m_extend_graph\u001b[0m\u001b[0;34m(\u001b[0m\u001b[0;34m)\u001b[0m\u001b[0;34m\u001b[0m\u001b[0;34m\u001b[0m\u001b[0m\n\u001b[1;32m   1340\u001b[0m       return self._call_tf_sessionrun(\n\u001b[0;32m-> 1341\u001b[0;31m           options, feed_dict, fetch_list, target_list, run_metadata)\n\u001b[0m\u001b[1;32m   1342\u001b[0m \u001b[0;34m\u001b[0m\u001b[0m\n\u001b[1;32m   1343\u001b[0m     \u001b[0;32mdef\u001b[0m \u001b[0m_prun_fn\u001b[0m\u001b[0;34m(\u001b[0m\u001b[0mhandle\u001b[0m\u001b[0;34m,\u001b[0m \u001b[0mfeed_dict\u001b[0m\u001b[0;34m,\u001b[0m \u001b[0mfetch_list\u001b[0m\u001b[0;34m)\u001b[0m\u001b[0;34m:\u001b[0m\u001b[0;34m\u001b[0m\u001b[0;34m\u001b[0m\u001b[0m\n",
            "\u001b[0;32m/usr/local/lib/python3.6/dist-packages/tensorflow/python/client/session.py\u001b[0m in \u001b[0;36m_call_tf_sessionrun\u001b[0;34m(self, options, feed_dict, fetch_list, target_list, run_metadata)\u001b[0m\n\u001b[1;32m   1427\u001b[0m     return tf_session.TF_SessionRun_wrapper(\n\u001b[1;32m   1428\u001b[0m         \u001b[0mself\u001b[0m\u001b[0;34m.\u001b[0m\u001b[0m_session\u001b[0m\u001b[0;34m,\u001b[0m \u001b[0moptions\u001b[0m\u001b[0;34m,\u001b[0m \u001b[0mfeed_dict\u001b[0m\u001b[0;34m,\u001b[0m \u001b[0mfetch_list\u001b[0m\u001b[0;34m,\u001b[0m \u001b[0mtarget_list\u001b[0m\u001b[0;34m,\u001b[0m\u001b[0;34m\u001b[0m\u001b[0;34m\u001b[0m\u001b[0m\n\u001b[0;32m-> 1429\u001b[0;31m         run_metadata)\n\u001b[0m\u001b[1;32m   1430\u001b[0m \u001b[0;34m\u001b[0m\u001b[0m\n\u001b[1;32m   1431\u001b[0m   \u001b[0;32mdef\u001b[0m \u001b[0m_call_tf_sessionprun\u001b[0m\u001b[0;34m(\u001b[0m\u001b[0mself\u001b[0m\u001b[0;34m,\u001b[0m \u001b[0mhandle\u001b[0m\u001b[0;34m,\u001b[0m \u001b[0mfeed_dict\u001b[0m\u001b[0;34m,\u001b[0m \u001b[0mfetch_list\u001b[0m\u001b[0;34m)\u001b[0m\u001b[0;34m:\u001b[0m\u001b[0;34m\u001b[0m\u001b[0;34m\u001b[0m\u001b[0m\n",
            "\u001b[0;31mKeyboardInterrupt\u001b[0m: "
          ]
        }
      ]
    },
    {
      "cell_type": "markdown",
      "metadata": {
        "id": "z-hkwzK8f_TP",
        "colab_type": "text"
      },
      "source": [
        "#### Saved checkpoints\n",
        "\n",
        "Read up on saving and loading checkpoints here: https://www.tensorflow.org/programmers_guide/variables"
      ]
    },
    {
      "cell_type": "code",
      "metadata": {
        "id": "7DP--EFjf_TP",
        "colab_type": "code",
        "colab": {}
      },
      "source": [
        "tf.train.get_checkpoint_state('checkpoints')"
      ],
      "execution_count": 0,
      "outputs": []
    },
    {
      "cell_type": "markdown",
      "metadata": {
        "id": "J5efTU11f_TR",
        "colab_type": "text"
      },
      "source": [
        "## Sampling\n",
        "\n",
        "Now that the network is trained, we'll can use it to generate new text. The idea is that we pass in a character, then the network will predict the next character. We can use the new one, to predict the next one. And we keep doing this to generate all new text. I also included some functionality to prime the network with some text by passing in a string and building up a state from that.\n",
        "\n",
        "The network gives us predictions for each character. To reduce noise and make things a little less random, I'm going to only choose a new character from the top N most likely characters.\n",
        "\n"
      ]
    },
    {
      "cell_type": "code",
      "metadata": {
        "id": "BaMHMzOTf_TS",
        "colab_type": "code",
        "colab": {}
      },
      "source": [
        "def pick_top_n(preds, vocab_size, top_n=5):\n",
        "    p = np.squeeze(preds)\n",
        "    p[np.argsort(p)[:-top_n]] = 0\n",
        "    p = p / np.sum(p)\n",
        "    c = np.random.choice(vocab_size, 1, p=p)[0]\n",
        "    return c"
      ],
      "execution_count": 0,
      "outputs": []
    },
    {
      "cell_type": "code",
      "metadata": {
        "id": "r3hUcw8hf_TU",
        "colab_type": "code",
        "colab": {}
      },
      "source": [
        "def sample(checkpoint, n_samples, lstm_size, vocab_size, prime=\"The \"):\n",
        "    samples = [c for c in prime]\n",
        "    model = CharRNN(len(vocab), lstm_size=lstm_size, sampling=True)\n",
        "    saver = tf.train.Saver()\n",
        "    with tf.Session() as sess:\n",
        "        saver.restore(sess, checkpoint)\n",
        "        new_state = sess.run(model.initial_state)\n",
        "        for c in prime:\n",
        "            x = np.zeros((1, 1))\n",
        "            x[0,0] = vocab_to_int[c]\n",
        "            feed = {model.inputs: x,\n",
        "                    model.keep_prob: 1.,\n",
        "                    model.initial_state: new_state}\n",
        "            preds, new_state = sess.run([model.prediction, model.final_state], \n",
        "                                         feed_dict=feed)\n",
        "\n",
        "        c = pick_top_n(preds, len(vocab))\n",
        "        samples.append(int_to_vocab[c])\n",
        "\n",
        "        for i in range(n_samples):\n",
        "            x[0,0] = c\n",
        "            feed = {model.inputs: x,\n",
        "                    model.keep_prob: 1.,\n",
        "                    model.initial_state: new_state}\n",
        "            preds, new_state = sess.run([model.prediction, model.final_state], \n",
        "                                         feed_dict=feed)\n",
        "\n",
        "            c = pick_top_n(preds, len(vocab))\n",
        "            samples.append(int_to_vocab[c])\n",
        "        \n",
        "    return ''.join(samples)"
      ],
      "execution_count": 0,
      "outputs": []
    },
    {
      "cell_type": "markdown",
      "metadata": {
        "id": "H8D06u_9f_TW",
        "colab_type": "text"
      },
      "source": [
        "Here, pass in the path to a checkpoint and sample from the network."
      ]
    },
    {
      "cell_type": "code",
      "metadata": {
        "id": "JpvZti0cf_TW",
        "colab_type": "code",
        "colab": {}
      },
      "source": [
        "tf.train.latest_checkpoint('checkpoints')"
      ],
      "execution_count": 0,
      "outputs": []
    },
    {
      "cell_type": "code",
      "metadata": {
        "id": "Pj9g4j8vf_TY",
        "colab_type": "code",
        "colab": {}
      },
      "source": [
        "checkpoint = tf.train.latest_checkpoint('checkpoints')\n",
        "samp = sample(checkpoint, 2000, lstm_size, len(vocab), prime=\"Far\")\n",
        "print(samp)"
      ],
      "execution_count": 0,
      "outputs": []
    },
    {
      "cell_type": "code",
      "metadata": {
        "id": "DOdGCC_Rf_TZ",
        "colab_type": "code",
        "colab": {}
      },
      "source": [
        "checkpoint = 'checkpoints/i200_l512.ckpt'\n",
        "samp = sample(checkpoint, 1000, lstm_size, len(vocab), prime=\"Far\")\n",
        "print(samp)"
      ],
      "execution_count": 0,
      "outputs": []
    },
    {
      "cell_type": "code",
      "metadata": {
        "id": "pNMZ1vmcf_Tb",
        "colab_type": "code",
        "colab": {}
      },
      "source": [
        "checkpoint = 'checkpoints/i600_l512.ckpt'\n",
        "samp = sample(checkpoint, 1000, lstm_size, len(vocab), prime=\"Far\")\n",
        "print(samp)"
      ],
      "execution_count": 0,
      "outputs": []
    },
    {
      "cell_type": "code",
      "metadata": {
        "id": "b4QrGQqtf_Tc",
        "colab_type": "code",
        "colab": {}
      },
      "source": [
        "checkpoint = 'checkpoints/i1200_l512.ckpt'\n",
        "samp = sample(checkpoint, 1000, lstm_size, len(vocab), prime=\"Far\")\n",
        "print(samp)"
      ],
      "execution_count": 0,
      "outputs": []
    }
  ]
}