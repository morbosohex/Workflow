{
  "nbformat": 4,
  "nbformat_minor": 0,
  "metadata": {
    "kernelspec": {
      "name": "python3",
      "display_name": "Python 3"
    },
    "language_info": {
      "codemirror_mode": {
        "name": "ipython",
        "version": 3
      },
      "file_extension": ".py",
      "mimetype": "text/x-python",
      "name": "python",
      "nbconvert_exporter": "python",
      "pygments_lexer": "ipython3",
      "version": "3.5.2"
    },
    "colab": {
      "name": "ch4_word2vec_extended.ipynb",
      "version": "0.3.2",
      "provenance": [],
      "collapsed_sections": [],
      "include_colab_link": true
    },
    "accelerator": "GPU"
  },
  "cells": [
    {
      "cell_type": "markdown",
      "metadata": {
        "id": "view-in-github",
        "colab_type": "text"
      },
      "source": [
        "<a href=\"https://colab.research.google.com/github/morbosohex/Workflow/blob/master/ch4_word2vec_extended.ipynb\" target=\"_parent\"><img src=\"https://colab.research.google.com/assets/colab-badge.svg\" alt=\"Open In Colab\"/></a>"
      ]
    },
    {
      "cell_type": "code",
      "metadata": {
        "id": "gnSsZOJlm5J5",
        "colab_type": "code",
        "colab": {
          "base_uri": "https://localhost:8080/",
          "height": 34
        },
        "outputId": "d3f79ff0-1acf-4f5e-df43-73210c7fad5a"
      },
      "source": [
        "from google.colab import drive\n",
        "drive.mount('/content/drive')"
      ],
      "execution_count": 3,
      "outputs": [
        {
          "output_type": "stream",
          "text": [
            "Drive already mounted at /content/drive; to attempt to forcibly remount, call drive.mount(\"/content/drive\", force_remount=True).\n"
          ],
          "name": "stdout"
        }
      ]
    },
    {
      "cell_type": "code",
      "metadata": {
        "id": "PmLBHWsNm4Gr",
        "colab_type": "code",
        "colab": {}
      },
      "source": [
        "import os\n",
        "os.chdir('/content/drive/My Drive/Colab Notebooks/tensorflow-nlp-book/ch4')"
      ],
      "execution_count": 0,
      "outputs": []
    },
    {
      "cell_type": "markdown",
      "metadata": {
        "id": "j0NUrANnelxm",
        "colab_type": "text"
      },
      "source": [
        "# Extended Word2vec and GloVe"
      ]
    },
    {
      "cell_type": "code",
      "metadata": {
        "id": "BxT2iGHselxn",
        "colab_type": "code",
        "colab": {}
      },
      "source": [
        "# These are all the modules we'll be using later. Make sure you can import them\n",
        "# before proceeding further.\n",
        "%matplotlib inline\n",
        "from __future__ import print_function\n",
        "import collections\n",
        "import math\n",
        "import numpy as np\n",
        "import os\n",
        "import random\n",
        "import tensorflow as tf\n",
        "import bz2\n",
        "from matplotlib import pylab\n",
        "from six.moves import range\n",
        "from six.moves.urllib.request import urlretrieve\n",
        "from sklearn.manifold import TSNE\n",
        "from sklearn.cluster import KMeans\n",
        "import nltk # standard preprocessing\n",
        "import operator # sorting items in dictionary by value\n",
        "#nltk.download() #tokenizers/punkt/PY3/english.pickle\n",
        "from math import ceil\n",
        "import csv"
      ],
      "execution_count": 0,
      "outputs": []
    },
    {
      "cell_type": "markdown",
      "metadata": {
        "id": "V__DA4FEelxr",
        "colab_type": "text"
      },
      "source": [
        "## Dataset\n",
        "This code downloads a [dataset](http://www.evanjones.ca/software/wikipedia2text.html) consisting of several Wikipedia articles totaling up to roughly 61 megabytes. Additionally the code makes sure the file has the correct size after downloading it."
      ]
    },
    {
      "cell_type": "code",
      "metadata": {
        "id": "rCUHn2JHelxs",
        "colab_type": "code",
        "colab": {
          "base_uri": "https://localhost:8080/",
          "height": 34
        },
        "outputId": "881f2356-f2fc-42c7-9765-20e73cd02258"
      },
      "source": [
        "url = 'http://www.evanjones.ca/software/'\n",
        "\n",
        "def maybe_download(filename, expected_bytes):\n",
        "  \"\"\"Download a file if not present, and make sure it's the right size.\"\"\"\n",
        "  if not os.path.exists(filename):\n",
        "    filename, _ = urlretrieve(url + filename, filename)\n",
        "  statinfo = os.stat(filename)\n",
        "  if statinfo.st_size == expected_bytes:\n",
        "    print('Found and verified %s' % filename)\n",
        "  else:\n",
        "    print(statinfo.st_size)\n",
        "    raise Exception(\n",
        "      'Failed to verify ' + filename + '. Can you get to it with a browser?')\n",
        "  return filename\n",
        "try:\n",
        "    filename = maybe_download('wikipedia2text-extracted.txt.bz2', 18377035)\n",
        "except:\n",
        "    print('Download by manual!')"
      ],
      "execution_count": 6,
      "outputs": [
        {
          "output_type": "stream",
          "text": [
            "Found and verified wikipedia2text-extracted.txt.bz2\n"
          ],
          "name": "stdout"
        }
      ]
    },
    {
      "cell_type": "markdown",
      "metadata": {
        "id": "L--N_v6Selxu",
        "colab_type": "text"
      },
      "source": [
        "## Read Data with Preprocessing with NLTK\n",
        "Reads data as it is to a string, convert to lower-case and tokenize it using the nltk library. This code reads data in 1MB portions as processing the full text at once slows down the task and returns a list of words"
      ]
    },
    {
      "cell_type": "code",
      "metadata": {
        "id": "kMesuxXEnSUG",
        "colab_type": "code",
        "colab": {}
      },
      "source": [
        "filename = 'wikipedia2text-extracted.txt.bz2'"
      ],
      "execution_count": 0,
      "outputs": []
    },
    {
      "cell_type": "code",
      "metadata": {
        "id": "EbMvodI1elxv",
        "colab_type": "code",
        "colab": {
          "base_uri": "https://localhost:8080/",
          "height": 87
        },
        "outputId": "593197f9-9ba2-4053-bd7a-27b61cb42461"
      },
      "source": [
        "def read_data(filename):\n",
        "  \"\"\"\n",
        "  Extract the first file enclosed in a zip file as a list of words\n",
        "  and pre-processes it using the nltk python library\n",
        "  \"\"\"\n",
        "\n",
        "  with bz2.BZ2File(filename) as f:\n",
        "\n",
        "    data = []\n",
        "    file_size = os.stat(filename).st_size\n",
        "    chunk_size = 1024 * 1024 # reading 1 MB at a time as the dataset is moderately large\n",
        "    print('Reading data...')\n",
        "    for i in range(ceil(file_size//chunk_size)+1):\n",
        "        bytes_to_read = min(chunk_size,file_size-(i*chunk_size))\n",
        "        file_string = f.read(bytes_to_read).decode('utf-8')\n",
        "        file_string = file_string.lower()\n",
        "        # tokenizes a string to words residing in a list\n",
        "        file_string = nltk.word_tokenize(file_string)\n",
        "        data.extend(file_string)\n",
        "  return data\n",
        "\n",
        "words = read_data(filename)\n",
        "print('Data size %d' % len(words))\n",
        "token_count = len(words)\n",
        "\n",
        "print('Example words (start): ',words[:10])\n",
        "print('Example words (end): ',words[-10:])"
      ],
      "execution_count": 8,
      "outputs": [
        {
          "output_type": "stream",
          "text": [
            "Reading data...\n",
            "Data size 3360286\n",
            "Example words (start):  ['propaganda', 'is', 'a', 'concerted', 'set', 'of', 'messages', 'aimed', 'at', 'influencing']\n",
            "Example words (end):  ['favorable', 'long-term', 'outcomes', 'for', 'around', 'half', 'of', 'those', 'diagnosed', 'with']\n"
          ],
          "name": "stdout"
        }
      ]
    },
    {
      "cell_type": "markdown",
      "metadata": {
        "id": "4waCykqHelxx",
        "colab_type": "text"
      },
      "source": [
        "## Building the Dictionaries\n",
        "Builds the following. To understand each of these elements, let us also assume the text \"I like to go to school\"\n",
        "\n",
        "* `dictionary`: maps a string word to an ID (e.g. {I:0, like:1, to:2, go:3, school:4})\n",
        "* `reverse_dictionary`: maps an ID to a string word (e.g. {0:I, 1:like, 2:to, 3:go, 4:school}\n",
        "* `count`: List of list of (word, frequency) elements (e.g. [(I,1),(like,1),(to,2),(go,1),(school,1)]\n",
        "* `data` : Contain the string of text we read, where string words are replaced with word IDs (e.g. [0, 1, 2, 3, 2, 4])\n",
        "\n",
        "It also introduces an additional special token `UNK` to denote rare words to are too rare to make use of."
      ]
    },
    {
      "cell_type": "code",
      "metadata": {
        "id": "WHcRAZ13elxy",
        "colab_type": "code",
        "colab": {
          "base_uri": "https://localhost:8080/",
          "height": 52
        },
        "outputId": "4ff7fca5-28c7-4824-ba2b-a5d3bbf1079d"
      },
      "source": [
        "\n",
        "vocabulary_size = 50000\n",
        "\n",
        "def build_dataset(words):\n",
        "  count = [['UNK', -1]]\n",
        "  count.extend(collections.Counter(words).most_common(vocabulary_size - 1))\n",
        "  dictionary = dict()\n",
        "  for word, _ in count:\n",
        "    dictionary[word] = len(dictionary)\n",
        "  data = list()\n",
        "  unk_count = 0\n",
        "  for word in words:\n",
        "    if word in dictionary:\n",
        "      index = dictionary[word]\n",
        "    else:\n",
        "      index = 0  # dictionary['UNK']\n",
        "      unk_count = unk_count + 1\n",
        "    data.append(index)\n",
        "  count[0][1] = unk_count\n",
        "  reverse_dictionary = dict(zip(dictionary.values(), dictionary.keys())) \n",
        "  assert len(dictionary) == vocabulary_size\n",
        "  return data, count, dictionary, reverse_dictionary\n",
        "\n",
        "data, count, dictionary, reverse_dictionary = build_dataset(words)\n",
        "print('Most common words (+UNK)', count[:5])\n",
        "print('Sample data', data[:10])\n",
        "del words  # Hint to reduce memory."
      ],
      "execution_count": 9,
      "outputs": [
        {
          "output_type": "stream",
          "text": [
            "Most common words (+UNK) [['UNK', 69215], ('the', 226881), (',', 184013), ('.', 120944), ('of', 116323)]\n",
            "Sample data [1721, 9, 8, 16471, 223, 4, 5165, 4456, 26, 11590]\n"
          ],
          "name": "stdout"
        }
      ]
    },
    {
      "cell_type": "code",
      "metadata": {
        "id": "0wL7cNoRelx0",
        "colab_type": "code",
        "colab": {
          "base_uri": "https://localhost:8080/",
          "height": 195
        },
        "outputId": "e9c166cc-fc87-499b-b415-b7855e12dddb"
      },
      "source": [
        "data_index = 0\n",
        "\n",
        "def generate_batch(batch_size, window_size):\n",
        "  global data_index\n",
        "\n",
        "  # two numpy arras to hold target words (batch)\n",
        "  # and context words (labels)\n",
        "  # Note that the labels array has 2*window_size columns\n",
        "  batch = np.ndarray(shape=(batch_size), dtype=np.int32)\n",
        "  labels = np.ndarray(shape=(batch_size, 2*window_size), dtype=np.int32)\n",
        "  \n",
        "  # span defines the total window size, where\n",
        "  # data we consider at an instance looks as follows. \n",
        "  # [ skip_window target skip_window ]\n",
        "  span = 2 * window_size + 1 # [ skip_window target skip_window ]\n",
        "  \n",
        "  buffer = collections.deque(maxlen=span)\n",
        "  \n",
        "  # Fill the buffer and update the data_index\n",
        "  for _ in range(span):\n",
        "    buffer.append(data[data_index])\n",
        "    data_index = (data_index + 1) % len(data)\n",
        "  #print('each buffer', buffer)\n",
        "  \n",
        "  # for a full length of batch size, we do the following\n",
        "  # make the target word the i th input word (i th row of batch)\n",
        "  # make all the context words the columns of labels array\n",
        "  # Update the data index and the buffer \n",
        "  for i in range(batch_size):\n",
        "    batch[i] = buffer[window_size]\n",
        "    #print(f'batch {i}:', batch)\n",
        "    labels[i, :] = [buffer[span_idx] for span_idx in list(range(0,window_size))+ list(range(window_size+1,span))]\n",
        "    #print(f'label {i}: ',labels)\n",
        "    buffer.append(data[data_index])\n",
        "    #print('update -', buffer)\n",
        "    data_index = (data_index + 1) % len(data)\n",
        "  \n",
        "  return batch, labels\n",
        "\n",
        "print('data:', [reverse_dictionary[di] for di in data[:8]])\n",
        "\n",
        "for window_size in [1,2]:\n",
        "    data_index = 0\n",
        "    batch, labels = generate_batch(batch_size=8, window_size=window_size)\n",
        "    print('\\nwith window_size = %d:' % window_size)\n",
        "    print('    batch:', [reverse_dictionary[bi] for bi in batch])\n",
        "    print('    labels:', [[reverse_dictionary[li] for li in lbls] for lbls in labels])"
      ],
      "execution_count": 10,
      "outputs": [
        {
          "output_type": "stream",
          "text": [
            "data: ['propaganda', 'is', 'a', 'concerted', 'set', 'of', 'messages', 'aimed']\n",
            "\n",
            "with window_size = 1:\n",
            "    batch: ['is', 'a', 'concerted', 'set', 'of', 'messages', 'aimed', 'at']\n",
            "    labels: [['propaganda', 'a'], ['is', 'concerted'], ['a', 'set'], ['concerted', 'of'], ['set', 'messages'], ['of', 'aimed'], ['messages', 'at'], ['aimed', 'influencing']]\n",
            "\n",
            "with window_size = 2:\n",
            "    batch: ['a', 'concerted', 'set', 'of', 'messages', 'aimed', 'at', 'influencing']\n",
            "    labels: [['propaganda', 'is', 'concerted', 'set'], ['is', 'a', 'set', 'of'], ['a', 'concerted', 'of', 'messages'], ['concerted', 'set', 'messages', 'aimed'], ['set', 'of', 'aimed', 'at'], ['of', 'messages', 'at', 'influencing'], ['messages', 'aimed', 'influencing', 'the'], ['aimed', 'at', 'the', 'opinions']]\n"
          ],
          "name": "stdout"
        }
      ]
    },
    {
      "cell_type": "markdown",
      "metadata": {
        "id": "8uzoHBDVelx2",
        "colab_type": "text"
      },
      "source": [
        "# Structured Skip-Gram Algorithm\n",
        "The basic idea behind the structured skip-gram algorithm is to pay attention to the position of the context words during learning. Giving the algorithm the power to distinguish between words falling very close to the target word and the ones that fall far away from the context words allow the structured skip-gram model to learn better word vectors ([Paper](http://www.cs.cmu.edu/~lingwang/papers/naacl2015.pdf)). You can learn about this algorithm in more detail in Chapter 4 text."
      ]
    },
    {
      "cell_type": "markdown",
      "metadata": {
        "id": "K5-5lPmNelx2",
        "colab_type": "text"
      },
      "source": [
        "### Defining Hyperparameters\n",
        "\n",
        "Here we define several hyperparameters including `batch_size` (amount of samples in a single batch) `embedding_size` (size of embedding vectors) `window_size` (context window size)."
      ]
    },
    {
      "cell_type": "code",
      "metadata": {
        "id": "KIXnTrFzelx3",
        "colab_type": "code",
        "colab": {}
      },
      "source": [
        "batch_size = 128 # Data points in a single batch\n",
        "embedding_size = 128 # Dimension of the embedding vector.\n",
        "window_size = 2 # How many words to consider left and right.\n",
        "\n",
        "# We pick a random validation set to sample nearest neighbors\n",
        "valid_size = 16 # Random set of words to evaluate similarity on.\n",
        "# We sample valid datapoints randomly from a large window without always being deterministic\n",
        "valid_window = 50\n",
        "\n",
        "# When selecting valid examples, we select some of the most frequent words as well as\n",
        "# some moderately rare words as well\n",
        "valid_examples = np.array(random.sample(range(valid_window), valid_size))\n",
        "valid_examples = np.append(valid_examples,random.sample(range(1000, 1000+valid_window), valid_size),axis=0)\n",
        "\n",
        "num_sampled = 32 # Number of negative examples to sample."
      ],
      "execution_count": 0,
      "outputs": []
    },
    {
      "cell_type": "markdown",
      "metadata": {
        "id": "6EaEwE79elx5",
        "colab_type": "text"
      },
      "source": [
        "### Defining Inputs and Outputs\n",
        "\n",
        "Here we define placeholders for feeding in training inputs and outputs (each of size `batch_size`) and a constant tensor to contain validation examples."
      ]
    },
    {
      "cell_type": "code",
      "metadata": {
        "id": "S8xvFUUuelx6",
        "colab_type": "code",
        "colab": {}
      },
      "source": [
        "tf.reset_default_graph()\n",
        "\n",
        "# Training input data (target word IDs).\n",
        "train_dataset = tf.placeholder(tf.int32, shape=[batch_size])\n",
        "# Training input label data (context word IDs)\n",
        "train_labels = [tf.placeholder(tf.int32, shape=[batch_size, 1]) for _ in range(2*window_size)]\n",
        "# Validation input data, we don't need a placeholder\n",
        "# as we have already defined the IDs of the words selected\n",
        "# as validation data\n",
        "valid_dataset = tf.constant(valid_examples, dtype=tf.int32)"
      ],
      "execution_count": 0,
      "outputs": []
    },
    {
      "cell_type": "markdown",
      "metadata": {
        "id": "05VG0wDbelx7",
        "colab_type": "text"
      },
      "source": [
        "### Defining Model Parameters and Other Variables\n",
        "We now define several TensorFlow variables such as an embedding layer (`embeddings`) and neural network parameters (`softmax_weights` and `softmax_biases`). Note that the softmax weights is `2*window_size` larger than the original skip-gram algorithms's softmax weights."
      ]
    },
    {
      "cell_type": "code",
      "metadata": {
        "id": "OWW2ikDuelx9",
        "colab_type": "code",
        "colab": {}
      },
      "source": [
        "embeddings = tf.Variable(\n",
        "tf.random_uniform([vocabulary_size, embedding_size], -1.0, 1.0))\n",
        "softmax_weights = [tf.Variable(\n",
        "tf.truncated_normal([vocabulary_size, embedding_size],\n",
        "                     stddev=0.5 / math.sqrt(embedding_size))) for _ in range(2*window_size)]\n",
        "softmax_biases = [tf.Variable(tf.random_uniform([vocabulary_size],0.0,0.01)) for _ in range(2*window_size)]\n"
      ],
      "execution_count": 0,
      "outputs": []
    },
    {
      "cell_type": "markdown",
      "metadata": {
        "id": "c0nm4zifelx_",
        "colab_type": "text"
      },
      "source": [
        "### Defining the Model Computations\n",
        "\n",
        "We first defing a lookup function to fetch the corresponding embedding vectors for a set of given inputs. With that, we define negative sampling loss function `tf.nn.sampled_softmax_loss` which takes in the embedding vectors and previously defined neural network parameters."
      ]
    },
    {
      "cell_type": "code",
      "metadata": {
        "id": "SWtEQ0aaelyA",
        "colab_type": "code",
        "colab": {}
      },
      "source": [
        "\n",
        "# Model.\n",
        "# Look up embeddings for inputs.\n",
        "embed = tf.nn.embedding_lookup(embeddings, train_dataset)\n",
        "\n",
        "# You might see the warning when running the line below\n",
        "# WARNING:tensorflow:From c:\\...\\lib\\site-packages\\tensorflow\\python\\ops\\nn_impl.py:1346: \n",
        "#softmax_cross_entropy_with_logits (from tensorflow.python.ops.nn_ops) is deprecated and \n",
        "# will be removed in a future version.\n",
        "# This is due to the sampled_softmax_loss function using a deprecated function internally\n",
        "# therefore, this is not an error in the code and you can ignore this error\n",
        "\n",
        "# Compute the softmax loss, using a sample of the negative labels each time.\n",
        "loss = tf.reduce_sum(\n",
        "[\n",
        "    tf.reduce_mean(tf.nn.sampled_softmax_loss(weights=softmax_weights[wi], biases=softmax_biases[wi], inputs=embed,\n",
        "                           labels=train_labels[wi], num_sampled=num_sampled, num_classes=vocabulary_size))\n",
        "    for wi in range(window_size*2)\n",
        "]\n",
        ")\n",
        "\n"
      ],
      "execution_count": 0,
      "outputs": []
    },
    {
      "cell_type": "markdown",
      "metadata": {
        "id": "EZYCMFYtelyB",
        "colab_type": "text"
      },
      "source": [
        "### Calculating Word Similarities \n",
        "We calculate the similarity between two given words in terms of the cosine distance. To do this efficiently we use matrix operations to do so, as shown below."
      ]
    },
    {
      "cell_type": "code",
      "metadata": {
        "id": "fs5TYCTTelyC",
        "colab_type": "code",
        "colab": {}
      },
      "source": [
        "# Compute the similarity between minibatch examples and all embeddings.\n",
        "# We use the cosine distance:\n",
        "norm = tf.sqrt(tf.reduce_sum(tf.square(embeddings), 1, keepdims=True))\n",
        "normalized_embeddings = embeddings / norm\n",
        "valid_embeddings = tf.nn.embedding_lookup(\n",
        "normalized_embeddings, valid_dataset)\n",
        "# print('valid_examples', valid_examples)\n",
        "# print('valid embeddings', valid_embeddings)\n",
        "similarity = tf.matmul(valid_embeddings, tf.transpose(normalized_embeddings))\n"
      ],
      "execution_count": 0,
      "outputs": []
    },
    {
      "cell_type": "markdown",
      "metadata": {
        "id": "sKgSrF1qelyE",
        "colab_type": "text"
      },
      "source": [
        "### Model Parameter Optimizer\n",
        "\n",
        "We then define a constant learning rate and an optimizer which uses the Adagrad method. Feel free to experiment with other optimizers listed [here](https://www.tensorflow.org/api_guides/python/train)."
      ]
    },
    {
      "cell_type": "code",
      "metadata": {
        "id": "l44ngFSnelyE",
        "colab_type": "code",
        "colab": {
          "base_uri": "https://localhost:8080/",
          "height": 107
        },
        "outputId": "aa24641c-bf4b-4131-bce0-ab41118270e6"
      },
      "source": [
        "\n",
        "# Optimizer.\n",
        "optimizer = tf.train.AdagradOptimizer(1.0).minimize(loss)\n"
      ],
      "execution_count": 17,
      "outputs": [
        {
          "output_type": "stream",
          "text": [
            "WARNING: Logging before flag parsing goes to stderr.\n",
            "W0904 10:27:00.569407 140593645348736 deprecation.py:506] From /usr/local/lib/python3.6/dist-packages/tensorflow/python/training/adagrad.py:76: calling Constant.__init__ (from tensorflow.python.ops.init_ops) with dtype is deprecated and will be removed in a future version.\n",
            "Instructions for updating:\n",
            "Call initializer instance with the dtype argument instead of passing it to the constructor\n"
          ],
          "name": "stderr"
        }
      ]
    },
    {
      "cell_type": "markdown",
      "metadata": {
        "id": "JFHC1JwTelyG",
        "colab_type": "text"
      },
      "source": [
        "## Running the Structured Skip-gram Algorithm\n",
        "\n",
        "Here we run the structured skip-gram algorithm we defined above. Specifically, we first initialize variables, and then train the algorithm for many steps (`num_steps`). And every few steps we evaluate the algorithm on a fixed validation set and print out the words that appear to be closest for a given set of words."
      ]
    },
    {
      "cell_type": "code",
      "metadata": {
        "scrolled": true,
        "id": "v-4I_3mFelyH",
        "colab_type": "code",
        "colab": {
          "base_uri": "https://localhost:8080/",
          "height": 1000
        },
        "outputId": "6c89878a-b7c3-44c5-c946-a9cfc9362682"
      },
      "source": [
        "num_steps = 100001\n",
        "decay_learning_rate_every = 2000\n",
        "skip_gram_loss = [] # Collect the sequential loss values for plotting purposes\n",
        "\n",
        "with tf.Session(config=tf.ConfigProto(allow_soft_placement=True)) as session:\n",
        "  tf.global_variables_initializer().run()\n",
        "  print('Initialized')\n",
        "  average_loss = 0\n",
        "  for step in range(num_steps):\n",
        "    batch_data, batch_labels = generate_batch(\n",
        "      batch_size, window_size)\n",
        "    feed_dict = {train_dataset : batch_data}\n",
        "    for wi in range(2*window_size):\n",
        "        feed_dict.update({train_labels[wi]:np.reshape(batch_labels[:,wi],(-1,1))})\n",
        "    \n",
        "    _, l = session.run([optimizer, loss], feed_dict=feed_dict)\n",
        "    average_loss += l\n",
        "    \n",
        "    if (step+1) % 2000 == 0:\n",
        "      if step > 0:\n",
        "        average_loss = average_loss / 2000\n",
        "      # The average loss is an estimate of the loss over the last 2000 batches.\n",
        "      print('Average loss at step %d: %f' % (step+1, average_loss))\n",
        "      skip_gram_loss.append(average_loss)\n",
        "      average_loss = 0\n",
        "    # note that this is expensive (~20% slowdown if computed every 500 steps)\n",
        "    if (step+1) % 10000 == 0:\n",
        "      sim = similarity.eval()\n",
        "      for i in range(valid_size):\n",
        "        valid_word = reverse_dictionary[valid_examples[i]]\n",
        "        top_k = 8 # number of nearest neighbors\n",
        "        nearest = (-sim[i, :]).argsort()[1:top_k+1]\n",
        "        log = 'Nearest to %s:' % valid_word\n",
        "        for k in range(top_k):\n",
        "          close_word = reverse_dictionary[nearest[k]]\n",
        "          log = '%s %s,' % (log, close_word)\n",
        "        print(log)\n",
        "  skip_gram_final_embeddings = normalized_embeddings.eval()\n",
        "\n",
        "# We will save the word vectors learned and the loss over time\n",
        "# as this information is required later for comparisons\n",
        "np.save('struct_skip_embeddings',skip_gram_final_embeddings)\n",
        "\n",
        "with open('struct_skip_losses.csv', 'wt') as f:\n",
        "    writer = csv.writer(f, delimiter=',')\n",
        "    writer.writerow(skip_gram_loss)"
      ],
      "execution_count": 0,
      "outputs": [
        {
          "output_type": "stream",
          "text": [
            "Initialized\n",
            "Average loss at step 2000: 14.852250\n",
            "Average loss at step 4000: 12.934925\n",
            "Average loss at step 6000: 12.496010\n",
            "Average loss at step 8000: 12.193160\n",
            "Average loss at step 10000: 12.007762\n",
            "Nearest to (: ;, :, or, -, ,, ., =, admits,\n",
            "Nearest to or: and, (, f6e, increment:1, accommodates, but, distal, stretching,\n",
            "Nearest to he: they, she, it, who, there, then, eventually, i,\n",
            "Nearest to are: were, is, have, was, can, be, include, often,\n",
            "Nearest to and: or, but, which, including, who, where, olympique, while,\n",
            "Nearest to has: had, have, is, was, also, should, may, can,\n",
            "Nearest to of: in, privatised, cabbagetown, for, ., over, within, jeep,\n",
            "Nearest to an: a, its, no, eaten, incoming, equipped, artificially, picketing,\n",
            "Nearest to not: n't, also, still, often, now, generally, sometimes, no,\n",
            "Nearest to city: country, area, state, nation, british, co-star, wastebasket, negating,\n",
            "Nearest to was: is, were, had, has, became, are, been, be,\n",
            "Nearest to from: in, towards, into, at, on, through, during, upon,\n",
            "Nearest to first: best, last, second, next, only, most, largest, original,\n",
            "Nearest to as: precedence, convicts, when, agile, by, urged, aeneid, unfavorably,\n",
            "Nearest to but: while, although, which, though, where, and, when, however,\n",
            "Nearest to also: still, now, often, not, never, has, usually, generally,\n",
            "Average loss at step 12000: 11.890640\n",
            "Average loss at step 14000: 11.727119\n",
            "Average loss at step 16000: 11.665657\n",
            "Average loss at step 18000: 11.623506\n",
            "Average loss at step 20000: 11.582164\n",
            "Nearest to (: propel, -, ,, half-century, ;, —, ., strived,\n",
            "Nearest to or: and, (, but, distal, relax, farmland, γ, including,\n",
            "Nearest to he: she, they, it, who, there, we, i, suharto,\n",
            "Nearest to are: were, is, have, was, include, occurs, generally, often,\n",
            "Nearest to and: or, ,, but, including, ., post-keynesian, where, ébrié,\n",
            "Nearest to has: had, have, is, was, contains, having, also, received,\n",
            "Nearest to of: within, cortical, for, warns, pdb, cabbagetown, jeep, cheongdo,\n",
            "Nearest to an: a, its, the, bryher, another, any, discern, long-lasting,\n",
            "Nearest to not: n't, often, usually, still, sometimes, also, generally, never,\n",
            "Nearest to city: country, state, nation, region, area, island, town, park,\n",
            "Nearest to was: is, were, became, has, are, had, being, be,\n",
            "Nearest to from: towards, into, through, across, 1781, in, via, by,\n",
            "Nearest to first: last, second, next, best, only, final, main, third,\n",
            "Nearest to as: agile, referred, when, urged, convicts, 99.5, boasting, ivanhoe,\n",
            "Nearest to but: although, while, though, where, which, when, however, who,\n",
            "Nearest to also: still, often, now, usually, generally, sometimes, not, then,\n",
            "Average loss at step 22000: 11.468166\n",
            "Average loss at step 24000: 11.439779\n",
            "Average loss at step 26000: 11.302106\n",
            "Average loss at step 28000: 10.892637\n",
            "Average loss at step 30000: 10.743172\n",
            "Nearest to (: -, uvular, half-century, propel, gorky, éire, ;, —,\n",
            "Nearest to or: and, f6e, stretching, c.1, 'kind, griffiths, meaning, 5-4,\n",
            "Nearest to he: she, they, it, we, i, soon, there, who,\n",
            "Nearest to are: were, include, have, is, wei, remain, wasp, copernicus,\n",
            "Nearest to and: or, but, which, olympique, chutney, musicology, neuroleptic, 1932-1933,\n",
            "Nearest to has: had, have, is, having, contains, produces, recaptured, also,\n",
            "Nearest to of: macropods, warns, in, privatised, phlegm, cortical, towards, pdb,\n",
            "Nearest to an: artificially, bryher, picketing, long-lasting, astrophysicists, another, sayings, discern,\n",
            "Nearest to not: n't, never, sometimes, still, often, now, rarely, also,\n",
            "Nearest to city: country, nation, town, state, region, cities, area, tishchev,\n",
            "Nearest to was: is, were, became, had, remained, has, being, dmitry,\n",
            "Nearest to from: towards, through, in, dared, 1781, steerable, across, garcía,\n",
            "Nearest to first: last, second, next, best, final, fourth, largest, third,\n",
            "Nearest to as: ivanhoe, agile, graff, gamal, shigeru, referred, boasting, unless,\n",
            "Nearest to but: although, though, while, where, which, however, and, albeit,\n",
            "Nearest to also: now, still, often, usually, currently, actually, sometimes, then,\n",
            "Average loss at step 32000: 10.750688\n",
            "Average loss at step 34000: 10.742589\n",
            "Average loss at step 36000: 10.696673\n",
            "Average loss at step 38000: 10.605378\n",
            "Average loss at step 40000: 10.666134\n",
            "Nearest to (: -, propel, uvular, =, $, half-century, pechenga, per,\n",
            "Nearest to or: and, nor, farmland, stereotypical, rearwards, 1919–1920, proa, talked,\n",
            "Nearest to he: she, they, it, who, rachmaninoff, patel, we, tolkien,\n",
            "Nearest to are: were, is, have, can, include, remain, generally, was,\n",
            "Nearest to and: or, but, chutney, olympique, which, vied, ,, azov,\n",
            "Nearest to has: had, have, is, contains, was, having, produces, also,\n",
            "Nearest to of: warns, demerara, cabbagetown, libertarian, regarding, meager, concerning, monastic,\n",
            "Nearest to an: automata, bryher, artificially, ample, another, borrow, olave, flammability,\n",
            "Nearest to not: n't, never, still, often, sometimes, always, actually, now,\n",
            "Nearest to city: country, town, nation, park, region, university, stocky, cities,\n",
            "Nearest to was: is, were, became, has, had, be, being, been,\n",
            "Nearest to from: towards, into, crosstown, sortied, thirty-eighth, through, demonstrative, employing,\n",
            "Nearest to first: second, last, best, next, final, earliest, meditations, only,\n",
            "Nearest to as: boasting, stormy, referred, 99.5, ivanhoe, urged, precedence, shigeru,\n",
            "Nearest to but: although, though, while, and, however, where, which, albeit,\n",
            "Nearest to also: still, now, often, currently, usually, actually, sometimes, typically,\n",
            "Average loss at step 42000: 10.611755\n",
            "Average loss at step 44000: 10.667657\n",
            "Average loss at step 46000: 10.635738\n",
            "Average loss at step 48000: 10.604427\n",
            "Average loss at step 50000: 10.688646\n",
            "Nearest to (: propel, ,, —, ;, -, –, duchess, approximately,\n",
            "Nearest to or: and, farmland, defamation, nor, distal, relax, remi, stereotypical,\n",
            "Nearest to he: she, they, it, we, i, kelly, tutu, putnam,\n",
            "Nearest to are: were, is, have, remain, include, can, usually, occurs,\n",
            "Nearest to and: or, which, but, nor, olympique, chutney, ,, citing,\n",
            "Nearest to has: had, have, is, having, contains, produces, serves, 181,\n",
            "Nearest to of: tormes, warns, privatised, for, cortical, chimpanzee, concerning, pcp,\n",
            "Nearest to an: bryher, discern, another, astrophysicists, a, artificially, madrigals, mohammed,\n",
            "Nearest to not: n't, never, sometimes, still, usually, also, often, now,\n",
            "Nearest to city: country, town, nation, region, area, stocky, state, tishchev,\n",
            "Nearest to was: is, were, became, had, being, dmitry, has, went,\n",
            "Nearest to from: towards, into, through, bolster, 1781, via, onto, sortied,\n",
            "Nearest to first: last, second, next, final, ninth, best, fourth, previous,\n",
            "Nearest to as: referred, characterize, agile, 99.5, adjudicate, precedence, myriad, protecting,\n",
            "Nearest to but: although, though, while, however, where, and, which, so,\n",
            "Nearest to also: still, often, now, usually, currently, sometimes, actually, then,\n"
          ],
          "name": "stdout"
        }
      ]
    },
    {
      "cell_type": "markdown",
      "metadata": {
        "id": "_SWcrT0T3-jS",
        "colab_type": "text"
      },
      "source": [
        ""
      ]
    },
    {
      "cell_type": "code",
      "metadata": {
        "id": "GULPg49DelyI",
        "colab_type": "code",
        "colab": {}
      },
      "source": [
        ""
      ],
      "execution_count": 0,
      "outputs": []
    }
  ]
}