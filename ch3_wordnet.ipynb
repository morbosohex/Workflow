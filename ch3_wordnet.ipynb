{
  "nbformat": 4,
  "nbformat_minor": 0,
  "metadata": {
    "kernelspec": {
      "name": "python3",
      "display_name": "Python 3"
    },
    "language_info": {
      "codemirror_mode": {
        "name": "ipython",
        "version": 3
      },
      "file_extension": ".py",
      "mimetype": "text/x-python",
      "name": "python",
      "nbconvert_exporter": "python",
      "pygments_lexer": "ipython3",
      "version": "3.5.2"
    },
    "colab": {
      "name": "ch3_wordnet.ipynb",
      "version": "0.3.2",
      "provenance": [],
      "include_colab_link": true
    },
    "accelerator": "GPU"
  },
  "cells": [
    {
      "cell_type": "markdown",
      "metadata": {
        "id": "view-in-github",
        "colab_type": "text"
      },
      "source": [
        "<a href=\"https://colab.research.google.com/github/morbosohex/Workflow/blob/master/ch3_wordnet.ipynb\" target=\"_parent\"><img src=\"https://colab.research.google.com/assets/colab-badge.svg\" alt=\"Open In Colab\"/></a>"
      ]
    },
    {
      "cell_type": "code",
      "metadata": {
        "id": "hqlj5GBhLYTj",
        "colab_type": "code",
        "colab": {
          "base_uri": "https://localhost:8080/",
          "height": 70
        },
        "outputId": "13ccdb37-e3ad-4634-f20f-771619eb1e61"
      },
      "source": [
        "# You first need to download the wordnet following these commands \n",
        "# before importing it\n",
        "import nltk\n",
        "nltk.download('wordnet')"
      ],
      "execution_count": 1,
      "outputs": [
        {
          "output_type": "stream",
          "text": [
            "[nltk_data] Downloading package wordnet to /root/nltk_data...\n",
            "[nltk_data]   Unzipping corpora/wordnet.zip.\n"
          ],
          "name": "stdout"
        },
        {
          "output_type": "execute_result",
          "data": {
            "text/plain": [
              "True"
            ]
          },
          "metadata": {
            "tags": []
          },
          "execution_count": 1
        }
      ]
    },
    {
      "cell_type": "code",
      "metadata": {
        "id": "FqkVDn9QLYTm",
        "colab_type": "code",
        "colab": {}
      },
      "source": [
        "# you will need to download the wordnet corpus from nltk using nltk.download()\n",
        "from nltk.corpus import wordnet as wn"
      ],
      "execution_count": 0,
      "outputs": []
    },
    {
      "cell_type": "markdown",
      "metadata": {
        "id": "4O1zM2VqLYTo",
        "colab_type": "text"
      },
      "source": [
        "## Various Synset Relationships\n",
        "Here we will look at what lemmas, hypernyms, hyponyms, meronyms and holonyms look like"
      ]
    },
    {
      "cell_type": "code",
      "metadata": {
        "id": "dfU8DSXDLYTp",
        "colab_type": "code",
        "colab": {
          "base_uri": "https://localhost:8080/",
          "height": 70
        },
        "outputId": "5b822c6d-d2a0-44bf-d73f-da9d7820c783"
      },
      "source": [
        "# shows all the available synsets\n",
        "word = 'car'\n",
        "car_syns = wn.synsets(word)\n",
        "print('All the available Synsets for ',word)\n",
        "print('\\t',car_syns,'\\n')"
      ],
      "execution_count": 4,
      "outputs": [
        {
          "output_type": "stream",
          "text": [
            "All the available Synsets for  car\n",
            "\t [Synset('car.n.01'), Synset('car.n.02'), Synset('car.n.03'), Synset('car.n.04'), Synset('cable_car.n.01')] \n",
            "\n"
          ],
          "name": "stdout"
        }
      ]
    },
    {
      "cell_type": "code",
      "metadata": {
        "id": "MZevCv3jx8bC",
        "colab_type": "code",
        "colab": {
          "base_uri": "https://localhost:8080/",
          "height": 122
        },
        "outputId": "f2219a0e-6a4d-40a9-a80c-357c9dcf4ecf"
      },
      "source": [
        "# The definition of the first two synsets\n",
        "syns_defs = [car_syns[i].definition() for i in range(len(car_syns))]\n",
        "print('Example definitions of available Synsets ...')\n",
        "for i in range(3):\n",
        "    print('\\t',car_syns[i].name(),': ',syns_defs[i])\n",
        "print('\\n')\n"
      ],
      "execution_count": 5,
      "outputs": [
        {
          "output_type": "stream",
          "text": [
            "Example definitions of available Synsets ...\n",
            "\t car.n.01 :  a motor vehicle with four wheels; usually propelled by an internal combustion engine\n",
            "\t car.n.02 :  a wheeled vehicle adapted to the rails of railroad\n",
            "\t car.n.03 :  the compartment that is suspended from an airship and that carries personnel and the cargo and the power plant\n",
            "\n",
            "\n"
          ],
          "name": "stdout"
        }
      ]
    },
    {
      "cell_type": "code",
      "metadata": {
        "id": "sesbGYIPyY1A",
        "colab_type": "code",
        "colab": {
          "base_uri": "https://localhost:8080/",
          "height": 70
        },
        "outputId": "c3727a76-55c8-4165-fdc6-ec692624214f"
      },
      "source": [
        "# Get the lemmas for the first Synset\n",
        "print('Example lemmas for the Synset ',car_syns[i].name())\n",
        "car_lemmas = car_syns[0].lemmas()[:3]\n",
        "print('\\t',[lemma.name() for lemma in car_lemmas],'\\n')"
      ],
      "execution_count": 6,
      "outputs": [
        {
          "output_type": "stream",
          "text": [
            "Example lemmas for the Synset  car.n.03\n",
            "\t ['car', 'auto', 'automobile'] \n",
            "\n"
          ],
          "name": "stdout"
        }
      ]
    },
    {
      "cell_type": "code",
      "metadata": {
        "id": "pfdb7Bx7yg-o",
        "colab_type": "code",
        "colab": {
          "base_uri": "https://localhost:8080/",
          "height": 70
        },
        "outputId": "31f78f70-1d90-4cd9-f4d2-598536b12ab7"
      },
      "source": [
        "# Let us get hypernyms for a Synset (general superclass)\n",
        "syn = car_syns[0]\n",
        "print('Hypernyms of the Synset ',syn.name())\n",
        "print('\\t',syn.hypernyms()[0].name(),'\\n')"
      ],
      "execution_count": 7,
      "outputs": [
        {
          "output_type": "stream",
          "text": [
            "Hypernyms of the Synset  car.n.01\n",
            "\t motor_vehicle.n.01 \n",
            "\n"
          ],
          "name": "stdout"
        }
      ]
    },
    {
      "cell_type": "code",
      "metadata": {
        "id": "Mq8H2BN4yt9T",
        "colab_type": "code",
        "colab": {
          "base_uri": "https://localhost:8080/",
          "height": 70
        },
        "outputId": "02b2a1c3-f302-40ec-f681-305b14b71503"
      },
      "source": [
        "# Let us get hyponyms for a Synset (specific subclass)\n",
        "syn = car_syns[0]\n",
        "print('Hyponyms of the Synset ',syn.name())\n",
        "print('\\t',[hypo.name() for hypo in syn.hyponyms()[:3]],'\\n')"
      ],
      "execution_count": 8,
      "outputs": [
        {
          "output_type": "stream",
          "text": [
            "Hyponyms of the Synset  car.n.01\n",
            "\t ['ambulance.n.01', 'beach_wagon.n.01', 'bus.n.04'] \n",
            "\n"
          ],
          "name": "stdout"
        }
      ]
    },
    {
      "cell_type": "code",
      "metadata": {
        "id": "67wi5LvgzMV3",
        "colab_type": "code",
        "colab": {
          "base_uri": "https://localhost:8080/",
          "height": 70
        },
        "outputId": "ce174962-8df3-4a3d-80de-9390c98b3a7e"
      },
      "source": [
        "# Let us get part-holonyms for a Synset (specific subclass)\n",
        "# also there is another holonym category called \"substance-holonyms\"\n",
        "syn = car_syns[2]\n",
        "print('Holonyms (Part) of the Synset ',syn.name())\n",
        "print('\\t',[holo.name() for holo in syn.part_holonyms()],'\\n')"
      ],
      "execution_count": 9,
      "outputs": [
        {
          "output_type": "stream",
          "text": [
            "Holonyms (Part) of the Synset  car.n.03\n",
            "\t ['airship.n.01'] \n",
            "\n"
          ],
          "name": "stdout"
        }
      ]
    },
    {
      "cell_type": "code",
      "metadata": {
        "id": "cb-2UmOfzV61",
        "colab_type": "code",
        "colab": {
          "base_uri": "https://localhost:8080/",
          "height": 70
        },
        "outputId": "030359a6-43bd-41cd-b0a2-221aeea313b3"
      },
      "source": [
        "# Let us get meronyms for a Synset (specific subclass)\n",
        "# also there is another meronym category called \"substance-meronyms\"\n",
        "syn = car_syns[0]\n",
        "print('Meronyms (Part) of the Synset ',syn.name())\n",
        "print('\\t',[mero.name() for mero in syn.part_meronyms()[:3]],'\\n')"
      ],
      "execution_count": 10,
      "outputs": [
        {
          "output_type": "stream",
          "text": [
            "Meronyms (Part) of the Synset  car.n.01\n",
            "\t ['accelerator.n.01', 'air_bag.n.01', 'auto_accessory.n.01'] \n",
            "\n"
          ],
          "name": "stdout"
        }
      ]
    },
    {
      "cell_type": "markdown",
      "metadata": {
        "id": "Q7j1Bnm2LYTs",
        "colab_type": "text"
      },
      "source": [
        "## Similarity between Synsets"
      ]
    },
    {
      "cell_type": "code",
      "metadata": {
        "id": "QhjMSBQYLYTt",
        "colab_type": "code",
        "colab": {
          "base_uri": "https://localhost:8080/",
          "height": 52
        },
        "outputId": "2452eafd-1676-49f4-b525-77324b46a6e7"
      },
      "source": [
        "word1, word2, word3 = 'car','lorry','tree'\n",
        "w1_syns, w2_syns, w3_syns = wn.synsets(word1), wn.synsets(word2), wn.synsets(word3)\n",
        "\n",
        "print('Word Similarity (%s)<->(%s): '%(word1,word2),wn.wup_similarity(w1_syns[0], w2_syns[0]))\n",
        "print('Word Similarity (%s)<->(%s): '%(word1,word3),wn.wup_similarity(w1_syns[0], w3_syns[0]))"
      ],
      "execution_count": 11,
      "outputs": [
        {
          "output_type": "stream",
          "text": [
            "Word Similarity (car)<->(lorry):  0.6956521739130435\n",
            "Word Similarity (car)<->(tree):  0.38095238095238093\n"
          ],
          "name": "stdout"
        }
      ]
    },
    {
      "cell_type": "code",
      "metadata": {
        "id": "XfN4hUeNLYTv",
        "colab_type": "code",
        "colab": {}
      },
      "source": [
        ""
      ],
      "execution_count": 0,
      "outputs": []
    }
  ]
}