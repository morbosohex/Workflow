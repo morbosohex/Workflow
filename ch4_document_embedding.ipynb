{
  "nbformat": 4,
  "nbformat_minor": 0,
  "metadata": {
    "kernelspec": {
      "name": "python3",
      "display_name": "Python 3"
    },
    "language_info": {
      "codemirror_mode": {
        "name": "ipython",
        "version": 3
      },
      "file_extension": ".py",
      "mimetype": "text/x-python",
      "name": "python",
      "nbconvert_exporter": "python",
      "pygments_lexer": "ipython3",
      "version": "3.5.2"
    },
    "colab": {
      "name": "ch4_document_embedding.ipynb",
      "version": "0.3.2",
      "provenance": [],
      "collapsed_sections": [],
      "include_colab_link": true
    },
    "accelerator": "GPU"
  },
  "cells": [
    {
      "cell_type": "markdown",
      "metadata": {
        "id": "view-in-github",
        "colab_type": "text"
      },
      "source": [
        "<a href=\"https://colab.research.google.com/github/morbosohex/Workflow/blob/master/ch4_document_embedding.ipynb\" target=\"_parent\"><img src=\"https://colab.research.google.com/assets/colab-badge.svg\" alt=\"Open In Colab\"/></a>"
      ]
    },
    {
      "cell_type": "code",
      "metadata": {
        "id": "peG8w_szu8tu",
        "colab_type": "code",
        "colab": {
          "base_uri": "https://localhost:8080/",
          "height": 125
        },
        "outputId": "044bb40b-f29f-434b-d84a-f9b5a9c897f0"
      },
      "source": [
        "from google.colab import drive\n",
        "drive.mount('/content/drive')"
      ],
      "execution_count": 2,
      "outputs": [
        {
          "output_type": "stream",
          "text": [
            "Go to this URL in a browser: https://accounts.google.com/o/oauth2/auth?client_id=947318989803-6bn6qk8qdgf4n4g3pfee6491hc0brc4i.apps.googleusercontent.com&redirect_uri=urn%3Aietf%3Awg%3Aoauth%3A2.0%3Aoob&scope=email%20https%3A%2F%2Fwww.googleapis.com%2Fauth%2Fdocs.test%20https%3A%2F%2Fwww.googleapis.com%2Fauth%2Fdrive%20https%3A%2F%2Fwww.googleapis.com%2Fauth%2Fdrive.photos.readonly%20https%3A%2F%2Fwww.googleapis.com%2Fauth%2Fpeopleapi.readonly&response_type=code\n",
            "\n",
            "Enter your authorization code:\n",
            "··········\n",
            "Mounted at /content/drive\n"
          ],
          "name": "stdout"
        }
      ]
    },
    {
      "cell_type": "code",
      "metadata": {
        "id": "tBzsOUW7u3e4",
        "colab_type": "code",
        "colab": {}
      },
      "source": [
        "import os\n",
        "os.chdir('/content/drive/My Drive/Colab Notebooks/tensorflow-nlp-book/ch4')"
      ],
      "execution_count": 0,
      "outputs": []
    },
    {
      "cell_type": "markdown",
      "metadata": {
        "id": "JTgoBlHiunmO",
        "colab_type": "text"
      },
      "source": [
        "# Document Embedding with Word2Vec"
      ]
    },
    {
      "cell_type": "code",
      "metadata": {
        "id": "ZHMc5xRKunmP",
        "colab_type": "code",
        "colab": {}
      },
      "source": [
        "# These are all the modules we'll be using later. Make sure you can import them\n",
        "# before proceeding further.\n",
        "%matplotlib inline\n",
        "from __future__ import print_function\n",
        "import collections\n",
        "import math\n",
        "import numpy as np\n",
        "import os\n",
        "import random\n",
        "import tensorflow as tf\n",
        "import zipfile\n",
        "from matplotlib import pylab\n",
        "import matplotlib.cm as cm\n",
        "from six.moves import range\n",
        "from six.moves.urllib.request import urlretrieve\n",
        "from sklearn.manifold import TSNE\n",
        "from sklearn.cluster import KMeans\n",
        "import nltk # standard preprocessing\n",
        "import operator # sorting items in dictionary by value\n",
        "#nltk.download() #tokenizers/punkt/PY3/english.pickle\n",
        "from math import ceil"
      ],
      "execution_count": 0,
      "outputs": []
    },
    {
      "cell_type": "markdown",
      "metadata": {
        "id": "ATU494F7unmT",
        "colab_type": "text"
      },
      "source": [
        "## Dataset\n",
        "This code downloads a [dataset](http://mlg.ucd.ie/datasets/bbc.html) consisting of several BBC news articles belonging to various categories (e.g. sport, politics, etc.). Additionally the code makes sure the file has the correct size after downloading it."
      ]
    },
    {
      "cell_type": "code",
      "metadata": {
        "id": "mNcrqlFvunmU",
        "colab_type": "code",
        "colab": {
          "base_uri": "https://localhost:8080/",
          "height": 34
        },
        "outputId": "9a7356d6-936a-41ca-d51d-a7ae2526e7ec"
      },
      "source": [
        "url = 'http://mlg.ucd.ie/files/datasets/'\n",
        "\n",
        "def maybe_download(filename, expected_bytes):\n",
        "  \"\"\"Download a file if not present, and make sure it's the right size.\"\"\"\n",
        "  if not os.path.exists(filename):\n",
        "    filename, _ = urlretrieve(url + filename, filename)\n",
        "  statinfo = os.stat(filename)\n",
        "  if statinfo.st_size == expected_bytes:\n",
        "    print('Found and verified %s' % filename)\n",
        "  else:\n",
        "    print(statinfo.st_size)\n",
        "    raise Exception(\n",
        "      'Failed to verify ' + filename + '. Can you get to it with a browser?')\n",
        "  return filename\n",
        "\n",
        "filename = maybe_download('bbc-fulltext.zip', 2874078)"
      ],
      "execution_count": 5,
      "outputs": [
        {
          "output_type": "stream",
          "text": [
            "Found and verified bbc-fulltext.zip\n"
          ],
          "name": "stdout"
        }
      ]
    },
    {
      "cell_type": "markdown",
      "metadata": {
        "id": "SWtFbb8MunmW",
        "colab_type": "text"
      },
      "source": [
        "## Read Data with Preprocessing with NLTK\n",
        "Reads data as it is to a string, convert to lower-case and tokenize it using the nltk library. We have two functions `read_data` which reads `files_to_read_for_topic` files from each category and `read_test_data` which set aside 10 documents from the read documents for testing purposes."
      ]
    },
    {
      "cell_type": "code",
      "metadata": {
        "id": "3C_1pDG62zYM",
        "colab_type": "code",
        "colab": {
          "base_uri": "https://localhost:8080/",
          "height": 70
        },
        "outputId": "67cfaa6b-b7d7-4476-c6ec-0df30cf7824a"
      },
      "source": [
        "import nltk\n",
        "nltk.download('punkt')\n",
        " "
      ],
      "execution_count": 6,
      "outputs": [
        {
          "output_type": "stream",
          "text": [
            "[nltk_data] Downloading package punkt to /root/nltk_data...\n",
            "[nltk_data]   Unzipping tokenizers/punkt.zip.\n"
          ],
          "name": "stdout"
        },
        {
          "output_type": "execute_result",
          "data": {
            "text/plain": [
              "True"
            ]
          },
          "metadata": {
            "tags": []
          },
          "execution_count": 6
        }
      ]
    },
    {
      "cell_type": "code",
      "metadata": {
        "id": "v5pPVu3FunmX",
        "colab_type": "code",
        "colab": {
          "base_uri": "https://localhost:8080/",
          "height": 281
        },
        "outputId": "ea96dca5-564f-40e5-9a40-7ebbb63f47ed"
      },
      "source": [
        "def read_data(filename):\n",
        "  \"\"\"\n",
        "  Extract articles up to a given threshold in a zip file as a list of words\n",
        "  and pre-processes it using the nltk python library\n",
        "  \"\"\"\n",
        "  data = []\n",
        "  files_to_read_for_topic = 250\n",
        "  topics = ['business','entertainment','politics','sport','tech']\n",
        "  with zipfile.ZipFile(filename) as z:\n",
        "    parent_dir = z.namelist()[0]\n",
        "    for t in topics:\n",
        "        print('\\tFinished reading data for topic: ',t)\n",
        "        for fi in range(1,files_to_read_for_topic):\n",
        "            with z.open(parent_dir + t + '/'+ format(fi,'03d')+'.txt') as f:\n",
        "                file_string = f.read().decode('latin-1')\n",
        "                file_string = file_string.lower()\n",
        "                file_string = nltk.word_tokenize(file_string)\n",
        "                data.extend(file_string)\n",
        "                \n",
        "    return data\n",
        "\n",
        "def read_test_data(filename):\n",
        "  \"\"\"\n",
        "  Extract articles up to a given threshold in a zip file as a list of words\n",
        "  and pre-processes it using the nltk python library\n",
        "  \"\"\"\n",
        "  test_data = {}\n",
        "  files_to_read_for_topic = 250\n",
        "  topics = ['business','entertainment','politics','sport','tech']\n",
        "  with zipfile.ZipFile(filename) as z:\n",
        "    parent_dir = z.namelist()[0]\n",
        "    for t in topics:\n",
        "        print('\\tFinished reading data for topic: ',t)\n",
        "        # 每一个主题随机选择10个\n",
        "        for fi in np.random.randint(1,files_to_read_for_topic,(10)).tolist():\n",
        "            with z.open(parent_dir + t + '/'+ format(fi,'03d')+'.txt') as f:\n",
        "                file_string = f.read().decode('latin-1')\n",
        "                file_string = file_string.lower()\n",
        "                file_string = nltk.word_tokenize(file_string)\n",
        "                test_data[t+'-'+str(fi)] = file_string\n",
        "                \n",
        "    return test_data\n",
        "\n",
        "print('Processing training data...')\n",
        "words = read_data(filename)\n",
        "print('\\nProcessing testing data...')\n",
        "test_words = read_test_data(filename)\n",
        "\n",
        "print('Example words (start): ',words[:10])\n",
        "print('Example words (end): ',words[-10:])"
      ],
      "execution_count": 7,
      "outputs": [
        {
          "output_type": "stream",
          "text": [
            "Processing training data...\n",
            "\tFinished reading data for topic:  business\n",
            "\tFinished reading data for topic:  entertainment\n",
            "\tFinished reading data for topic:  politics\n",
            "\tFinished reading data for topic:  sport\n",
            "\tFinished reading data for topic:  tech\n",
            "\n",
            "Processing testing data...\n",
            "\tFinished reading data for topic:  business\n",
            "\tFinished reading data for topic:  entertainment\n",
            "\tFinished reading data for topic:  politics\n",
            "\tFinished reading data for topic:  sport\n",
            "\tFinished reading data for topic:  tech\n",
            "Example words (start):  ['ad', 'sales', 'boost', 'time', 'warner', 'profit', 'quarterly', 'profits', 'at', 'us']\n",
            "Example words (end):  ['almost', '200,000', 'people', 'are', 'registered', 'players', 'on', 'project', 'entropia', '.']\n"
          ],
          "name": "stdout"
        }
      ]
    },
    {
      "cell_type": "markdown",
      "metadata": {
        "id": "Lh1u96JjunmZ",
        "colab_type": "text"
      },
      "source": [
        "## Building the Dictionaries\n",
        "Builds the following. To understand each of these elements, let us also assume the text \"I like to go to school\"\n",
        "\n",
        "* `dictionary`: maps a string word to an ID (e.g. {I:0, like:1, to:2, go:3, school:4})\n",
        "* `reverse_dictionary`: maps an ID to a string word (e.g. {0:I, 1:like, 2:to, 3:go, 4:school}\n",
        "* `count`: List of list of (word, frequency) elements (e.g. [(I,1),(like,1),(to,2),(go,1),(school,1)]\n",
        "* `data` : Contain the string of text we read, where string words are replaced with word IDs (e.g. [0, 1, 2, 3, 2, 4])\n",
        "\n",
        "It also introduces an additional special token `UNK` to denote rare words to are too rare to make use of."
      ]
    },
    {
      "cell_type": "code",
      "metadata": {
        "id": "NZn-cw4qunmZ",
        "colab_type": "code",
        "colab": {
          "base_uri": "https://localhost:8080/",
          "height": 970
        },
        "outputId": "731719fa-0e7e-43af-c5fd-8cb5313ef44a"
      },
      "source": [
        "vocabulary_size = 25000\n",
        "\n",
        "def build_dataset(words):\n",
        "  # Allocate a special token for rare words\n",
        "  count = [['UNK', -1]]\n",
        "\n",
        "  # Gets only the vocabulary_size most common words as the vocabulary\n",
        "  # All the other words will be replaced with UNK token\n",
        "  count.extend(collections.Counter(words).most_common(vocabulary_size - 1))\n",
        "\n",
        "\n",
        "  # Create an ID for each word by giving the current length of the dictionary\n",
        "  # And adding that item to the dictionary\n",
        "  dictionary = dict()\n",
        "  for word, _ in count:\n",
        "    dictionary[word] = len(dictionary)\n",
        "    \n",
        "  data = list()\n",
        "  unk_count = 0\n",
        "    \n",
        "  # Traverse through all the text we have and produce a list\n",
        "  # where each element corresponds to the ID of the word found at that index\n",
        "  for word in words:\n",
        "    # If word is in the dictionary use the word ID,\n",
        "    # else use the ID of the special token \"UNK\"\n",
        "    if word in dictionary:\n",
        "      index = dictionary[word]\n",
        "    else:\n",
        "      index = 0  # dictionary['UNK']\n",
        "      unk_count = unk_count + 1\n",
        "    data.append(index)\n",
        "  \n",
        "  # update the count variable with the number of UNK occurences\n",
        "  count[0][1] = unk_count\n",
        "    \n",
        "  reverse_dictionary = dict(zip(dictionary.values(), dictionary.keys())) \n",
        "  # Make sure the dictionary is of size of the vocabulary\n",
        "  assert len(dictionary) == vocabulary_size\n",
        "\n",
        "  return data, count, dictionary, reverse_dictionary\n",
        "\n",
        "def build_dataset_with_existing_dictionary(words, dictionary):\n",
        "    '''\n",
        "    Here we use this function to convert word strings to IDs\n",
        "    with a given dictionary\n",
        "    '''\n",
        "    data = list()\n",
        "    for word in words:\n",
        "        if word in dictionary:\n",
        "          index = dictionary[word]\n",
        "        else:\n",
        "          index = 0  # dictionary['UNK']\n",
        "        data.append(index)\n",
        "    return data\n",
        "\n",
        "# Processining training data\n",
        "data, count, dictionary, reverse_dictionary = build_dataset(words)\n",
        "\n",
        "# Processing test data\n",
        "test_data = {}\n",
        "for k,v in test_words.items():\n",
        "    print('Building Test Dataset for ',k,' topic')\n",
        "    test_data[k] = build_dataset_with_existing_dictionary(test_words[k],dictionary)\n",
        "    \n",
        "print('Most common words (+UNK)', count[:5])\n",
        "print('Sample data', data[:10])\n",
        "print('test keys: ',test_data.keys())\n",
        "del words  # Hint to reduce memory.\n",
        "del test_words"
      ],
      "execution_count": 8,
      "outputs": [
        {
          "output_type": "stream",
          "text": [
            "Building Test Dataset for  business-194  topic\n",
            "Building Test Dataset for  business-33  topic\n",
            "Building Test Dataset for  business-50  topic\n",
            "Building Test Dataset for  business-123  topic\n",
            "Building Test Dataset for  business-1  topic\n",
            "Building Test Dataset for  business-55  topic\n",
            "Building Test Dataset for  business-46  topic\n",
            "Building Test Dataset for  business-213  topic\n",
            "Building Test Dataset for  business-151  topic\n",
            "Building Test Dataset for  business-53  topic\n",
            "Building Test Dataset for  entertainment-16  topic\n",
            "Building Test Dataset for  entertainment-156  topic\n",
            "Building Test Dataset for  entertainment-198  topic\n",
            "Building Test Dataset for  entertainment-161  topic\n",
            "Building Test Dataset for  entertainment-116  topic\n",
            "Building Test Dataset for  entertainment-201  topic\n",
            "Building Test Dataset for  entertainment-126  topic\n",
            "Building Test Dataset for  entertainment-97  topic\n",
            "Building Test Dataset for  entertainment-122  topic\n",
            "Building Test Dataset for  entertainment-245  topic\n",
            "Building Test Dataset for  politics-163  topic\n",
            "Building Test Dataset for  politics-213  topic\n",
            "Building Test Dataset for  politics-143  topic\n",
            "Building Test Dataset for  politics-195  topic\n",
            "Building Test Dataset for  politics-162  topic\n",
            "Building Test Dataset for  politics-215  topic\n",
            "Building Test Dataset for  politics-50  topic\n",
            "Building Test Dataset for  politics-100  topic\n",
            "Building Test Dataset for  politics-193  topic\n",
            "Building Test Dataset for  politics-64  topic\n",
            "Building Test Dataset for  sport-72  topic\n",
            "Building Test Dataset for  sport-175  topic\n",
            "Building Test Dataset for  sport-212  topic\n",
            "Building Test Dataset for  sport-239  topic\n",
            "Building Test Dataset for  sport-70  topic\n",
            "Building Test Dataset for  sport-84  topic\n",
            "Building Test Dataset for  sport-230  topic\n",
            "Building Test Dataset for  sport-125  topic\n",
            "Building Test Dataset for  sport-97  topic\n",
            "Building Test Dataset for  sport-114  topic\n",
            "Building Test Dataset for  tech-133  topic\n",
            "Building Test Dataset for  tech-90  topic\n",
            "Building Test Dataset for  tech-99  topic\n",
            "Building Test Dataset for  tech-83  topic\n",
            "Building Test Dataset for  tech-229  topic\n",
            "Building Test Dataset for  tech-89  topic\n",
            "Building Test Dataset for  tech-9  topic\n",
            "Building Test Dataset for  tech-167  topic\n",
            "Building Test Dataset for  tech-120  topic\n",
            "Building Test Dataset for  tech-185  topic\n",
            "Most common words (+UNK) [['UNK', 912], ('the', 28312), ('.', 21345), (',', 18517), ('to', 13509)]\n",
            "Sample data [4364, 170, 702, 79, 2435, 955, 4365, 533, 25, 54]\n",
            "test keys:  dict_keys(['business-194', 'business-33', 'business-50', 'business-123', 'business-1', 'business-55', 'business-46', 'business-213', 'business-151', 'business-53', 'entertainment-16', 'entertainment-156', 'entertainment-198', 'entertainment-161', 'entertainment-116', 'entertainment-201', 'entertainment-126', 'entertainment-97', 'entertainment-122', 'entertainment-245', 'politics-163', 'politics-213', 'politics-143', 'politics-195', 'politics-162', 'politics-215', 'politics-50', 'politics-100', 'politics-193', 'politics-64', 'sport-72', 'sport-175', 'sport-212', 'sport-239', 'sport-70', 'sport-84', 'sport-230', 'sport-125', 'sport-97', 'sport-114', 'tech-133', 'tech-90', 'tech-99', 'tech-83', 'tech-229', 'tech-89', 'tech-9', 'tech-167', 'tech-120', 'tech-185'])\n"
          ],
          "name": "stdout"
        }
      ]
    },
    {
      "cell_type": "markdown",
      "metadata": {
        "id": "CEVGVJJRunmb",
        "colab_type": "text"
      },
      "source": [
        "## Generating Batches of Data for Skip-Gram\n",
        "Generates a batch or target words (`batch`) and a batch of corresponding context words (`labels`). It reads `2*window_size+1` words at a time (called a `span`) and create `2*window_size` datapoints in a single span. The function continue in this manner until `batch_size` datapoints are created. Everytime we reach the end of the word sequence, we start from beginning. "
      ]
    },
    {
      "cell_type": "code",
      "metadata": {
        "id": "BFosyVS-unmc",
        "colab_type": "code",
        "colab": {
          "base_uri": "https://localhost:8080/",
          "height": 178
        },
        "outputId": "c649b8f9-d5ad-43e1-eba8-066513fd570e"
      },
      "source": [
        "data_index = 0\n",
        "\n",
        "def generate_batch(data, batch_size, window_size):\n",
        "    # data_index is updated by 1 everytime we read a data point\n",
        "    global data_index\n",
        "    \n",
        "    # span defines the total window size, where\n",
        "    # data we consider at an instance looks as follows. \n",
        "    # [ skip_window target skip_window ]\n",
        "    span = 2 * window_size + 1\n",
        "    \n",
        "    # two numpy arras to hold target words (batch)\n",
        "    # and context words (labels)\n",
        "    batch = np.ndarray(shape=(batch_size,span-1), dtype=np.int32)\n",
        "    labels = np.ndarray(shape=(batch_size, 1), dtype=np.int32)\n",
        "    \n",
        "    # The buffer holds the data contained within the span\n",
        "    buffer = collections.deque(maxlen=span)\n",
        "\n",
        "    # Fill the buffer and update the data_index\n",
        "    for _ in range(span):\n",
        "        buffer.append(data[data_index])\n",
        "        data_index = (data_index + 1) % len(data)\n",
        "\n",
        "    # This is the number of context words we sample for a single target word\n",
        "    num_samples = 2*window_size \n",
        "\n",
        "    # We break the batch reading into two for loops\n",
        "    # The inner for loop fills in the batch and labels with \n",
        "    # num_samples data points using data contained withing the span\n",
        "    # The outper for loop repeat this for batch_size//num_samples times\n",
        "    # to produce a full batch\n",
        "    for i in range(batch_size // num_samples):\n",
        "      k=0\n",
        "      # avoid the target word itself as a prediction\n",
        "      # fill in batch and label numpy arrays\n",
        "      for j in list(range(window_size))+list(range(window_size+1,2*window_size+1)):\n",
        "        batch[i * num_samples + k] = buffer[window_size]\n",
        "        labels[i * num_samples + k, 0] = buffer[j]\n",
        "        k += 1 \n",
        "    \n",
        "      # Everytime we read num_samples data points,\n",
        "      # we have created the maximum number of datapoints possible\n",
        "      # withing a single span, so we need to move the span by 1\n",
        "      # to create a fresh new span\n",
        "      buffer.append(data[data_index])\n",
        "      data_index = (data_index + 1) % len(data)\n",
        "\n",
        "    assert batch.shape[0]==batch_size and batch.shape[1]== span-1\n",
        "    return batch, labels\n",
        "\n",
        "for window_size in [1,2]:\n",
        "    data_index = 0\n",
        "    batch, labels = generate_batch(data, batch_size=8, window_size=window_size)\n",
        "    print('\\nwith window_size = %d:' % (window_size))\n",
        "    print('    batch:', [[reverse_dictionary[bii] for bii in bi] for bi in batch])\n",
        "    print('    labels:', [reverse_dictionary[li] for li in labels.reshape(8)])"
      ],
      "execution_count": 9,
      "outputs": [
        {
          "output_type": "stream",
          "text": [
            "\n",
            "with window_size = 1:\n",
            "    batch: [['sales', 'sales'], ['sales', 'sales'], ['boost', 'boost'], ['boost', 'boost'], ['time', 'time'], ['time', 'time'], ['warner', 'warner'], ['warner', 'warner']]\n",
            "    labels: ['ad', 'boost', 'sales', 'time', 'boost', 'warner', 'time', 'profit']\n",
            "\n",
            "with window_size = 2:\n",
            "    batch: [['boost', 'boost', 'boost', 'boost'], ['boost', 'boost', 'boost', 'boost'], ['boost', 'boost', 'boost', 'boost'], ['boost', 'boost', 'boost', 'boost'], ['time', 'time', 'time', 'time'], ['time', 'time', 'time', 'time'], ['time', 'time', 'time', 'time'], ['time', 'time', 'time', 'time']]\n",
            "    labels: ['ad', 'sales', 'time', 'warner', 'sales', 'boost', 'warner', 'profit']\n"
          ],
          "name": "stdout"
        }
      ]
    },
    {
      "cell_type": "code",
      "metadata": {
        "id": "YVun-YoNunme",
        "colab_type": "code",
        "colab": {
          "base_uri": "https://localhost:8080/",
          "height": 70
        },
        "outputId": "420364f1-47ed-436d-ab23-4aa3273c81f5"
      },
      "source": [
        "test_data_index = 0\n",
        "\n",
        "def generate_test_batch(data, batch_size):\n",
        "    '''\n",
        "    Generate a batch of data from the test data\n",
        "    This is used to compute the document embedding\n",
        "    by taking the average of all the words in a document\n",
        "    '''\n",
        "    global test_data_index\n",
        "\n",
        "    batch = np.ndarray(shape=(batch_size,), dtype=np.int32)\n",
        "    # Get words starting from index 0 to span\n",
        "    for bi in range(batch_size):\n",
        "        batch[bi] = data[test_data_index]\n",
        "        test_data_index = (test_data_index + 1) % len(data)\n",
        "\n",
        "    return batch\n",
        "\n",
        "test_data_index = 0\n",
        "\n",
        "test_batch = generate_test_batch(test_data[list(test_data.keys())[0]], batch_size=8)\n",
        "print('\\nwith window_size = %d:' % (window_size))\n",
        "print('    labels:', [reverse_dictionary[li] for li in test_batch.reshape(8)])"
      ],
      "execution_count": 10,
      "outputs": [
        {
          "output_type": "stream",
          "text": [
            "\n",
            "with window_size = 2:\n",
            "    labels: [\"'post-christmas\", 'lull', \"'\", 'in', 'lending', 'uk', 'mortgage', 'lending']\n"
          ],
          "name": "stdout"
        }
      ]
    },
    {
      "cell_type": "markdown",
      "metadata": {
        "id": "oQxqVs5Hunmg",
        "colab_type": "text"
      },
      "source": [
        "# CBOW Algorithm"
      ]
    },
    {
      "cell_type": "markdown",
      "metadata": {
        "id": "pQ5N1YFRunmh",
        "colab_type": "text"
      },
      "source": [
        "### Defining Hyperparameters\n",
        "\n",
        "Here we define several hyperparameters including `batch_size` (amount of samples in a single batch) `embedding_size` (size of embedding vectors) `window_size` (context window size)."
      ]
    },
    {
      "cell_type": "code",
      "metadata": {
        "id": "qcvDeUw1unmh",
        "colab_type": "code",
        "colab": {}
      },
      "source": [
        "batch_size = 128 # Data points in a single batch\n",
        "embedding_size = 128 # Dimension of the embedding vector.\n",
        "window_size = 4 # How many words to consider left and right.\n",
        "\n",
        "# We pick a random validation set to sample nearest neighbors\n",
        "valid_size = 16 # Random set of words to evaluate similarity on.\n",
        "# We sample valid datapoints randomly from a large window without always being deterministic\n",
        "valid_window = 50\n",
        "\n",
        "# When selecting valid examples, we select some of the most frequent words as well as\n",
        "# some moderately rare words as well\n",
        "valid_examples = np.array(random.sample(range(valid_window), valid_size))\n",
        "valid_examples = np.append(valid_examples,random.sample(range(1000, 1000+valid_window), valid_size),axis=0)\n",
        "\n",
        "num_sampled = 32 # Number of negative examples to sample."
      ],
      "execution_count": 0,
      "outputs": []
    },
    {
      "cell_type": "markdown",
      "metadata": {
        "id": "ykngR_DSunmj",
        "colab_type": "text"
      },
      "source": [
        "### Defining Inputs and Outputs\n",
        "\n",
        "Here we define placeholders for feeding in training inputs and outputs (each of size `batch_size`) and a constant tensor to contain validation examples."
      ]
    },
    {
      "cell_type": "code",
      "metadata": {
        "id": "PXQo6_1ounmk",
        "colab_type": "code",
        "colab": {}
      },
      "source": [
        "tf.reset_default_graph()\n",
        "\n",
        "# Training input data (target word IDs).\n",
        "train_dataset = tf.placeholder(tf.int32, shape=[batch_size,2*window_size])\n",
        "\n",
        "# Training input label data (context word IDs)\n",
        "train_labels = tf.placeholder(tf.int32, shape=[batch_size, 1])\n",
        "\n",
        "# Validation input data, we don't need a placeholder\n",
        "# as we have already defined the IDs of the words selected\n",
        "# as validation data used to evaluate the word vectors\n",
        "valid_dataset = tf.constant(valid_examples, dtype=tf.int32)\n",
        "\n",
        "# Test data. This is used to compute the document embeddings by averaging\n",
        "# word embeddings of a given document\n",
        "test_labels = tf.placeholder(tf.int32, shape=[batch_size],name='test_dataset')"
      ],
      "execution_count": 0,
      "outputs": []
    },
    {
      "cell_type": "markdown",
      "metadata": {
        "id": "gHtcvdfRunmm",
        "colab_type": "text"
      },
      "source": [
        "### Defining Model Parameters and Other Variables\n",
        "We now define several TensorFlow variables such as an embedding layer (`embeddings`) and neural network parameters (`softmax_weights` and `softmax_biases`)"
      ]
    },
    {
      "cell_type": "code",
      "metadata": {
        "id": "TNVaZEN4unmm",
        "colab_type": "code",
        "colab": {}
      },
      "source": [
        "# Variables.\n",
        "# embedding, vector for each word in the vocabulary\n",
        "embeddings = tf.Variable(tf.random_uniform([vocabulary_size, embedding_size], -1.0, 1.0,dtype=tf.float32))\n",
        "softmax_weights = tf.Variable(tf.truncated_normal([vocabulary_size, embedding_size],\n",
        "                     stddev=1.0 / math.sqrt(embedding_size),dtype=tf.float32))\n",
        "softmax_biases = tf.Variable(tf.zeros([vocabulary_size],dtype=tf.float32))"
      ],
      "execution_count": 0,
      "outputs": []
    },
    {
      "cell_type": "markdown",
      "metadata": {
        "id": "TkxLutR0unmr",
        "colab_type": "text"
      },
      "source": [
        "### Defining the Model Computations\n",
        "\n",
        "We first defing a lookup function to fetch the corresponding embedding vectors for a set of given inputs. With that, we define negative sampling loss function `tf.nn.sampled_softmax_loss` which takes in the embedding vectors and previously defined neural network parameters."
      ]
    },
    {
      "cell_type": "code",
      "metadata": {
        "id": "tqzBG2vLOwvT",
        "colab_type": "code",
        "colab": {
          "base_uri": "https://localhost:8080/",
          "height": 34
        },
        "outputId": "98fb4151-14ee-4e5d-8bd8-6704a87fb252"
      },
      "source": [
        "train_dataset.get_shape()"
      ],
      "execution_count": 14,
      "outputs": [
        {
          "output_type": "execute_result",
          "data": {
            "text/plain": [
              "TensorShape([Dimension(128), Dimension(8)])"
            ]
          },
          "metadata": {
            "tags": []
          },
          "execution_count": 14
        }
      ]
    },
    {
      "cell_type": "markdown",
      "metadata": {
        "id": "Rj878vzSdO6F",
        "colab_type": "text"
      },
      "source": [
        "![image.png](https://upload-images.jianshu.io/upload_images/12735209-d3d1ea07b0189f28.png?imageMogr2/auto-orient/strip%7CimageView2/2/w/800)\n",
        "\n",
        "\n",
        "\n",
        "该图可以阐述下面的代码的目的\n",
        "```python\n",
        "stacked_embedings = None\n",
        "print('Defining %d embedding lookups representing each word in the context'%(2*window_size))\n",
        "for i in range(2*window_size):\n",
        "    embedding_i = tf.nn.embedding_lookup(embeddings, train_dataset[:,i])  \n",
        "    print('embedding shape: ', embedding_i.get_shape().as_list())      \n",
        "    x_size,y_size = embedding_i.get_shape().as_list()\n",
        "    if stacked_embedings is None:\n",
        "        stacked_embedings = tf.reshape(embedding_i,[x_size,y_size,1])\n",
        "    else:\n",
        "        stacked_embedings = tf.concat(axis=2,values=[stacked_embedings,tf.reshape(embedding_i,[x_size,y_size,1])])\n",
        "```\n",
        "\n",
        "其中`train_dataset`的维度为`(128, 8)`, 128指的是上面指定的`batch_size`, 8指的是上面指定的`window_size`是4，目标词左右两边各4，所以此处为8\n",
        "\n",
        "给定一批上面的`train_dataset`数据后，通过for 循环每一批的每一个上下文词，此处循环8次，因为有8个上下文词\n",
        "```python\n",
        "for i in range(2*window_size):\n",
        "    embedding_i = tf.nn.embedding_lookup(embeddings, train_dataset[:,i]) \n",
        "```\n",
        "此处处理的策略是对于（128， 8）中对于128中的每一个，取8个中的第一个词在嵌入层中查找，因此就可以得到类似与上图立方体的维度，其中箭头所指的方向就是查找的嵌入向量，此处设定为128，因此对于每个上下文词都可以得到`(128, 128)`，因为要求出8个词向量的均值，因此要将他们进行堆叠，然后求均值，但是堆叠前还需要增加另外一个维度，也就是上图中向上的箭头，具体操作对应下面的代码\n",
        "\n",
        "```python\n",
        "x_size,y_size = embedding_i.get_shape().as_list()\n",
        "if stacked_embedings is None:\n",
        "        stacked_embedings = tf.reshape(embedding_i,[x_size,y_size,1])\n",
        "    else:\n",
        "        stacked_embedings = tf.concat(axis=2,values=[stacked_embedings,tf.reshape(embedding_i,[x_size,y_size,1])])\n",
        "```\n",
        "对于第一个128，128的embedding_i张量，执行`if stacked_embedings is None:`中的语句，需要将第一个embedding_i增加一维，也就是执行`tf.reshape(embedding_i,[x_size,y_size,1])`, 此处x_size=128，y_size=128， 1是因为只是其中一个词的，也就是上图所示的那样。\n",
        "\n",
        "对于之后的128，128的embedding_i张量，执行`else`里面的语句，也就是在上图中，在箭头向上的维度继续堆叠，直到堆叠达到8个\n",
        "\n",
        "堆叠后的张量的shape是Stacked embedding size: [128, 128, 8]\n",
        "\n",
        "然后对堆叠后的张量求均值， keep_dims：是否降维度，设置为True，输出的结果保持输入tensor的形状，设置为False，输出结果会降低维度;此时在维度2，也就是箭头向上的维度上求均值\n",
        "mean_embeddings =  tf.reduce_mean(stacked_embedings,2,keepdims=False)\n",
        "然后mean_embeddings的shape为（128， 128）\n",
        "\n",
        "如果keepdims=True, 得到的shape为（128， 128， 1）"
      ]
    },
    {
      "cell_type": "code",
      "metadata": {
        "id": "mj7mDukHunms",
        "colab_type": "code",
        "colab": {
          "base_uri": "https://localhost:8080/",
          "height": 210
        },
        "outputId": "5482f567-5cd2-4ba5-b048-97b609938401"
      },
      "source": [
        "# Used to compute document embeddings by averaging all the word vectors of a \n",
        "# given batch of test data\n",
        "mean_batch_embedding = tf.reduce_mean(tf.nn.embedding_lookup(embeddings,test_labels),axis=0)\n",
        "    \n",
        "# Model.\n",
        "# Look up embeddings for all the context words of the inputs.\n",
        "# Then compute a tensor by staking embeddings of all context words\n",
        "stacked_embedings = None\n",
        "print('Defining %d embedding lookups representing each word in the context'%(2*window_size))\n",
        "for i in range(2*window_size):\n",
        "    embedding_i = tf.nn.embedding_lookup(embeddings, train_dataset[:,i])  \n",
        "    print('embedding shape: ', embedding_i.get_shape().as_list())      \n",
        "    x_size,y_size = embedding_i.get_shape().as_list()\n",
        "    if stacked_embedings is None:\n",
        "        stacked_embedings = tf.reshape(embedding_i,[x_size,y_size,1])\n",
        "    else:\n",
        "        stacked_embedings = tf.concat(axis=2,values=[stacked_embedings,tf.reshape(embedding_i,[x_size,y_size,1])])\n",
        "\n",
        "# Make sure the staked embeddings have 2*window_size columns\n",
        "assert stacked_embedings.get_shape().as_list()[2]==2*window_size\n",
        "print(\"Stacked embedding size: %s\"%stacked_embedings.get_shape().as_list())\n",
        "\n",
        "# Compute mean embeddings by taking the mean of the tensor containing the stack of embeddings\n",
        "# keep_dims：是否降维度，设置为True，输出的结果保持输入tensor的形状，设置为False，输出结果会降低维度;\n",
        "mean_embeddings =  tf.reduce_mean(stacked_embedings,2,keepdims=False)\n",
        "print(\"Reduced mean embedding size: %s\"%mean_embeddings.get_shape().as_list())\n"
      ],
      "execution_count": 15,
      "outputs": [
        {
          "output_type": "stream",
          "text": [
            "Defining 8 embedding lookups representing each word in the context\n",
            "embedding shape:  [128, 128]\n",
            "embedding shape:  [128, 128]\n",
            "embedding shape:  [128, 128]\n",
            "embedding shape:  [128, 128]\n",
            "embedding shape:  [128, 128]\n",
            "embedding shape:  [128, 128]\n",
            "embedding shape:  [128, 128]\n",
            "embedding shape:  [128, 128]\n",
            "Stacked embedding size: [128, 128, 8]\n",
            "Reduced mean embedding size: [128, 128]\n"
          ],
          "name": "stdout"
        }
      ]
    },
    {
      "cell_type": "code",
      "metadata": {
        "id": "yEl_xWUGnFxB",
        "colab_type": "code",
        "colab": {
          "base_uri": "https://localhost:8080/",
          "height": 34
        },
        "outputId": "db40c43b-883e-426f-f18a-65b085a951a4"
      },
      "source": [
        "test_labels"
      ],
      "execution_count": 16,
      "outputs": [
        {
          "output_type": "execute_result",
          "data": {
            "text/plain": [
              "<tf.Tensor 'test_dataset:0' shape=(128,) dtype=int32>"
            ]
          },
          "metadata": {
            "tags": []
          },
          "execution_count": 16
        }
      ]
    },
    {
      "cell_type": "markdown",
      "metadata": {
        "id": "YaFJHSDUunmu",
        "colab_type": "text"
      },
      "source": [
        "## Computing Loss\n",
        "Loss computation using sampled softmax"
      ]
    },
    {
      "cell_type": "code",
      "metadata": {
        "id": "1XKzsz4Aunmu",
        "colab_type": "code",
        "colab": {}
      },
      "source": [
        "# Compute the softmax loss, using a sample of the negative labels each time.\n",
        "# inputs are embeddings of the train words\n",
        "# with this loss we optimize weights, biases, embeddings\n",
        "\n",
        "# If you see the warning\n",
        "# WARNING:tensorflow:From c:\\...\\lib\\site-packages\\tensorflow\\python\\ops\\nn_impl.py:1346: \n",
        "# softmax_cross_entropy_with_logits (from tensorflow.python.ops.nn_ops) is deprecated and \n",
        "# will be removed in a future version.\n",
        "# You can ignore this. This caused by the internally used softmax_cross_entropy_with_logits function\n",
        "loss = tf.reduce_mean(\n",
        "    tf.nn.sampled_softmax_loss(weights=softmax_weights, biases=softmax_biases, inputs=mean_embeddings,\n",
        "                           labels=train_labels, num_sampled=num_sampled, num_classes=vocabulary_size))"
      ],
      "execution_count": 0,
      "outputs": []
    },
    {
      "cell_type": "markdown",
      "metadata": {
        "id": "zhRJBTFOunmx",
        "colab_type": "text"
      },
      "source": [
        "### Calculating Word Similarities \n",
        "We calculate the similarity between two given words in terms of the cosine distance. To do this efficiently we use matrix operations to do so, as shown below."
      ]
    },
    {
      "cell_type": "code",
      "metadata": {
        "id": "v3SPogWAj-my",
        "colab_type": "code",
        "colab": {
          "base_uri": "https://localhost:8080/",
          "height": 34
        },
        "outputId": "3d45699b-ed6f-4699-bdaf-5388425c6b7a"
      },
      "source": [
        "valid_dataset"
      ],
      "execution_count": 18,
      "outputs": [
        {
          "output_type": "execute_result",
          "data": {
            "text/plain": [
              "<tf.Tensor 'Const:0' shape=(32,) dtype=int32>"
            ]
          },
          "metadata": {
            "tags": []
          },
          "execution_count": 18
        }
      ]
    },
    {
      "cell_type": "code",
      "metadata": {
        "id": "XF4hoa6junmy",
        "colab_type": "code",
        "colab": {}
      },
      "source": [
        "# Compute the similarity between minibatch examples and all embeddings.\n",
        "# We use the cosine distance:\n",
        "norm = tf.sqrt(tf.reduce_sum(tf.square(embeddings), 1, keepdims=True))\n",
        "normalized_embeddings = embeddings / norm\n",
        "valid_embeddings = tf.nn.embedding_lookup(normalized_embeddings, valid_dataset)\n",
        "similarity = tf.matmul(valid_embeddings, tf.transpose(normalized_embeddings))"
      ],
      "execution_count": 0,
      "outputs": []
    },
    {
      "cell_type": "markdown",
      "metadata": {
        "id": "ciBrcsJzunm0",
        "colab_type": "text"
      },
      "source": [
        "### Model Parameter Optimizer\n",
        "\n",
        "We then define a constant learning rate and an optimizer which uses the Adagrad method. Feel free to experiment with other optimizers listed [here](https://www.tensorflow.org/api_guides/python/train)."
      ]
    },
    {
      "cell_type": "code",
      "metadata": {
        "id": "pV3Q2FMVlg_1",
        "colab_type": "code",
        "colab": {
          "base_uri": "https://localhost:8080/",
          "height": 34
        },
        "outputId": "cb34c5f8-7805-4d6a-c213-0df728d01e3a"
      },
      "source": [
        "normalized_embeddings"
      ],
      "execution_count": 20,
      "outputs": [
        {
          "output_type": "execute_result",
          "data": {
            "text/plain": [
              "<tf.Tensor 'truediv:0' shape=(25000, 128) dtype=float32>"
            ]
          },
          "metadata": {
            "tags": []
          },
          "execution_count": 20
        }
      ]
    },
    {
      "cell_type": "code",
      "metadata": {
        "id": "jcTx4Nu3lZNj",
        "colab_type": "code",
        "colab": {
          "base_uri": "https://localhost:8080/",
          "height": 34
        },
        "outputId": "dbc50802-9277-4ca2-9cc4-201ecad55e7d"
      },
      "source": [
        "similarity"
      ],
      "execution_count": 21,
      "outputs": [
        {
          "output_type": "execute_result",
          "data": {
            "text/plain": [
              "<tf.Tensor 'MatMul:0' shape=(32, 25000) dtype=float32>"
            ]
          },
          "metadata": {
            "tags": []
          },
          "execution_count": 21
        }
      ]
    },
    {
      "cell_type": "code",
      "metadata": {
        "id": "rdxOoM5_unm1",
        "colab_type": "code",
        "colab": {
          "base_uri": "https://localhost:8080/",
          "height": 107
        },
        "outputId": "59357788-c5ba-4103-de49-66a4bf523ca9"
      },
      "source": [
        "# Optimizer. Adagrad optimizers has learning rates assigned to individual parameters\n",
        "optimizer = tf.train.AdagradOptimizer(1.0).minimize(loss)"
      ],
      "execution_count": 22,
      "outputs": [
        {
          "output_type": "stream",
          "text": [
            "WARNING: Logging before flag parsing goes to stderr.\n",
            "W0905 02:29:20.979434 140493660735360 deprecation.py:506] From /usr/local/lib/python3.6/dist-packages/tensorflow/python/training/adagrad.py:76: calling Constant.__init__ (from tensorflow.python.ops.init_ops) with dtype is deprecated and will be removed in a future version.\n",
            "Instructions for updating:\n",
            "Call initializer instance with the dtype argument instead of passing it to the constructor\n"
          ],
          "name": "stderr"
        }
      ]
    },
    {
      "cell_type": "markdown",
      "metadata": {
        "id": "O2L2J3bwunm3",
        "colab_type": "text"
      },
      "source": [
        "## Running the CBOW Algorithm on Document Data\n",
        "\n",
        "Here we run the CBOW algorithm we defined above. Specifically, we first initialize variables, and then train the algorithm for many steps (`num_steps`). And every few steps we evaluate the algorithm on a fixed validation set and print out the words that appear to be closest for a given set of words."
      ]
    },
    {
      "cell_type": "code",
      "metadata": {
        "id": "4BcfJeidunm3",
        "colab_type": "code",
        "colab": {
          "base_uri": "https://localhost:8080/",
          "height": 1000
        },
        "outputId": "e87f73d2-b14e-436c-a17e-1dad694ae061"
      },
      "source": [
        "num_steps = 100001\n",
        "cbow_loss = []\n",
        "\n",
        "config=tf.ConfigProto(allow_soft_placement=True)\n",
        "# This is an important setting and with limited GPU memory,\n",
        "# not using this option might lead to the following error.\n",
        "# InternalError (see above for traceback): Blas GEMM launch failed : ...\n",
        "config.gpu_options.allow_growth = True\n",
        "\n",
        "with tf.Session(config=config) as session:\n",
        "    \n",
        "    # Initialize the variables in the graph\n",
        "    tf.global_variables_initializer().run()\n",
        "    print('Initialized')\n",
        "    \n",
        "    average_loss = 0\n",
        "    \n",
        "    # Train the Word2vec model for num_step iterations\n",
        "    for step in range(num_steps):\n",
        "        \n",
        "        # Generate a single batch of data\n",
        "        batch_data, batch_labels = generate_batch(data, batch_size, window_size)\n",
        "        \n",
        "        # Populate the feed_dict and run the optimizer (minimize loss)\n",
        "        # and compute the loss\n",
        "        feed_dict = {train_dataset : batch_data, train_labels : batch_labels}\n",
        "        _, l = session.run([optimizer, loss], feed_dict=feed_dict)\n",
        "        \n",
        "        # Update the average loss variable\n",
        "        average_loss += l\n",
        "        \n",
        "        if (step+1) % 2000 == 0:\n",
        "            if step > 0:\n",
        "                average_loss = average_loss / 2000\n",
        "                # The average loss is an estimate of the loss over the last 2000 batches.\n",
        "            print('Average loss at step %d: %f' % (step+1, average_loss))\n",
        "            cbow_loss.append(average_loss)\n",
        "            average_loss = 0\n",
        "        \n",
        "        # Evaluating validation set word similarities\n",
        "        if (step+1) % 10000 == 0:\n",
        "            sim = similarity.eval()\n",
        "            # Here we compute the top_k closest words for a given validation word\n",
        "            # in terms of the cosine distance\n",
        "            # We do this for all the words in the validation set\n",
        "            # Note: This is an expensive step\n",
        "            for i in range(valid_size):\n",
        "                valid_word = reverse_dictionary[valid_examples[i]]\n",
        "                top_k = 8 # number of nearest neighbors\n",
        "                # sim[i, :]的shape为1，25000\n",
        "                # argsort函数返回的是数组值从小到大的索引值\n",
        "                # 加负号在sim前面则返回从大到小的索引值，然后选取前top_k个\n",
        "                nearest = (-sim[i, :]).argsort()[1:top_k+1]\n",
        "                log = 'Nearest to %s:' % valid_word\n",
        "                for k in range(top_k):\n",
        "                    close_word = reverse_dictionary[nearest[k]]\n",
        "                    log = '%s %s,' % (log, close_word)\n",
        "                print(log)\n",
        "    \n",
        "    # Computing test documents embeddings by averaging word embeddings\n",
        "    \n",
        "    # We take batch_size*num_test_steps words from each document\n",
        "    # to compute document embeddings\n",
        "    num_test_steps = 100\n",
        "    \n",
        "    # Store document embeddings\n",
        "    # {document_id:embedding} format\n",
        "    document_embeddings = {}\n",
        "    print('Testing Phase (Compute document embeddings)')\n",
        "    \n",
        "    # For each test document compute document embeddings\n",
        "    for k,v in test_data.items():\n",
        "        print('\\tCalculating mean embedding for document ',k,' with ', num_test_steps, ' steps.')\n",
        "        test_data_index = 0\n",
        "        topic_mean_batch_embeddings = np.empty((num_test_steps,embedding_size),dtype=np.float32)\n",
        "        \n",
        "        # keep averaging mean word embeddings obtained for each step\n",
        "        # 对于其中一个k, 也即是一个主题所对应的词汇，重复num_test_steps\n",
        "        for test_step in range(num_test_steps):\n",
        "            test_batch_labels = generate_test_batch(test_data[k],batch_size)\n",
        "            # batch_mean为单个批次的平均嵌入向量此处为（128，）\n",
        "            batch_mean = session.run(mean_batch_embedding,feed_dict={test_labels:test_batch_labels})\n",
        "            topic_mean_batch_embeddings[test_step,:] = batch_mean\n",
        "        # 对于当前的k,也就是当前的主题，对num_test_steps所得的batch_mean词向量求均值\n",
        "        document_embeddings[k] = np.mean(topic_mean_batch_embeddings,axis=0)\n"
      ],
      "execution_count": 23,
      "outputs": [
        {
          "output_type": "stream",
          "text": [
            "Initialized\n",
            "Average loss at step 2000: 3.917553\n",
            "Average loss at step 4000: 3.569314\n",
            "Average loss at step 6000: 3.548125\n",
            "Average loss at step 8000: 3.540081\n",
            "Average loss at step 10000: 3.468882\n",
            "Nearest to mr: pittsburgh, entourage, ore, 14.2, he, backgrounds, mundane, stabilise,\n",
            "Nearest to that: consistently, not, it, 143m, taunt, delaney, and, .,\n",
            "Nearest to will: would, to, is, could, should, malta, gail, tackled,\n",
            "Nearest to have: has, by, 6pm, 1.88bn, overlooking, are, roly, had,\n",
            "Nearest to .: ,, endless, and, 170, raids, amd, prevents, gardner,\n",
            "Nearest to with: and, for, dedication, by, measurable, consists, to, removable,\n",
            "Nearest to more: weather, 1st, 16-28, speeded, gellhorn, baggage, tear, sins,\n",
            "Nearest to UNK: crimes, telegraph, fraudsters, ''we, prosperity, hung, starred, anne-aymone,\n",
            "Nearest to not: we, to, that, it, arabs, extremists, portishead, they,\n",
            "Nearest to it: he, we, eagerly, there, i, this, that, not,\n",
            "Nearest to as: rot, somewhere, olmert, co-operate, applauds, 49.2, hid, roles,\n",
            "Nearest to and: for, with, ., of, by, to, 58, bejewelled,\n",
            "Nearest to his: 34-year-old, a, toothless, 6.2km, the, participation, ireland, widely-expected,\n",
            "Nearest to we: it, they, i, 300-strong, not, you, review, broadly,\n",
            "Nearest to had: has, was, 740, have, wednesdays, spin-offs, trafford, gadget',\n",
            "Nearest to by: have, with, of, and, misconception, matter', 4/9, 's,\n",
            "Average loss at step 12000: 3.420759\n",
            "Average loss at step 14000: 3.379013\n",
            "Average loss at step 16000: 3.417188\n",
            "Average loss at step 18000: 3.499345\n",
            "Average loss at step 20000: 3.414737\n",
            "Nearest to mr: he, '', said, ,, connectivity, she, journalists, taxed,\n",
            "Nearest to that: also, but, governments, tragic, if, wrong, because, when,\n",
            "Nearest to will: would, could, can, to, â£1.4bn, should, pent-up, outcome,\n",
            "Nearest to have: had, has, were, see, are, leave, admits, 9ins,\n",
            "Nearest to .: ,, lifts, kok, dem, :, 's, 9ins, that,\n",
            "Nearest to with: scholls, and, collide, psion, other, 24, from, -,\n",
            "Nearest to more: prosecution, than, weather, 104, â£12.5m, millwall, million, 11.5bn,\n",
            "Nearest to UNK: flo, prosperity, with, ''we, crimes, one-time, george, scruggs,\n",
            "Nearest to not: n't, if, likely, what, i, it, you, also,\n",
            "Nearest to it: he, she, what, there, this, we, four-month, collided,\n",
            "Nearest to as: such, describes, liam, introducing, podcasts, cheap, three-day, www.dec.org.uk,\n",
            "Nearest to and: with, -, which, gatwick, buoying, or, five-and-a-half, clamped,\n",
            "Nearest to his: diaghilev, dein, its, supercomputers, an, wars, unchanged, resuming,\n",
            "Nearest to we: i, you, they, it, what, world-leading, tracks, theories,\n",
            "Nearest to had: has, have, was, would, frustrating, is, antenna, re-legislate,\n",
            "Nearest to by: from, which, also, to, again', craig, for, guns,\n",
            "Average loss at step 22000: 3.360839\n",
            "Average loss at step 24000: 3.231487\n",
            "Average loss at step 26000: 3.237657\n",
            "Average loss at step 28000: 3.242747\n",
            "Average loss at step 30000: 3.287430\n",
            "Nearest to mr: he, pittsburgh, losers, 41.48, irresponsibility, journalists, newton-john, but,\n",
            "Nearest to that: ., but, not, it, there, covertly-filmed, to, 10,500m,\n",
            "Nearest to will: would, could, should, to, can, â£1.4bn, is, printer,\n",
            "Nearest to have: has, had, were, are, be, and, rothschild, blackberry,\n",
            "Nearest to .: ,, and, that, :, consuls, comics, blowing, straw,\n",
            "Nearest to with: for, measurable, removable, from, at, consists, darling, carpet,\n",
            "Nearest to more: than, rather, speeded, braff, bizet, separations, widely-expected, less,\n",
            "Nearest to UNK: communism, muller, webroot, 37,000, george, break-even, cate, forrest,\n",
            "Nearest to not: n't, to, sourced, that, buffets, how, here, wary,\n",
            "Nearest to it: he, there, this, but, she, we, i, '',\n",
            "Nearest to as: such, roche, rot, applauds, touring, scratch, 49.2, in,\n",
            "Nearest to and: in, ,, for, ., of, 's, at, approve,\n",
            "Nearest to his: pittsburgh, their, 2.35bn, 34-year-old, ', amazon, manger, packaging,\n",
            "Nearest to we: i, they, you, n't, it, what, re-focused, everest,\n",
            "Nearest to had: has, have, been, spin-offs, was, 87-year-old, manually, graham,\n",
            "Nearest to by: ines, islamophobia, kedas, underlying, pierson, 4/9, which, two-thirds,\n",
            "Average loss at step 32000: 3.240386\n",
            "Average loss at step 34000: 3.152369\n",
            "Average loss at step 36000: 3.169645\n",
            "Average loss at step 38000: 3.284781\n",
            "Average loss at step 40000: 3.261553\n",
            "Nearest to mr: he, '', said, but, she, ``, journalistic, 4,\n",
            "Nearest to that: not, ., but, jobs', if, 16-28, so, cahoot,\n",
            "Nearest to will: would, can, could, should, to, may, grove, uv,\n",
            "Nearest to have: had, has, are, gone, scammers, 1.88bn, see, were,\n",
            "Nearest to .: ,, that, :, filming, suppress, transparency, pipes, kok,\n",
            "Nearest to with: and, in, bedwellty, 24, ', for, -, grind,\n",
            "Nearest to more: than, less, faster, rather, 16-28, weather, rigging, forays,\n",
            "Nearest to UNK: you, adequately, ,, fratton, 37,000, communism, and, forrest,\n",
            "Nearest to not: if, n't, that, petrochemicals, what, understand, it, -,\n",
            "Nearest to it: he, very, not, this, which, really, i, an,\n",
            "Nearest to as: such, well, introducing, and, sizes, ,, auditions, installed,\n",
            "Nearest to and: which, with, to, ,, journalistic, their, where, as,\n",
            "Nearest to his: 13.77m, a, its, hans, neutral, 's, scorer, supercomputers,\n",
            "Nearest to we: you, they, i, n't, he, '', re-focused, nevo,\n",
            "Nearest to had: has, have, re-legislate, was, 740, wednesdays, unpatriotic, would,\n",
            "Nearest to by: has, coaches, lawn, 56.4, for, bono, differentiate, tolstoy,\n",
            "Average loss at step 42000: 3.233897\n",
            "Average loss at step 44000: 3.164385\n",
            "Average loss at step 46000: 3.163165\n",
            "Average loss at step 48000: 3.109508\n",
            "Average loss at step 50000: 3.187750\n",
            "Nearest to mr: he, she, pittsburgh, mod, journalists, it, gordon, 41.48,\n",
            "Nearest to that: it, there, not, to, but, ., what, about,\n",
            "Nearest to will: would, could, can, should, glorious, may, might, negotiations,\n",
            "Nearest to have: has, had, 've, were, gone, 18th-century, be, ux50,\n",
            "Nearest to .: ,, :, and, that, all-out, consuls, spokeswoman, the,\n",
            "Nearest to with: for, dedication, measurable, overhauled, on, lossless, 75., removable,\n",
            "Nearest to more: rather, address, than, faster, get, 16-28, skywalker, mock,\n",
            "Nearest to UNK: george, spitting, story, computer-augmented, break-even, post-tsunami, weekly, connor,\n",
            "Nearest to not: n't, that, to, they, it, intimated, what, wary,\n",
            "Nearest to it: that, there, he, what, this, not, the, i,\n",
            "Nearest to as: such, rot, rough, eastern, jef, 51.39, describes, infancy,\n",
            "Nearest to and: ,, to, in, of, ., the, from, error,\n",
            "Nearest to his: bonnie, 2.35bn, strip, costa, her, skater, wording, an,\n",
            "Nearest to we: i, you, they, n't, everest, eagerly, he, these,\n",
            "Nearest to had: has, have, been, ft., spin-offs, frattini, ock, 740,\n",
            "Nearest to by: ,, ines, -, for, pierson, has, islamophobia, rebound,\n",
            "Average loss at step 52000: 3.162408\n",
            "Average loss at step 54000: 3.133953\n",
            "Average loss at step 56000: 3.025027\n",
            "Average loss at step 58000: 3.130243\n",
            "Average loss at step 60000: 3.185138\n",
            "Nearest to mr: he, '', said, she, 487,939, journalists, added, perry,\n",
            "Nearest to that: but, which, not, sp2, site, inheriting, it, .,\n",
            "Nearest to will: would, can, could, should, may, to, might, braking,\n",
            "Nearest to have: had, has, are, 've, photographs, pooling, scammers, vaccines,\n",
            "Nearest to .: ,, get-together, in, that, suppress, when, icann, :,\n",
            "Nearest to with: 0-1, nears, and, 200., operators, garland, hurts, 0.22,\n",
            "Nearest to more: less, than, rather, encryption, german-us, 427bn, godzilla, totalitarian,\n",
            "Nearest to UNK: spitting, george, computer-augmented, break-even, weekly, post-tsunami, roger, zombie,\n",
            "Nearest to not: n't, that, if, does, intimated, corpus, extremists, iwata,\n",
            "Nearest to it: he, there, loves, that, four-month, she, boyd, warfare,\n",
            "Nearest to as: such, well, subir, vagina, introducing, installed, soon, liam,\n",
            "Nearest to and: ,, from, their, but, oppressive, 4.25m, spamming, of,\n",
            "Nearest to his: its, resuming, evacuated, their, a, her, traviata, buju,\n",
            "Nearest to we: you, i, they, n't, re-focused, non-statutory, theories, '',\n",
            "Nearest to had: has, have, been, was, 740, re-legislate, re-sell, ock,\n",
            "Nearest to by: 5.65bn, the, for, from, integration, escaping, hutch, which,\n",
            "Average loss at step 62000: 3.146740\n",
            "Average loss at step 64000: 3.145249\n",
            "Average loss at step 66000: 3.067138\n",
            "Average loss at step 68000: 3.075689\n",
            "Average loss at step 70000: 3.095331\n",
            "Nearest to mr: he, said, journalists, dr, kiss, '', mod, tore,\n",
            "Nearest to that: but, there, it, fm, societies, ``, anxious, stewardship,\n",
            "Nearest to will: would, could, can, should, may, might, is, comfort,\n",
            "Nearest to have: had, has, gone, are, were, 've, scammers, but,\n",
            "Nearest to .: ,, to, the, consuls, and, 146,000, passionately, by,\n",
            "Nearest to with: and, humans, refund, looming, jez, mcfadden, wheel, description,\n",
            "Nearest to more: than, less, eagerly, rather, hungrier, totalitarian, million, faster,\n",
            "Nearest to UNK: leak, fenton, 40-year, brewing, â£163,748, bening, ;, erasure,\n",
            "Nearest to not: n't, they, if, but, to, i, taken, intimated,\n",
            "Nearest to it: he, we, that, there, but, confined, i, sulimanovic,\n",
            "Nearest to as: such, well, infancy, soon, liam, airport, simplify, repossessed,\n",
            "Nearest to and: with, ., the, ,, burglar, to, from, in,\n",
            "Nearest to his: her, 's, their, ryanair, garnier, 1957., colleges, los,\n",
            "Nearest to we: i, you, they, it, these, n't, eagerly, everest,\n",
            "Nearest to had: has, have, been, was, ft., re-invention, 've, would,\n",
            "Nearest to by: counties, -, kedas, ., tuxford, from, tight-lipped, best-known,\n",
            "Average loss at step 72000: 3.134223\n",
            "Average loss at step 74000: 3.086457\n",
            "Average loss at step 76000: 3.008051\n",
            "Average loss at step 78000: 3.000062\n",
            "Average loss at step 80000: 3.156040\n",
            "Nearest to mr: he, said, dubious, journalists, taxed, '', dr, kill,\n",
            "Nearest to that: but, it, ., the, which, by, also, not,\n",
            "Nearest to will: can, would, could, to, is, might, should, must,\n",
            "Nearest to have: has, had, are, 've, auditor, deadwood, threatening, been,\n",
            "Nearest to .: ,, that, and, get-together, the, but, ?, which,\n",
            "Nearest to with: description, humans, scholls, but, address, bissell, xp, by,\n",
            "Nearest to more: than, less, rather, mobiles, that, some, better, vulnerability,\n",
            "Nearest to UNK: leak, fenton, 40-year, brewing, â£163,748, bening, erasure, game,\n",
            "Nearest to not: n't, if, does, that, they, obviously, donors, intimated,\n",
            "Nearest to it: he, that, there, loves, the, which, integration, firewalls,\n",
            "Nearest to as: such, well, other, viewed, installed, and, infancy, in,\n",
            "Nearest to and: to, but, ., which, over-promise, keystroke, â£35bn, ,,\n",
            "Nearest to his: her, resuming, evacuated, richie, my, idn-disabled, leveraged, goodbody,\n",
            "Nearest to we: i, you, they, these, re-focused, '', everest, things,\n",
            "Nearest to had: has, have, 740, was, 136m, popularity, been, 4/9,\n",
            "Nearest to by: also, that, has, with, 4/9, voyager, in, non,\n",
            "Average loss at step 82000: 3.085411\n",
            "Average loss at step 84000: 3.121828\n",
            "Average loss at step 86000: 3.030394\n",
            "Average loss at step 88000: 3.073156\n",
            "Average loss at step 90000: 2.998643\n",
            "Nearest to mr: he, they, greenspan, who, 46.46, post-production, zhang, journalists,\n",
            "Nearest to that: but, it, ``, there, not, :, what, inheriting,\n",
            "Nearest to will: could, would, can, should, may, on, might, glorious,\n",
            "Nearest to have: had, has, 've, are, patronising, were, optio, their,\n",
            "Nearest to .: ,, and, mirren, shani, the, to, :, after,\n",
            "Nearest to with: and, in, ,, precedent, of, for, from, the,\n",
            "Nearest to more: than, less, hungrier, pro-government, godzilla, people, rather, palestinians,\n",
            "Nearest to UNK: brewing, fenton, game, makisa, jade, 5,000, stagger, 40-year,\n",
            "Nearest to not: n't, but, that, handcuffed, devil, vinci, they, does,\n",
            "Nearest to it: he, what, i, she, that, you, but, we,\n",
            "Nearest to as: such, well, soon, infancy, liam, 16.4bn, repossessed, dodging,\n",
            "Nearest to and: ,, with, ., in, of, the, from, who,\n",
            "Nearest to his: the, her, traviata, remote-controlled, pouncing, he, 21.01, brando,\n",
            "Nearest to we: i, you, they, n't, it, these, '', :,\n",
            "Nearest to had: has, have, was, 've, been, ft., were, progressing,\n",
            "Nearest to by: -, restrictive, counties, tying, from, philip, after, who,\n",
            "Average loss at step 92000: 3.097034\n",
            "Average loss at step 94000: 3.081903\n",
            "Average loss at step 96000: 3.021436\n",
            "Average loss at step 98000: 2.915327\n",
            "Average loss at step 100000: 3.057146\n",
            "Nearest to mr: he, 41.48, dubious, pittsburgh, perry, losers, it, copeland,\n",
            "Nearest to that: it, but, ., the, to, also, of, a,\n",
            "Nearest to will: would, can, could, is, to, might, must, on,\n",
            "Nearest to have: has, had, are, been, 've, overlooking, be, popularity,\n",
            "Nearest to .: ,, and, the, of, -, that, for, to,\n",
            "Nearest to with: and, description, of, collide, for, xp, map, bedwellty,\n",
            "Nearest to more: than, less, people, mosque, better, residual, rather, other,\n",
            "Nearest to UNK: brewing, fenton, makisa, jade, game, 5,000, stagger, 40-year,\n",
            "Nearest to not: n't, they, if, devil, did, ridgeley, to, that,\n",
            "Nearest to it: that, which, he, a, study, photographer, headset, unusual,\n",
            "Nearest to as: such, redesigned, well, and, introducing, vagina, installed, 11,000,\n",
            "Nearest to and: for, to, which, ,, but, ., of, by,\n",
            "Nearest to his: her, thierry, seriously, my, evacuated, its, 160,000, manager,\n",
            "Nearest to we: i, you, they, n't, theories, people, these, re-focused,\n",
            "Nearest to had: has, have, was, 740, been, 've, â£178m, 87-year-old,\n",
            "Nearest to by: has, and, on, for, that, also, in, of,\n",
            "Testing Phase (Compute document embeddings)\n",
            "\tCalculating mean embedding for document  business-194  with  100  steps.\n",
            "\tCalculating mean embedding for document  business-33  with  100  steps.\n",
            "\tCalculating mean embedding for document  business-50  with  100  steps.\n",
            "\tCalculating mean embedding for document  business-123  with  100  steps.\n",
            "\tCalculating mean embedding for document  business-1  with  100  steps.\n",
            "\tCalculating mean embedding for document  business-55  with  100  steps.\n",
            "\tCalculating mean embedding for document  business-46  with  100  steps.\n",
            "\tCalculating mean embedding for document  business-213  with  100  steps.\n",
            "\tCalculating mean embedding for document  business-151  with  100  steps.\n",
            "\tCalculating mean embedding for document  business-53  with  100  steps.\n",
            "\tCalculating mean embedding for document  entertainment-16  with  100  steps.\n",
            "\tCalculating mean embedding for document  entertainment-156  with  100  steps.\n",
            "\tCalculating mean embedding for document  entertainment-198  with  100  steps.\n",
            "\tCalculating mean embedding for document  entertainment-161  with  100  steps.\n",
            "\tCalculating mean embedding for document  entertainment-116  with  100  steps.\n",
            "\tCalculating mean embedding for document  entertainment-201  with  100  steps.\n",
            "\tCalculating mean embedding for document  entertainment-126  with  100  steps.\n",
            "\tCalculating mean embedding for document  entertainment-97  with  100  steps.\n",
            "\tCalculating mean embedding for document  entertainment-122  with  100  steps.\n",
            "\tCalculating mean embedding for document  entertainment-245  with  100  steps.\n",
            "\tCalculating mean embedding for document  politics-163  with  100  steps.\n",
            "\tCalculating mean embedding for document  politics-213  with  100  steps.\n",
            "\tCalculating mean embedding for document  politics-143  with  100  steps.\n",
            "\tCalculating mean embedding for document  politics-195  with  100  steps.\n",
            "\tCalculating mean embedding for document  politics-162  with  100  steps.\n",
            "\tCalculating mean embedding for document  politics-215  with  100  steps.\n",
            "\tCalculating mean embedding for document  politics-50  with  100  steps.\n",
            "\tCalculating mean embedding for document  politics-100  with  100  steps.\n",
            "\tCalculating mean embedding for document  politics-193  with  100  steps.\n",
            "\tCalculating mean embedding for document  politics-64  with  100  steps.\n",
            "\tCalculating mean embedding for document  sport-72  with  100  steps.\n",
            "\tCalculating mean embedding for document  sport-175  with  100  steps.\n",
            "\tCalculating mean embedding for document  sport-212  with  100  steps.\n",
            "\tCalculating mean embedding for document  sport-239  with  100  steps.\n",
            "\tCalculating mean embedding for document  sport-70  with  100  steps.\n",
            "\tCalculating mean embedding for document  sport-84  with  100  steps.\n",
            "\tCalculating mean embedding for document  sport-230  with  100  steps.\n",
            "\tCalculating mean embedding for document  sport-125  with  100  steps.\n",
            "\tCalculating mean embedding for document  sport-97  with  100  steps.\n",
            "\tCalculating mean embedding for document  sport-114  with  100  steps.\n",
            "\tCalculating mean embedding for document  tech-133  with  100  steps.\n",
            "\tCalculating mean embedding for document  tech-90  with  100  steps.\n",
            "\tCalculating mean embedding for document  tech-99  with  100  steps.\n",
            "\tCalculating mean embedding for document  tech-83  with  100  steps.\n",
            "\tCalculating mean embedding for document  tech-229  with  100  steps.\n",
            "\tCalculating mean embedding for document  tech-89  with  100  steps.\n",
            "\tCalculating mean embedding for document  tech-9  with  100  steps.\n",
            "\tCalculating mean embedding for document  tech-167  with  100  steps.\n",
            "\tCalculating mean embedding for document  tech-120  with  100  steps.\n",
            "\tCalculating mean embedding for document  tech-185  with  100  steps.\n"
          ],
          "name": "stdout"
        }
      ]
    },
    {
      "cell_type": "markdown",
      "metadata": {
        "id": "7jeZs00Lunm5",
        "colab_type": "text"
      },
      "source": [
        "## Visualizing documents with t-SNE"
      ]
    },
    {
      "cell_type": "markdown",
      "metadata": {
        "id": "eZldYJUJunm6",
        "colab_type": "text"
      },
      "source": [
        "### Defining a t-SNE and fitting data\n",
        "Here we define a t-SNE with its parameters and fit the learned embeddings to visualize them on a two dimensional surface."
      ]
    },
    {
      "cell_type": "code",
      "metadata": {
        "id": "_DwI1ULOunm6",
        "colab_type": "code",
        "colab": {
          "base_uri": "https://localhost:8080/",
          "height": 52
        },
        "outputId": "9156c217-857f-4757-ea80-bc64aac4f08e"
      },
      "source": [
        "# Number of data points to visualize\n",
        "num_points = 1000 \n",
        "\n",
        "# Create a t-SNE object\n",
        "tsne = TSNE(perplexity=30, n_components=2, init='pca', n_iter=5000)\n",
        "\n",
        "print('Fitting embeddings to T-SNE')\n",
        "# get the T-SNE manifold\n",
        "doc_ids, doc_embeddings = zip(*document_embeddings.items())\n",
        "two_d_embeddings = tsne.fit_transform(doc_embeddings)\n",
        "print('\\tDone')"
      ],
      "execution_count": 24,
      "outputs": [
        {
          "output_type": "stream",
          "text": [
            "Fitting embeddings to T-SNE\n",
            "\tDone\n"
          ],
          "name": "stdout"
        }
      ]
    },
    {
      "cell_type": "markdown",
      "metadata": {
        "id": "jT3LGMBqunm9",
        "colab_type": "text"
      },
      "source": [
        "### Plotting the t-SNE results\n",
        "After fitting the embeddings to the t-SNE, we can visualize the results with Matplotlib library."
      ]
    },
    {
      "cell_type": "code",
      "metadata": {
        "id": "dltukfR3unm-",
        "colab_type": "code",
        "colab": {
          "base_uri": "https://localhost:8080/",
          "height": 1000
        },
        "outputId": "4b424b8a-73c2-4372-8d98-d3239e45a0b1"
      },
      "source": [
        "def plot(embeddings, labels):\n",
        "  \n",
        "  n_clusters = 5 # number of clusters\n",
        "    \n",
        "  # automatically build a discrete set of colors, each for cluster\n",
        "  cmap = cm.get_cmap(\"Spectral\")\n",
        "  label_colors = [cmap(float(i) /n_clusters) for i in range(n_clusters)]\n",
        "  label_markers = ['o','^','d','s','x']\n",
        "  # make sure the number of document embeddings is same as\n",
        "  # point labels provided\n",
        "  assert embeddings.shape[0] >= len(labels), 'More labels than embeddings'\n",
        "  \n",
        "  pylab.figure(figsize=(15,15))  # in inches\n",
        "\n",
        "  def get_label_id_from_key(key):\n",
        "    '''\n",
        "    We assign each different category a cluster_id\n",
        "    This is assigned based on what is contained in the point label\n",
        "    Not the actual clustering results\n",
        "    '''\n",
        "    if 'business' in key:\n",
        "        return 0\n",
        "    elif 'entertainment' in key:\n",
        "        return 1\n",
        "    elif 'politics' in key:\n",
        "        return 2\n",
        "    elif 'sport' in key:\n",
        "        return 3\n",
        "    elif 'tech' in key:\n",
        "        return 4\n",
        "            \n",
        "  # Plot all the document embeddings and their corresponding words\n",
        "  for i, label in enumerate(labels):\n",
        "    x, y = embeddings[i,:]\n",
        "    pylab.scatter(x, y, c=label_colors[get_label_id_from_key(label)],s=50,\n",
        "                  marker=label_markers[get_label_id_from_key(label)])    \n",
        "    \n",
        "    # Annotate each point on the scatter plot\n",
        "    pylab.annotate(label, xy=(x, y), xytext=(5, 2), textcoords='offset points',\n",
        "                   ha='right', va='bottom',fontsize=16)\n",
        "  \n",
        "  # Set plot title\n",
        "  pylab.title('Document Embeddings visualized with t-SNE',fontsize=24)\n",
        "  \n",
        "  # Use for saving the figure if needed\n",
        "  pylab.savefig('document_embeddings.png')\n",
        "  pylab.show()\n",
        "\n",
        "# Run the plotting function\n",
        "plot(two_d_embeddings, doc_ids)"
      ],
      "execution_count": 29,
      "outputs": [
        {
          "output_type": "stream",
          "text": [
            "W0905 03:03:45.855807 140493660735360 _axes.py:4217] 'c' argument looks like a single numeric RGB or RGBA sequence, which should be avoided as value-mapping will have precedence in case its length matches with 'x' & 'y'.  Please use a 2-D array with a single row if you really want to specify the same RGB or RGBA value for all points.\n",
            "W0905 03:03:45.864444 140493660735360 _axes.py:4217] 'c' argument looks like a single numeric RGB or RGBA sequence, which should be avoided as value-mapping will have precedence in case its length matches with 'x' & 'y'.  Please use a 2-D array with a single row if you really want to specify the same RGB or RGBA value for all points.\n",
            "W0905 03:03:45.871346 140493660735360 _axes.py:4217] 'c' argument looks like a single numeric RGB or RGBA sequence, which should be avoided as value-mapping will have precedence in case its length matches with 'x' & 'y'.  Please use a 2-D array with a single row if you really want to specify the same RGB or RGBA value for all points.\n",
            "W0905 03:03:45.877689 140493660735360 _axes.py:4217] 'c' argument looks like a single numeric RGB or RGBA sequence, which should be avoided as value-mapping will have precedence in case its length matches with 'x' & 'y'.  Please use a 2-D array with a single row if you really want to specify the same RGB or RGBA value for all points.\n",
            "W0905 03:03:45.884433 140493660735360 _axes.py:4217] 'c' argument looks like a single numeric RGB or RGBA sequence, which should be avoided as value-mapping will have precedence in case its length matches with 'x' & 'y'.  Please use a 2-D array with a single row if you really want to specify the same RGB or RGBA value for all points.\n",
            "W0905 03:03:45.891369 140493660735360 _axes.py:4217] 'c' argument looks like a single numeric RGB or RGBA sequence, which should be avoided as value-mapping will have precedence in case its length matches with 'x' & 'y'.  Please use a 2-D array with a single row if you really want to specify the same RGB or RGBA value for all points.\n",
            "W0905 03:03:45.898165 140493660735360 _axes.py:4217] 'c' argument looks like a single numeric RGB or RGBA sequence, which should be avoided as value-mapping will have precedence in case its length matches with 'x' & 'y'.  Please use a 2-D array with a single row if you really want to specify the same RGB or RGBA value for all points.\n",
            "W0905 03:03:45.905042 140493660735360 _axes.py:4217] 'c' argument looks like a single numeric RGB or RGBA sequence, which should be avoided as value-mapping will have precedence in case its length matches with 'x' & 'y'.  Please use a 2-D array with a single row if you really want to specify the same RGB or RGBA value for all points.\n",
            "W0905 03:03:45.911776 140493660735360 _axes.py:4217] 'c' argument looks like a single numeric RGB or RGBA sequence, which should be avoided as value-mapping will have precedence in case its length matches with 'x' & 'y'.  Please use a 2-D array with a single row if you really want to specify the same RGB or RGBA value for all points.\n",
            "W0905 03:03:45.918508 140493660735360 _axes.py:4217] 'c' argument looks like a single numeric RGB or RGBA sequence, which should be avoided as value-mapping will have precedence in case its length matches with 'x' & 'y'.  Please use a 2-D array with a single row if you really want to specify the same RGB or RGBA value for all points.\n",
            "W0905 03:03:45.925861 140493660735360 _axes.py:4217] 'c' argument looks like a single numeric RGB or RGBA sequence, which should be avoided as value-mapping will have precedence in case its length matches with 'x' & 'y'.  Please use a 2-D array with a single row if you really want to specify the same RGB or RGBA value for all points.\n",
            "W0905 03:03:45.932595 140493660735360 _axes.py:4217] 'c' argument looks like a single numeric RGB or RGBA sequence, which should be avoided as value-mapping will have precedence in case its length matches with 'x' & 'y'.  Please use a 2-D array with a single row if you really want to specify the same RGB or RGBA value for all points.\n",
            "W0905 03:03:45.939173 140493660735360 _axes.py:4217] 'c' argument looks like a single numeric RGB or RGBA sequence, which should be avoided as value-mapping will have precedence in case its length matches with 'x' & 'y'.  Please use a 2-D array with a single row if you really want to specify the same RGB or RGBA value for all points.\n",
            "W0905 03:03:45.945980 140493660735360 _axes.py:4217] 'c' argument looks like a single numeric RGB or RGBA sequence, which should be avoided as value-mapping will have precedence in case its length matches with 'x' & 'y'.  Please use a 2-D array with a single row if you really want to specify the same RGB or RGBA value for all points.\n",
            "W0905 03:03:45.952530 140493660735360 _axes.py:4217] 'c' argument looks like a single numeric RGB or RGBA sequence, which should be avoided as value-mapping will have precedence in case its length matches with 'x' & 'y'.  Please use a 2-D array with a single row if you really want to specify the same RGB or RGBA value for all points.\n",
            "W0905 03:03:45.960081 140493660735360 _axes.py:4217] 'c' argument looks like a single numeric RGB or RGBA sequence, which should be avoided as value-mapping will have precedence in case its length matches with 'x' & 'y'.  Please use a 2-D array with a single row if you really want to specify the same RGB or RGBA value for all points.\n",
            "W0905 03:03:45.966794 140493660735360 _axes.py:4217] 'c' argument looks like a single numeric RGB or RGBA sequence, which should be avoided as value-mapping will have precedence in case its length matches with 'x' & 'y'.  Please use a 2-D array with a single row if you really want to specify the same RGB or RGBA value for all points.\n",
            "W0905 03:03:45.975479 140493660735360 _axes.py:4217] 'c' argument looks like a single numeric RGB or RGBA sequence, which should be avoided as value-mapping will have precedence in case its length matches with 'x' & 'y'.  Please use a 2-D array with a single row if you really want to specify the same RGB or RGBA value for all points.\n",
            "W0905 03:03:45.982703 140493660735360 _axes.py:4217] 'c' argument looks like a single numeric RGB or RGBA sequence, which should be avoided as value-mapping will have precedence in case its length matches with 'x' & 'y'.  Please use a 2-D array with a single row if you really want to specify the same RGB or RGBA value for all points.\n",
            "W0905 03:03:45.990458 140493660735360 _axes.py:4217] 'c' argument looks like a single numeric RGB or RGBA sequence, which should be avoided as value-mapping will have precedence in case its length matches with 'x' & 'y'.  Please use a 2-D array with a single row if you really want to specify the same RGB or RGBA value for all points.\n",
            "W0905 03:03:45.996995 140493660735360 _axes.py:4217] 'c' argument looks like a single numeric RGB or RGBA sequence, which should be avoided as value-mapping will have precedence in case its length matches with 'x' & 'y'.  Please use a 2-D array with a single row if you really want to specify the same RGB or RGBA value for all points.\n",
            "W0905 03:03:46.005728 140493660735360 _axes.py:4217] 'c' argument looks like a single numeric RGB or RGBA sequence, which should be avoided as value-mapping will have precedence in case its length matches with 'x' & 'y'.  Please use a 2-D array with a single row if you really want to specify the same RGB or RGBA value for all points.\n",
            "W0905 03:03:46.013473 140493660735360 _axes.py:4217] 'c' argument looks like a single numeric RGB or RGBA sequence, which should be avoided as value-mapping will have precedence in case its length matches with 'x' & 'y'.  Please use a 2-D array with a single row if you really want to specify the same RGB or RGBA value for all points.\n",
            "W0905 03:03:46.020672 140493660735360 _axes.py:4217] 'c' argument looks like a single numeric RGB or RGBA sequence, which should be avoided as value-mapping will have precedence in case its length matches with 'x' & 'y'.  Please use a 2-D array with a single row if you really want to specify the same RGB or RGBA value for all points.\n",
            "W0905 03:03:46.026916 140493660735360 _axes.py:4217] 'c' argument looks like a single numeric RGB or RGBA sequence, which should be avoided as value-mapping will have precedence in case its length matches with 'x' & 'y'.  Please use a 2-D array with a single row if you really want to specify the same RGB or RGBA value for all points.\n",
            "W0905 03:03:46.035015 140493660735360 _axes.py:4217] 'c' argument looks like a single numeric RGB or RGBA sequence, which should be avoided as value-mapping will have precedence in case its length matches with 'x' & 'y'.  Please use a 2-D array with a single row if you really want to specify the same RGB or RGBA value for all points.\n",
            "W0905 03:03:46.042411 140493660735360 _axes.py:4217] 'c' argument looks like a single numeric RGB or RGBA sequence, which should be avoided as value-mapping will have precedence in case its length matches with 'x' & 'y'.  Please use a 2-D array with a single row if you really want to specify the same RGB or RGBA value for all points.\n",
            "W0905 03:03:46.049838 140493660735360 _axes.py:4217] 'c' argument looks like a single numeric RGB or RGBA sequence, which should be avoided as value-mapping will have precedence in case its length matches with 'x' & 'y'.  Please use a 2-D array with a single row if you really want to specify the same RGB or RGBA value for all points.\n",
            "W0905 03:03:46.056367 140493660735360 _axes.py:4217] 'c' argument looks like a single numeric RGB or RGBA sequence, which should be avoided as value-mapping will have precedence in case its length matches with 'x' & 'y'.  Please use a 2-D array with a single row if you really want to specify the same RGB or RGBA value for all points.\n",
            "W0905 03:03:46.068425 140493660735360 _axes.py:4217] 'c' argument looks like a single numeric RGB or RGBA sequence, which should be avoided as value-mapping will have precedence in case its length matches with 'x' & 'y'.  Please use a 2-D array with a single row if you really want to specify the same RGB or RGBA value for all points.\n",
            "W0905 03:03:46.074786 140493660735360 _axes.py:4217] 'c' argument looks like a single numeric RGB or RGBA sequence, which should be avoided as value-mapping will have precedence in case its length matches with 'x' & 'y'.  Please use a 2-D array with a single row if you really want to specify the same RGB or RGBA value for all points.\n",
            "W0905 03:03:46.081129 140493660735360 _axes.py:4217] 'c' argument looks like a single numeric RGB or RGBA sequence, which should be avoided as value-mapping will have precedence in case its length matches with 'x' & 'y'.  Please use a 2-D array with a single row if you really want to specify the same RGB or RGBA value for all points.\n",
            "W0905 03:03:46.087042 140493660735360 _axes.py:4217] 'c' argument looks like a single numeric RGB or RGBA sequence, which should be avoided as value-mapping will have precedence in case its length matches with 'x' & 'y'.  Please use a 2-D array with a single row if you really want to specify the same RGB or RGBA value for all points.\n",
            "W0905 03:03:46.094821 140493660735360 _axes.py:4217] 'c' argument looks like a single numeric RGB or RGBA sequence, which should be avoided as value-mapping will have precedence in case its length matches with 'x' & 'y'.  Please use a 2-D array with a single row if you really want to specify the same RGB or RGBA value for all points.\n",
            "W0905 03:03:46.101640 140493660735360 _axes.py:4217] 'c' argument looks like a single numeric RGB or RGBA sequence, which should be avoided as value-mapping will have precedence in case its length matches with 'x' & 'y'.  Please use a 2-D array with a single row if you really want to specify the same RGB or RGBA value for all points.\n",
            "W0905 03:03:46.108237 140493660735360 _axes.py:4217] 'c' argument looks like a single numeric RGB or RGBA sequence, which should be avoided as value-mapping will have precedence in case its length matches with 'x' & 'y'.  Please use a 2-D array with a single row if you really want to specify the same RGB or RGBA value for all points.\n",
            "W0905 03:03:46.114037 140493660735360 _axes.py:4217] 'c' argument looks like a single numeric RGB or RGBA sequence, which should be avoided as value-mapping will have precedence in case its length matches with 'x' & 'y'.  Please use a 2-D array with a single row if you really want to specify the same RGB or RGBA value for all points.\n",
            "W0905 03:03:46.119649 140493660735360 _axes.py:4217] 'c' argument looks like a single numeric RGB or RGBA sequence, which should be avoided as value-mapping will have precedence in case its length matches with 'x' & 'y'.  Please use a 2-D array with a single row if you really want to specify the same RGB or RGBA value for all points.\n",
            "W0905 03:03:46.126721 140493660735360 _axes.py:4217] 'c' argument looks like a single numeric RGB or RGBA sequence, which should be avoided as value-mapping will have precedence in case its length matches with 'x' & 'y'.  Please use a 2-D array with a single row if you really want to specify the same RGB or RGBA value for all points.\n",
            "W0905 03:03:46.136418 140493660735360 _axes.py:4217] 'c' argument looks like a single numeric RGB or RGBA sequence, which should be avoided as value-mapping will have precedence in case its length matches with 'x' & 'y'.  Please use a 2-D array with a single row if you really want to specify the same RGB or RGBA value for all points.\n",
            "W0905 03:03:46.143215 140493660735360 _axes.py:4217] 'c' argument looks like a single numeric RGB or RGBA sequence, which should be avoided as value-mapping will have precedence in case its length matches with 'x' & 'y'.  Please use a 2-D array with a single row if you really want to specify the same RGB or RGBA value for all points.\n",
            "W0905 03:03:46.150287 140493660735360 _axes.py:4217] 'c' argument looks like a single numeric RGB or RGBA sequence, which should be avoided as value-mapping will have precedence in case its length matches with 'x' & 'y'.  Please use a 2-D array with a single row if you really want to specify the same RGB or RGBA value for all points.\n",
            "W0905 03:03:46.156275 140493660735360 _axes.py:4217] 'c' argument looks like a single numeric RGB or RGBA sequence, which should be avoided as value-mapping will have precedence in case its length matches with 'x' & 'y'.  Please use a 2-D array with a single row if you really want to specify the same RGB or RGBA value for all points.\n",
            "W0905 03:03:46.163670 140493660735360 _axes.py:4217] 'c' argument looks like a single numeric RGB or RGBA sequence, which should be avoided as value-mapping will have precedence in case its length matches with 'x' & 'y'.  Please use a 2-D array with a single row if you really want to specify the same RGB or RGBA value for all points.\n",
            "W0905 03:03:46.170614 140493660735360 _axes.py:4217] 'c' argument looks like a single numeric RGB or RGBA sequence, which should be avoided as value-mapping will have precedence in case its length matches with 'x' & 'y'.  Please use a 2-D array with a single row if you really want to specify the same RGB or RGBA value for all points.\n",
            "W0905 03:03:46.177667 140493660735360 _axes.py:4217] 'c' argument looks like a single numeric RGB or RGBA sequence, which should be avoided as value-mapping will have precedence in case its length matches with 'x' & 'y'.  Please use a 2-D array with a single row if you really want to specify the same RGB or RGBA value for all points.\n",
            "W0905 03:03:46.183203 140493660735360 _axes.py:4217] 'c' argument looks like a single numeric RGB or RGBA sequence, which should be avoided as value-mapping will have precedence in case its length matches with 'x' & 'y'.  Please use a 2-D array with a single row if you really want to specify the same RGB or RGBA value for all points.\n",
            "W0905 03:03:46.193171 140493660735360 _axes.py:4217] 'c' argument looks like a single numeric RGB or RGBA sequence, which should be avoided as value-mapping will have precedence in case its length matches with 'x' & 'y'.  Please use a 2-D array with a single row if you really want to specify the same RGB or RGBA value for all points.\n",
            "W0905 03:03:46.210974 140493660735360 _axes.py:4217] 'c' argument looks like a single numeric RGB or RGBA sequence, which should be avoided as value-mapping will have precedence in case its length matches with 'x' & 'y'.  Please use a 2-D array with a single row if you really want to specify the same RGB or RGBA value for all points.\n",
            "W0905 03:03:46.217480 140493660735360 _axes.py:4217] 'c' argument looks like a single numeric RGB or RGBA sequence, which should be avoided as value-mapping will have precedence in case its length matches with 'x' & 'y'.  Please use a 2-D array with a single row if you really want to specify the same RGB or RGBA value for all points.\n"
          ],
          "name": "stderr"
        },
        {
          "output_type": "display_data",
          "data": {
            "image/png": "[encoded data removed]",
            "text/plain": [
              "<Figure size 1080x1080 with 1 Axes>"
            ]
          },
          "metadata": {
            "tags": []
          }
        }
      ]
    },
    {
      "cell_type": "markdown",
      "metadata": {
        "id": "HbSmHaclunnB",
        "colab_type": "text"
      },
      "source": [
        "## Perform Document Classification\n",
        "\n",
        "Here we first cluster the document embeddings by means of K-means. K-means is a popular and simple clustering algorithm. Then we will list what is contained in each cluster. Each cluster should roughly contain documents belonging to a single category. You can use the same information to classify an unseen document using the following steps.\n",
        "1. Compute the document embeddings for test document\n",
        "2. Compute K-means using all the previous documents + the new document\n",
        "3. Label the new test document to be of the category most of it's neighbors belong to"
      ]
    },
    {
      "cell_type": "code",
      "metadata": {
        "id": "dBd2Fd0aunnB",
        "colab_type": "code",
        "colab": {
          "base_uri": "https://localhost:8080/",
          "height": 301
        },
        "outputId": "a3602e24-7f9a-4cb7-958f-d87d23113a2f"
      },
      "source": [
        "# Create and fit K-means\n",
        "kmeans = KMeans(n_clusters=5, random_state=43643, max_iter=10000, n_init=100, algorithm='elkan')\n",
        "kmeans.fit(np.array(list(document_embeddings.values())))\n",
        "\n",
        "# Compute items fallen within each cluster\n",
        "document_classes = {}\n",
        "for inp, lbl in zip(list(document_embeddings.keys()), kmeans.labels_):\n",
        "    if lbl not in document_classes:\n",
        "        document_classes[lbl] = [inp]\n",
        "    else:\n",
        "        document_classes[lbl].append(inp)\n",
        "for k,v in document_classes.items():    \n",
        "    print('\\nDocuments in Cluster ',k)\n",
        "    print('\\t',v)"
      ],
      "execution_count": 30,
      "outputs": [
        {
          "output_type": "stream",
          "text": [
            "\n",
            "Documents in Cluster  2\n",
            "\t ['business-194', 'business-50', 'business-1', 'business-55', 'business-46', 'business-151', 'business-53']\n",
            "\n",
            "Documents in Cluster  0\n",
            "\t ['business-33', 'business-123', 'business-213', 'politics-163', 'politics-213', 'politics-143', 'politics-195', 'politics-162', 'politics-215', 'politics-50', 'politics-193', 'politics-64', 'tech-133', 'tech-90', 'tech-99', 'tech-83', 'tech-229', 'tech-89', 'tech-9', 'tech-167', 'tech-120', 'tech-185']\n",
            "\n",
            "Documents in Cluster  1\n",
            "\t ['entertainment-16', 'entertainment-161', 'entertainment-122', 'entertainment-245', 'politics-100', 'sport-72', 'sport-175', 'sport-212', 'sport-239', 'sport-70', 'sport-84', 'sport-230', 'sport-125', 'sport-97', 'sport-114']\n",
            "\n",
            "Documents in Cluster  4\n",
            "\t ['entertainment-156', 'entertainment-126']\n",
            "\n",
            "Documents in Cluster  3\n",
            "\t ['entertainment-198', 'entertainment-116', 'entertainment-201', 'entertainment-97']\n"
          ],
          "name": "stdout"
        }
      ]
    },
    {
      "cell_type": "code",
      "metadata": {
        "id": "3ysVAk3WunnD",
        "colab_type": "code",
        "colab": {}
      },
      "source": [
        ""
      ],
      "execution_count": 0,
      "outputs": []
    }
  ]
}