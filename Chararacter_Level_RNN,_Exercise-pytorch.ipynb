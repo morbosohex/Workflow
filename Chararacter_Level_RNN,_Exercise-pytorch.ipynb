{
  "nbformat": 4,
  "nbformat_minor": 0,
  "metadata": {
    "kernelspec": {
      "name": "python3",
      "display_name": "Python 3"
    },
    "language_info": {
      "codemirror_mode": {
        "name": "ipython",
        "version": 3
      },
      "file_extension": ".py",
      "mimetype": "text/x-python",
      "name": "python",
      "nbconvert_exporter": "python",
      "pygments_lexer": "ipython3",
      "version": "3.6.3"
    },
    "colab": {
      "name": "Chararacter-Level RNN, Exercise.ipynb",
      "version": "0.3.2",
      "provenance": [],
      "collapsed_sections": [],
      "toc_visible": true,
      "include_colab_link": true
    },
    "accelerator": "GPU"
  },
  "cells": [
    {
      "cell_type": "markdown",
      "metadata": {
        "id": "view-in-github",
        "colab_type": "text"
      },
      "source": [
        "<a href=\"https://colab.research.google.com/github/morbosohex/Workflow/blob/master/Chararacter_Level_RNN%2C_Exercise-pytorch.ipynb\" target=\"_parent\"><img src=\"https://colab.research.google.com/assets/colab-badge.svg\" alt=\"Open In Colab\"/></a>"
      ]
    },
    {
      "cell_type": "code",
      "metadata": {
        "id": "ERBD3nRdyt-3",
        "colab_type": "code",
        "outputId": "84bed96c-c63a-420d-87da-d34f43ea1253",
        "colab": {
          "base_uri": "https://localhost:8080/",
          "height": 128
        }
      },
      "source": [
        "from google.colab import drive\n",
        "drive.mount('/content/drive')"
      ],
      "execution_count": 1,
      "outputs": [
        {
          "output_type": "stream",
          "text": [
            "Go to this URL in a browser: https://accounts.google.com/o/oauth2/auth?client_id=947318989803-6bn6qk8qdgf4n4g3pfee6491hc0brc4i.apps.googleusercontent.com&redirect_uri=urn%3Aietf%3Awg%3Aoauth%3A2.0%3Aoob&scope=email%20https%3A%2F%2Fwww.googleapis.com%2Fauth%2Fdocs.test%20https%3A%2F%2Fwww.googleapis.com%2Fauth%2Fdrive%20https%3A%2F%2Fwww.googleapis.com%2Fauth%2Fdrive.photos.readonly%20https%3A%2F%2Fwww.googleapis.com%2Fauth%2Fpeopleapi.readonly&response_type=code\n",
            "\n",
            "Enter your authorization code:\n",
            "··········\n",
            "Mounted at /content/drive\n"
          ],
          "name": "stdout"
        }
      ]
    },
    {
      "cell_type": "code",
      "metadata": {
        "id": "e2il648oylQj",
        "colab_type": "code",
        "colab": {}
      },
      "source": [
        "import os\n",
        "os.chdir('/content/drive/My Drive/Colab Notebooks/AI算法工程师/字符级-LSTM-pytorch')"
      ],
      "execution_count": 0,
      "outputs": []
    },
    {
      "cell_type": "markdown",
      "metadata": {
        "id": "Og-3h18Ayj6m",
        "colab_type": "text"
      },
      "source": [
        "# Character-Level LSTM in PyTorch（文本生成）\n",
        "\n",
        "在如下notebook文件中， 我们将用pytorch构建一个字符级LSTM模型，该网络将会在一些文本中一个字符接一个字符进行训练，然后再一个字符接一个字符的生成，该 notebook选择安娜卡列尼娜这本书进行训练，然后该训练后的模型会生成新的文本\n",
        "\n",
        "该网络基于 Andrej Karpathy 的文章，[post on RNNs](http://karpathy.github.io/2015/05/21/rnn-effectiveness/) and [implementation in Torch](https://github.com/karpathy/char-rnn). 如下是字符级RNN的一般架构图\n",
        "\n",
        "![image.png](https://upload-images.jianshu.io/upload_images/12735209-f9e999894c7ed8b7.png?imageMogr2/auto-orient/strip%7CimageView2/2/w/800)\n"
      ]
    },
    {
      "cell_type": "markdown",
      "metadata": {
        "id": "3D6J0XSEyj6n",
        "colab_type": "text"
      },
      "source": [
        "首先，让我们导入数据加载和模型创建所需的资源。"
      ]
    },
    {
      "cell_type": "code",
      "metadata": {
        "id": "whpIG23fyj6q",
        "colab_type": "code",
        "colab": {}
      },
      "source": [
        "\n",
        "import numpy as np\n",
        "import torch\n",
        "from torch import nn\n",
        "import torch.nn.functional as F"
      ],
      "execution_count": 0,
      "outputs": []
    },
    {
      "cell_type": "markdown",
      "metadata": {
        "id": "v2A7WQXFyj6s",
        "colab_type": "text"
      },
      "source": [
        "## 载入数据\n",
        "载入安娜卡列尼娜文本文件，然后将其转化为网络接受的整数\n",
        "\n",
        "### Tokenization\n",
        "\n",
        "创建一对**dictionaries**, **一个转换字母为数字，一个将数字转换为字母，**\n"
      ]
    },
    {
      "cell_type": "code",
      "metadata": {
        "id": "WGLk_PFpyj6t",
        "colab_type": "code",
        "colab": {}
      },
      "source": [
        "# open text file and read in data as `text`\n",
        "with open('data/anna.txt', 'r') as f:\n",
        "    text = f.read()"
      ],
      "execution_count": 0,
      "outputs": []
    },
    {
      "cell_type": "markdown",
      "metadata": {
        "id": "rTcN9FWyyj6v",
        "colab_type": "text"
      },
      "source": [
        "将上述字符串编码为数字"
      ]
    },
    {
      "cell_type": "code",
      "metadata": {
        "id": "-li2qfTryj6w",
        "colab_type": "code",
        "colab": {}
      },
      "source": [
        "# encode the text and map each character to an integer and vice versa\n",
        "\n",
        "# we create two dictonaries:\n",
        "# 1. int2char, which maps integers to characters\n",
        "# 2. char2int, which maps characters to unique integers\n",
        "chars = tuple(set(text))\n",
        "int2char = dict(enumerate(chars))\n",
        "char2int = {ch: ii for ii, ch in int2char.items()}\n",
        "encoded = np.array([char2int[ch] for ch in text])"
      ],
      "execution_count": 0,
      "outputs": []
    },
    {
      "cell_type": "markdown",
      "metadata": {
        "id": "1eZ7RoUoyj6y",
        "colab_type": "text"
      },
      "source": [
        "让我们看看前100个字符，确保一切都是正常的。"
      ]
    },
    {
      "cell_type": "code",
      "metadata": {
        "id": "jtG0tRBeyj6y",
        "colab_type": "code",
        "outputId": "9170aed4-7dbb-4246-fff7-4ec5c83b98c7",
        "colab": {
          "base_uri": "https://localhost:8080/",
          "height": 35
        }
      },
      "source": [
        "text[:100]"
      ],
      "execution_count": 6,
      "outputs": [
        {
          "output_type": "execute_result",
          "data": {
            "text/plain": [
              "'Chapter 1\\n\\n\\nHappy families are all alike; every unhappy family is unhappy in its own\\nway.\\n\\nEverythin'"
            ]
          },
          "metadata": {
            "tags": []
          },
          "execution_count": 6
        }
      ]
    },
    {
      "cell_type": "markdown",
      "metadata": {
        "id": "mZCieeBoyj61",
        "colab_type": "text"
      },
      "source": [
        "检查将字符编码成数字的前100个字符"
      ]
    },
    {
      "cell_type": "code",
      "metadata": {
        "id": "Jp1VTAQWyj62",
        "colab_type": "code",
        "outputId": "56f72faf-6863-44e7-a2a6-13c6031f9ee9",
        "colab": {
          "base_uri": "https://localhost:8080/",
          "height": 126
        }
      },
      "source": [
        "encoded[:100]"
      ],
      "execution_count": 7,
      "outputs": [
        {
          "output_type": "execute_result",
          "data": {
            "text/plain": [
              "array([60, 62, 28, 80, 36, 53, 57, 13,  4, 72, 72, 72, 26, 28, 80, 80, 55,\n",
              "       13, 65, 28, 44, 27, 14, 27, 53, 29, 13, 28, 57, 53, 13, 28, 14, 14,\n",
              "       13, 28, 14, 27, 77, 53, 12, 13, 53, 49, 53, 57, 55, 13, 32, 21, 62,\n",
              "       28, 80, 80, 55, 13, 65, 28, 44, 27, 14, 55, 13, 27, 29, 13, 32, 21,\n",
              "       62, 28, 80, 80, 55, 13, 27, 21, 13, 27, 36, 29, 13, 56, 30, 21, 72,\n",
              "       30, 28, 55, 11, 72, 72,  6, 49, 53, 57, 55, 36, 62, 27, 21])"
            ]
          },
          "metadata": {
            "tags": []
          },
          "execution_count": 7
        }
      ]
    },
    {
      "cell_type": "markdown",
      "metadata": {
        "id": "c4WdBrxlyj64",
        "colab_type": "text"
      },
      "source": [
        "## 数据前处理\n",
        "\n",
        "如上图的架构图所示，LSTM网络期望得到的输入是，每个字符的独热向量\n",
        "\n"
      ]
    },
    {
      "cell_type": "code",
      "metadata": {
        "id": "Uzk5WP8Byj64",
        "colab_type": "code",
        "colab": {}
      },
      "source": [
        "def one_hot_encode(arr, n_labels):\n",
        "    \n",
        "    # Initialize the the encoded array\n",
        "    one_hot = np.zeros((np.multiply(*arr.shape), n_labels), dtype=np.float32)\n",
        "\n",
        "    # Fill the appropriate elements with ones\n",
        "    one_hot[np.arange(one_hot.shape[0]), arr.flatten()] = 1.\n",
        "    \n",
        "    # Finally reshape it to get back to the original array\n",
        "    one_hot = one_hot.reshape((*arr.shape, n_labels))\n",
        "    \n",
        "    return one_hot"
      ],
      "execution_count": 0,
      "outputs": []
    },
    {
      "cell_type": "markdown",
      "metadata": {
        "id": "9CZ0EhYiyj66",
        "colab_type": "text"
      },
      "source": [
        "## 构建训练过程中的mini-batch\n",
        "\n",
        "记住，批数据是有多个序列构成的，每个序列都有指定的序列步，如下图所示\n",
        "\n",
        "![image.png](https://upload-images.jianshu.io/upload_images/12735209-6ff90c33d1953166.png?imageMogr2/auto-orient/strip%7CimageView2/2/w/800)\n",
        "\n",
        "\n",
        "<br>\n",
        "\n",
        "\n",
        "In this example, we'll take the encoded characters (passed in as the `arr` parameter) and split them into multiple sequences, given by `n_seqs` (also refered to as \"batch size\" in other places). Each of those sequences will be `n_steps` long.\n",
        "\n",
        "### Creating Batches\n",
        "\n",
        "**1. The first thing we need to do is discard some of the text so we only have completely full batches. **\n",
        "\n",
        "Each batch contains $N \\times M$ characters, where $N$ is the batch size (the number of sequences) and $M$ is the number of steps. Then, to get the total number of batches, $K$, we can make from the array `arr`, you divide the length of `arr` by the number of characters per batch. Once you know the number of batches, you can get the total number of characters to keep from `arr`, $N * M * K$.\n",
        "\n",
        "**2. After that, we need to split `arr` into $N$ sequences. ** \n",
        "\n",
        "You can do this using `arr.reshape(size)` where `size` is a tuple containing the dimensions sizes of the reshaped array. We know we want $N$ sequences, so let's make that the size of the first dimension. For the second dimension, you can use `-1` as a placeholder in the size, it'll fill up the array with the appropriate data for you. After this, you should have an array that is $N \\times (M * K)$.\n",
        "\n",
        "**3. Now that we have this array, we can iterate through it to get our batches. **\n",
        "\n",
        "The idea is each batch is a $N \\times M$ window on the $N \\times (M * K)$ array. For each subsequent batch, the window moves over by `n_steps`. We also want to create both the input and target arrays. Remember that the targets are the inputs shifted over one character. The way I like to do this window is use `range` to take steps of size `n_steps` from $0$ to `arr.shape[1]`, the total number of steps in each sequence. That way, the integers you get from `range` always point to the start of a batch, and each window is `n_steps` wide.\n",
        "\n",
        "> **TODO:** Write the code for creating batches in the function below. The exercises in this notebook _will not be easy_. I've provided a notebook with solutions alongside this notebook. If you get stuck, checkout the solutions. The most important thing is that you don't copy and paste the code into here, **type out the solution code yourself.**"
      ]
    },
    {
      "cell_type": "code",
      "metadata": {
        "id": "srkiuN9Kyj67",
        "colab_type": "code",
        "colab": {}
      },
      "source": [
        "def get_batches(arr, n_seqs, n_steps):\n",
        "    '''Create a generator that returns batches of size\n",
        "       n_seqs x n_steps from arr.\n",
        "       \n",
        "       Arguments\n",
        "       ---------\n",
        "       arr: Array you want to make batches from\n",
        "       n_seqs: Batch size, the number of sequences per batch\n",
        "       n_steps: Number of sequence steps per batch\n",
        "    '''\n",
        "    \n",
        "    # Get the number of characters per batch\n",
        "    batch_size = n_seqs * n_steps\n",
        "    \n",
        "    ## TODO: Get the number of batches we can make\n",
        "    n_batches = len(arr) // batch_size\n",
        "    \n",
        "    ## TODO: Keep only enough characters to make full batches\n",
        "    arr = arr[:batch_size*n_batches]\n",
        "    \n",
        "    ## TODO: Reshape into batch_size rows\n",
        "    arr = arr.reshape((n_seqs,-1))\n",
        "    \n",
        "    ## TODO: Make batches\n",
        "    for n in range(0, arr.shape[1], n_steps):\n",
        "        # The features\n",
        "        x = arr[:,n:n+n_steps]\n",
        "        # The targets, shifted by one\n",
        "        y = np.zeros_like(x)\n",
        "        try:\n",
        "            y[:, :-1], y[:, -1] = x[:, 1:], arr[:, n+n_steps]\n",
        "        except IndexError:\n",
        "            y[:, :-1], y[:, -1] = x[:, 1:], arr[:, 0]\n",
        "            \n",
        "        yield x, y\n"
      ],
      "execution_count": 0,
      "outputs": []
    },
    {
      "cell_type": "markdown",
      "metadata": {
        "id": "S2ATxUK1yj68",
        "colab_type": "text"
      },
      "source": [
        "### Test Your Implementation\n",
        "\n",
        "Now I'll make some data sets and we can check out what's going on as we batch data. Here, as an example, I'm going to use a batch size of 10 and 50 sequence steps."
      ]
    },
    {
      "cell_type": "code",
      "metadata": {
        "id": "mQw9PToOyj69",
        "colab_type": "code",
        "colab": {}
      },
      "source": [
        "batches = get_batches(encoded, 10, 50)\n",
        "x, y = next(batches)"
      ],
      "execution_count": 0,
      "outputs": []
    },
    {
      "cell_type": "code",
      "metadata": {
        "id": "3uzgDNP5yj6_",
        "colab_type": "code",
        "outputId": "357b999e-92bd-44e4-dbc8-a56812b339ce",
        "colab": {
          "base_uri": "https://localhost:8080/",
          "height": 435
        }
      },
      "source": [
        "print('x\\n', x[:10, :10])\n",
        "print('\\ny\\n', y[:10, :10])"
      ],
      "execution_count": 20,
      "outputs": [
        {
          "output_type": "stream",
          "text": [
            "x\n",
            " [[60 62 28 80 36 53 57 13  4 72]\n",
            " [13 28 44 13 21 56 36 13 45 56]\n",
            " [49 27 21 11 72 72 75 23 53 29]\n",
            " [21 13 18 32 57 27 21 45 13 62]\n",
            " [13 27 36 13 27 29 52 13 29 27]\n",
            " [13 42 36 13 30 28 29 72 56 21]\n",
            " [62 53 21 13 59 56 44 53 13 65]\n",
            " [12 13 39 32 36 13 21 56 30 13]\n",
            " [36 13 27 29 21 68 36 11 13 63]\n",
            " [13 29 28 27 18 13 36 56 13 62]]\n",
            "\n",
            "y\n",
            " [[62 28 80 36 53 57 13  4 72 72]\n",
            " [28 44 13 21 56 36 13 45 56 27]\n",
            " [27 21 11 72 72 75 23 53 29 52]\n",
            " [13 18 32 57 27 21 45 13 62 27]\n",
            " [27 36 13 27 29 52 13 29 27 57]\n",
            " [42 36 13 30 28 29 72 56 21 14]\n",
            " [53 21 13 59 56 44 53 13 65 56]\n",
            " [13 39 32 36 13 21 56 30 13 29]\n",
            " [13 27 29 21 68 36 11 13 63 62]\n",
            " [29 28 27 18 13 36 56 13 62 53]]\n"
          ],
          "name": "stdout"
        }
      ]
    },
    {
      "cell_type": "markdown",
      "metadata": {
        "id": "XjhLPlosyj7B",
        "colab_type": "text"
      },
      "source": [
        "If you implemented `get_batches` correctly, the above output should look something like \n",
        "```\n",
        "x\n",
        " [[55 63 69 22  6 76 45  5 16 35]\n",
        " [ 5 69  1  5 12 52  6  5 56 52]\n",
        " [48 29 12 61 35 35  8 64 76 78]\n",
        " [12  5 24 39 45 29 12 56  5 63]\n",
        " [ 5 29  6  5 29 78 28  5 78 29]\n",
        " [ 5 13  6  5 36 69 78 35 52 12]\n",
        " [63 76 12  5 18 52  1 76  5 58]\n",
        " [34  5 73 39  6  5 12 52 36  5]\n",
        " [ 6  5 29 78 12 79  6 61  5 59]\n",
        " [ 5 78 69 29 24  5  6 52  5 63]]\n",
        "\n",
        "y\n",
        " [[63 69 22  6 76 45  5 16 35 35]\n",
        " [69  1  5 12 52  6  5 56 52 29]\n",
        " [29 12 61 35 35  8 64 76 78 28]\n",
        " [ 5 24 39 45 29 12 56  5 63 29]\n",
        " [29  6  5 29 78 28  5 78 29 45]\n",
        " [13  6  5 36 69 78 35 52 12 43]\n",
        " [76 12  5 18 52  1 76  5 58 52]\n",
        " [ 5 73 39  6  5 12 52 36  5 78]\n",
        " [ 5 29 78 12 79  6 61  5 59 63]\n",
        " [78 69 29 24  5  6 52  5 63 76]]\n",
        " ```\n",
        " although the exact numbers will be different. Check to make sure the data is shifted over one step for `y`."
      ]
    },
    {
      "cell_type": "markdown",
      "metadata": {
        "id": "Rao5wx9cyj7B",
        "colab_type": "text"
      },
      "source": [
        "---\n",
        "## Defining the network with PyTorch\n",
        "\n",
        "Below is where you'll define the network. We'll break it up into parts so it's easier to reason about each bit. Then we can connect them up into the whole network.\n",
        "\n",
        "![image.png](https://upload-images.jianshu.io/upload_images/12735209-34366c60ce90a325.png?imageMogr2/auto-orient/strip%7CimageView2/2/w/800)\n",
        "\n",
        "\n",
        "\n",
        "Next, you'll use PyTorch to define the architecture of the network. We start by defining the layers and operations we want. Then, define a method for the forward pass. You've also been given a method for predicting characters."
      ]
    },
    {
      "cell_type": "markdown",
      "metadata": {
        "id": "tW7XbtMPyj7C",
        "colab_type": "text"
      },
      "source": [
        "### Model Structure\n",
        "\n",
        "In `__init__` the suggested structure is as follows:\n",
        "* Create and store the necessary dictionaries (this has been done for you)\n",
        "* Define an LSTM layer that takes as params: an input size (the number of characters), a hidden layer size `n_hidden`, a number of layers `n_layers`, a dropout probability `drop_prob`, and a batch_first boolean (True, since we are batching)\n",
        "* Define a dropout layer with `dropout_prob`\n",
        "* Define a fully-connected layer with params: input size `n_hidden` and output size (the number of characters)\n",
        "* Finally, initialize the weights (again, this has been given)\n",
        "\n",
        "Note that some parameters have been named and given in the `__init__` function, and we use them and store them by doing something like `self.drop_prob = drop_prob`."
      ]
    },
    {
      "cell_type": "markdown",
      "metadata": {
        "id": "f-aEk3Nhyj7D",
        "colab_type": "text"
      },
      "source": [
        "---\n",
        "### LSTM Inputs/Outputs\n",
        "\n",
        "You can create a basic LSTM cell as follows\n",
        "\n",
        "```python\n",
        "self.lstm = nn.LSTM(input_size, n_hidden, n_layers, \n",
        "                            dropout=drop_prob, batch_first=True)\n",
        "```\n",
        "\n",
        "where `input_size` is the number of characters this cell expects to see as sequential input, and `n_hidden` is the number of units in the hidden layers in the cell. And we can add dropout by adding a dropout parameter with a specified probability; this will automatically add dropout to the inputs or outputs. Finally, in the `forward` function, we can stack up the LSTM cells into layers using `.view`. With this, you pass in a list of cells and it will send the output of one cell into the next cell.\n",
        "\n",
        "We also need to create an initial cell state of all zeros. This is done like so\n",
        "\n",
        "```python\n",
        "self.init_weights()\n",
        "```"
      ]
    },
    {
      "cell_type": "code",
      "metadata": {
        "id": "6YGJu54Kyj7D",
        "colab_type": "code",
        "colab": {}
      },
      "source": [
        "class CharRNN(nn.Module):\n",
        "    \n",
        "    def __init__(self, tokens, n_steps=100, n_hidden=256, n_layers=2,\n",
        "                               drop_prob=0.5, lr=0.001):\n",
        "        super().__init__()\n",
        "        self.drop_prob = drop_prob\n",
        "        self.n_layers = n_layers\n",
        "        self.n_hidden = n_hidden\n",
        "        self.lr = lr\n",
        "        \n",
        "        # creating character dictionaries\n",
        "        self.chars = tokens\n",
        "        self.int2char = dict(enumerate(self.chars))\n",
        "        self.char2int = {ch: ii for ii, ch in self.int2char.items()}\n",
        "        \n",
        "        ## TODO: define the LSTM, self.lstm\n",
        "        self.lstm = nn.LSTM(len(self.chars), n_hidden, n_layers, \n",
        "                                    dropout=drop_prob, batch_first=True)        \n",
        "        ## TODO: define a dropout layer, self.dropout\n",
        "        self.dropout = nn.Dropout(drop_prob)\n",
        "        ## TODO: define the final, fully-connected output layer, self.fc\n",
        "        self.fc = nn.Linear(n_hidden,len(self.chars))\n",
        "        # initialize the weights\n",
        "        self.init_weights()\n",
        "      \n",
        "    \n",
        "    def forward(self, x, hc):\n",
        "        ''' Forward pass through the network. \n",
        "            These inputs are x, and the hidden/cell state `hc`. '''\n",
        "        \n",
        "        ## TODO: Get x, and the new hidden state (h, c) from the lstm\n",
        "        x,(h,c) = self.lstm(x,hc)\n",
        "        ## TODO: pass x through a droupout layer\n",
        "        x = self.dropout(x)\n",
        "        # Stack up LSTM outputs using view\n",
        "        x = x.view(x.size()[0]*x.size()[1], self.n_hidden)\n",
        "        \n",
        "        ## TODO: put x through the fully-connected layer\n",
        "        x = self.fc(x)\n",
        "        # return x and the hidden state (h, c)\n",
        "        return x, (h, c)\n",
        "    \n",
        "    \n",
        "    def predict(self, char, h=None, cuda=False, top_k=None):\n",
        "        ''' Given a character, predict the next character.\n",
        "        \n",
        "            Returns the predicted character and the hidden state.\n",
        "        '''\n",
        "        if cuda:\n",
        "            self.cuda()\n",
        "        else:\n",
        "            self.cpu()\n",
        "        \n",
        "        if h is None:\n",
        "            h = self.init_hidden(1)\n",
        "        \n",
        "        x = np.array([[self.char2int[char]]])\n",
        "        x = one_hot_encode(x, len(self.chars))\n",
        "        inputs = torch.from_numpy(x)\n",
        "        if cuda:\n",
        "            inputs = inputs.cuda()\n",
        "        \n",
        "        h = tuple([each.data for each in h])\n",
        "        out, h = self.forward(inputs, h)\n",
        "\n",
        "        p = F.softmax(out, dim=1).data\n",
        "        if cuda:\n",
        "            p = p.cpu()\n",
        "        \n",
        "        if top_k is None:\n",
        "            top_ch = np.arange(len(self.chars))\n",
        "        else:\n",
        "            p, top_ch = p.topk(top_k)\n",
        "            top_ch = top_ch.numpy().squeeze()\n",
        "        \n",
        "        p = p.numpy().squeeze()\n",
        "        char = np.random.choice(top_ch, p=p/p.sum())\n",
        "            \n",
        "        return self.int2char[char], h\n",
        "    \n",
        "    def init_weights(self):\n",
        "        ''' Initialize weights for fully connected layer '''\n",
        "        initrange = 0.1\n",
        "        \n",
        "        # Set bias tensor to all zeros\n",
        "        self.fc.bias.data.fill_(0)\n",
        "        # FC weights as random uniform\n",
        "        self.fc.weight.data.uniform_(-1, 1)\n",
        "        \n",
        "    def init_hidden(self, n_seqs):\n",
        "        ''' Initializes hidden state '''\n",
        "        # Create two new tensors with sizes n_layers x n_seqs x n_hidden,\n",
        "        # initialized to zero, for hidden state and cell state of LSTM\n",
        "        weight = next(self.parameters()).data\n",
        "        return (weight.new(self.n_layers, n_seqs, self.n_hidden).zero_(),\n",
        "                weight.new(self.n_layers, n_seqs, self.n_hidden).zero_())\n",
        "        "
      ],
      "execution_count": 0,
      "outputs": []
    },
    {
      "cell_type": "markdown",
      "metadata": {
        "id": "3I_742Lxyj7F",
        "colab_type": "text"
      },
      "source": [
        "### A note on the `predict`  function\n",
        "\n",
        "The output of our RNN is from a fully-connected layer and it outputs a **distribution of next-character scores**.\n",
        "\n",
        "To actually get the next character, we apply a softmax function, which gives us a *probability* distribution that we can then sample to predict the next character."
      ]
    },
    {
      "cell_type": "code",
      "metadata": {
        "id": "lJZyWL0Lyj7F",
        "colab_type": "code",
        "colab": {}
      },
      "source": [
        "## ---- keep notebook from crashing during training --- ##\n",
        "import os\n",
        "import requests\n",
        "import time\n",
        "\n",
        "def train(net, data, epochs=10, n_seqs=10, n_steps=50, lr=0.001, clip=5, val_frac=0.1, cuda=False, print_every=10):\n",
        "    ''' Training a network \n",
        "    \n",
        "        Arguments\n",
        "        ---------\n",
        "        \n",
        "        net: CharRNN network\n",
        "        data: text data to train the network\n",
        "        epochs: Number of epochs to train\n",
        "        n_seqs: Number of mini-sequences per mini-batch, aka batch size\n",
        "        n_steps: Number of character steps per mini-batch\n",
        "        lr: learning rate\n",
        "        clip: gradient clipping\n",
        "        val_frac: Fraction of data to hold out for validation\n",
        "        cuda: Train with CUDA on a GPU\n",
        "        print_every: Number of steps for printing training and validation loss\n",
        "    \n",
        "    '''\n",
        "    \n",
        "    net.train()\n",
        "    opt = torch.optim.Adam(net.parameters(), lr=lr)\n",
        "    criterion = nn.CrossEntropyLoss()\n",
        "    \n",
        "    # create training and validation data\n",
        "    val_idx = int(len(data)*(1-val_frac))\n",
        "    data, val_data = data[:val_idx], data[val_idx:]\n",
        "    \n",
        "    if cuda:\n",
        "        net.cuda()\n",
        "    \n",
        "    counter = 0\n",
        "    n_chars = len(net.chars)\n",
        "    \n",
        "\n",
        "    for e in range(epochs):\n",
        "        h = net.init_hidden(n_seqs)\n",
        "        for x, y in get_batches(data, n_seqs, n_steps):\n",
        "            \n",
        "\n",
        "            \n",
        "            counter += 1\n",
        "            \n",
        "            # One-hot encode our data and make them Torch tensors\n",
        "            x = one_hot_encode(x, n_chars)\n",
        "            inputs, targets = torch.from_numpy(x), torch.from_numpy(y)\n",
        "            \n",
        "            if cuda:\n",
        "                inputs, targets = inputs.cuda(), targets.cuda()\n",
        "\n",
        "            # Creating new variables for the hidden state, otherwise\n",
        "            # we'd backprop through the entire training history\n",
        "            h = tuple([each.data for each in h])\n",
        "\n",
        "            net.zero_grad()\n",
        "            \n",
        "            output, h = net.forward(inputs, h)\n",
        "            loss = criterion(output, targets.view(n_seqs*n_steps))\n",
        "\n",
        "            loss.backward()\n",
        "            \n",
        "            # `clip_grad_norm` helps prevent the exploding gradient problem in RNNs / LSTMs.\n",
        "            nn.utils.clip_grad_norm_(net.parameters(), clip)\n",
        "\n",
        "            opt.step()\n",
        "            \n",
        "            if counter % print_every == 0:\n",
        "                \n",
        "                # Get validation loss\n",
        "                val_h = net.init_hidden(n_seqs)\n",
        "                val_losses = []\n",
        "                for x, y in get_batches(val_data, n_seqs, n_steps):\n",
        "                    # One-hot encode our data and make them Torch tensors\n",
        "                    x = one_hot_encode(x, n_chars)\n",
        "                    x, y = torch.from_numpy(x), torch.from_numpy(y)\n",
        "                    \n",
        "                    # Creating new variables for the hidden state, otherwise\n",
        "                    # we'd backprop through the entire training history\n",
        "                    val_h = tuple([each.data for each in val_h])\n",
        "                    \n",
        "                    inputs, targets = x, y\n",
        "                    if cuda:\n",
        "                        inputs, targets = inputs.cuda(), targets.cuda()\n",
        "\n",
        "                    output, val_h = net.forward(inputs, val_h)\n",
        "                    val_loss = criterion(output, targets.view(n_seqs*n_steps))\n",
        "                \n",
        "                    val_losses.append(val_loss.item())\n",
        "                \n",
        "                print(\"Epoch: {}/{}...\".format(e+1, epochs),\n",
        "                      \"Step: {}...\".format(counter),\n",
        "                      \"Loss: {:.4f}...\".format(loss.item()),\n",
        "                      \"Val Loss: {:.4f}\".format(np.mean(val_losses)))"
      ],
      "execution_count": 0,
      "outputs": []
    },
    {
      "cell_type": "markdown",
      "metadata": {
        "id": "zEYHWf49yj7H",
        "colab_type": "text"
      },
      "source": [
        "## Time to train\n",
        "\n",
        "现在我们可以实际训练网络。首先，我们将使用一些给定的超参数创建网络本身。然后，定义小批量大小（序列数和步数），并开始训练。通过训练函数，我们可以设置epoch数，学习率和其他参数。此外，我们可以通过设置`cuda = True`在GPU上运行训练。"
      ]
    },
    {
      "cell_type": "code",
      "metadata": {
        "id": "rWaFtl8oyj7I",
        "colab_type": "code",
        "colab": {}
      },
      "source": [
        "if 'net' in locals():\n",
        "    del net"
      ],
      "execution_count": 0,
      "outputs": []
    },
    {
      "cell_type": "code",
      "metadata": {
        "id": "Gs5HBbbxyj7K",
        "colab_type": "code",
        "outputId": "bd74ffdf-b5e8-44c9-da0c-099995170f9b",
        "colab": {
          "base_uri": "https://localhost:8080/",
          "height": 108
        }
      },
      "source": [
        "# define and print the net\n",
        "net = CharRNN(chars, n_hidden=1024, n_layers=2)\n",
        "print(net)"
      ],
      "execution_count": 28,
      "outputs": [
        {
          "output_type": "stream",
          "text": [
            "CharRNN(\n",
            "  (lstm): LSTM(83, 1024, num_layers=2, batch_first=True, dropout=0.5)\n",
            "  (dropout): Dropout(p=0.5)\n",
            "  (fc): Linear(in_features=1024, out_features=83, bias=True)\n",
            ")\n"
          ],
          "name": "stdout"
        }
      ]
    },
    {
      "cell_type": "code",
      "metadata": {
        "scrolled": true,
        "id": "qA7o-UTqyj7L",
        "colab_type": "code",
        "outputId": "84305496-e305-479e-d410-4cf5d7a0aecc",
        "colab": {
          "base_uri": "https://localhost:8080/",
          "height": 1000
        }
      },
      "source": [
        "n_seqs, n_steps = 128, 100\n",
        "\n",
        "# you may change cuda to True if you plan on using a GPU!\n",
        "# also, if you do, please INCREASE the epochs to 25\n",
        "\n",
        "# Open the training log file.\n",
        "log_file = 'training_log.txt'\n",
        "f = open(log_file, 'w')\n",
        "\n",
        "# TRAIN\n",
        "train(net, encoded, epochs=25, n_seqs=n_seqs, n_steps=n_steps, lr=0.001, cuda=True, print_every=10)\n",
        "\n",
        "# Close the training log file.\n",
        "f.close()\n"
      ],
      "execution_count": 31,
      "outputs": [
        {
          "output_type": "stream",
          "text": [
            "Epoch: 1/25... Step: 10... Loss: 3.2159... Val Loss: 3.2313\n",
            "Epoch: 1/25... Step: 20... Loss: 3.0154... Val Loss: 3.0316\n",
            "Epoch: 1/25... Step: 30... Loss: 2.8305... Val Loss: 2.8046\n",
            "Epoch: 1/25... Step: 40... Loss: 2.5942... Val Loss: 2.6268\n",
            "Epoch: 1/25... Step: 50... Loss: 2.5401... Val Loss: 2.5171\n",
            "Epoch: 1/25... Step: 60... Loss: 2.4193... Val Loss: 2.4474\n",
            "Epoch: 1/25... Step: 70... Loss: 2.3703... Val Loss: 2.3971\n",
            "Epoch: 1/25... Step: 80... Loss: 2.2927... Val Loss: 2.3506\n",
            "Epoch: 1/25... Step: 90... Loss: 2.2884... Val Loss: 2.3110\n",
            "Epoch: 1/25... Step: 100... Loss: 2.2295... Val Loss: 2.2768\n",
            "Epoch: 1/25... Step: 110... Loss: 2.1836... Val Loss: 2.3426\n",
            "Epoch: 1/25... Step: 120... Loss: 2.1129... Val Loss: 2.2580\n",
            "Epoch: 1/25... Step: 130... Loss: 2.1367... Val Loss: 2.1808\n",
            "Epoch: 2/25... Step: 140... Loss: 2.1007... Val Loss: 2.1500\n",
            "Epoch: 2/25... Step: 150... Loss: 2.0673... Val Loss: 2.1281\n",
            "Epoch: 2/25... Step: 160... Loss: 2.0492... Val Loss: 2.0884\n",
            "Epoch: 2/25... Step: 170... Loss: 2.0198... Val Loss: 2.0651\n",
            "Epoch: 2/25... Step: 180... Loss: 1.9576... Val Loss: 2.0537\n",
            "Epoch: 2/25... Step: 190... Loss: 1.9019... Val Loss: 2.0172\n",
            "Epoch: 2/25... Step: 200... Loss: 1.9002... Val Loss: 2.0057\n",
            "Epoch: 2/25... Step: 210... Loss: 1.9088... Val Loss: 1.9878\n",
            "Epoch: 2/25... Step: 220... Loss: 1.8528... Val Loss: 1.9970\n",
            "Epoch: 2/25... Step: 230... Loss: 1.8753... Val Loss: 1.9453\n",
            "Epoch: 2/25... Step: 240... Loss: 1.8614... Val Loss: 1.9250\n",
            "Epoch: 2/25... Step: 250... Loss: 1.8197... Val Loss: 1.9147\n",
            "Epoch: 2/25... Step: 260... Loss: 1.7822... Val Loss: 1.8906\n",
            "Epoch: 2/25... Step: 270... Loss: 1.8082... Val Loss: 1.8799\n",
            "Epoch: 3/25... Step: 280... Loss: 1.7845... Val Loss: 1.8632\n",
            "Epoch: 3/25... Step: 290... Loss: 1.7901... Val Loss: 1.8603\n",
            "Epoch: 3/25... Step: 300... Loss: 1.7445... Val Loss: 1.8510\n",
            "Epoch: 3/25... Step: 310... Loss: 1.7252... Val Loss: 1.8666\n",
            "Epoch: 3/25... Step: 320... Loss: 1.6900... Val Loss: 1.8350\n",
            "Epoch: 3/25... Step: 330... Loss: 1.6869... Val Loss: 1.9826\n",
            "Epoch: 3/25... Step: 340... Loss: 1.7284... Val Loss: 1.7873\n",
            "Epoch: 3/25... Step: 350... Loss: 1.6882... Val Loss: 1.7781\n",
            "Epoch: 3/25... Step: 360... Loss: 1.6324... Val Loss: 1.7761\n",
            "Epoch: 3/25... Step: 370... Loss: 1.6550... Val Loss: 1.7685\n",
            "Epoch: 3/25... Step: 380... Loss: 1.6455... Val Loss: 1.7456\n",
            "Epoch: 3/25... Step: 390... Loss: 1.6241... Val Loss: 1.7540\n",
            "Epoch: 3/25... Step: 400... Loss: 1.6034... Val Loss: 1.7396\n",
            "Epoch: 3/25... Step: 410... Loss: 1.6122... Val Loss: 1.7223\n",
            "Epoch: 4/25... Step: 420... Loss: 1.6136... Val Loss: 1.7005\n",
            "Epoch: 4/25... Step: 430... Loss: 1.5971... Val Loss: 1.6939\n",
            "Epoch: 4/25... Step: 440... Loss: 1.6002... Val Loss: 1.6944\n",
            "Epoch: 4/25... Step: 450... Loss: 1.5473... Val Loss: 1.6894\n",
            "Epoch: 4/25... Step: 460... Loss: 1.5241... Val Loss: 1.6813\n",
            "Epoch: 4/25... Step: 470... Loss: 1.5839... Val Loss: 1.6771\n",
            "Epoch: 4/25... Step: 480... Loss: 1.5508... Val Loss: 1.6579\n",
            "Epoch: 4/25... Step: 490... Loss: 1.5564... Val Loss: 1.6479\n",
            "Epoch: 4/25... Step: 500... Loss: 1.5433... Val Loss: 1.6460\n",
            "Epoch: 4/25... Step: 510... Loss: 1.5222... Val Loss: 1.6314\n",
            "Epoch: 4/25... Step: 520... Loss: 1.5348... Val Loss: 1.6306\n",
            "Epoch: 4/25... Step: 530... Loss: 1.5064... Val Loss: 1.6209\n",
            "Epoch: 4/25... Step: 540... Loss: 1.4641... Val Loss: 1.6150\n",
            "Epoch: 4/25... Step: 550... Loss: 1.5304... Val Loss: 1.6160\n",
            "Epoch: 5/25... Step: 560... Loss: 1.4882... Val Loss: 1.6100\n",
            "Epoch: 5/25... Step: 570... Loss: 1.4802... Val Loss: 1.5940\n",
            "Epoch: 5/25... Step: 580... Loss: 1.4688... Val Loss: 1.5903\n",
            "Epoch: 5/25... Step: 590... Loss: 1.4550... Val Loss: 1.5859\n",
            "Epoch: 5/25... Step: 600... Loss: 1.4619... Val Loss: 1.5881\n",
            "Epoch: 5/25... Step: 610... Loss: 1.4347... Val Loss: 1.5737\n",
            "Epoch: 5/25... Step: 620... Loss: 1.4424... Val Loss: 1.5704\n",
            "Epoch: 5/25... Step: 630... Loss: 1.4553... Val Loss: 1.5729\n",
            "Epoch: 5/25... Step: 640... Loss: 1.4176... Val Loss: 1.5561\n",
            "Epoch: 5/25... Step: 650... Loss: 1.4326... Val Loss: 1.5570\n",
            "Epoch: 5/25... Step: 660... Loss: 1.4273... Val Loss: 1.5526\n",
            "Epoch: 5/25... Step: 670... Loss: 1.4260... Val Loss: 1.5491\n",
            "Epoch: 5/25... Step: 680... Loss: 1.4332... Val Loss: 1.5475\n",
            "Epoch: 5/25... Step: 690... Loss: 1.4125... Val Loss: 1.5445\n",
            "Epoch: 6/25... Step: 700... Loss: 1.4186... Val Loss: 1.5426\n",
            "Epoch: 6/25... Step: 710... Loss: 1.3975... Val Loss: 1.5282\n",
            "Epoch: 6/25... Step: 720... Loss: 1.3819... Val Loss: 1.5310\n",
            "Epoch: 6/25... Step: 730... Loss: 1.4018... Val Loss: 1.5269\n",
            "Epoch: 6/25... Step: 740... Loss: 1.3628... Val Loss: 1.5269\n",
            "Epoch: 6/25... Step: 750... Loss: 1.3821... Val Loss: 1.5225\n",
            "Epoch: 6/25... Step: 760... Loss: 1.4018... Val Loss: 1.5176\n",
            "Epoch: 6/25... Step: 770... Loss: 1.3720... Val Loss: 1.5047\n",
            "Epoch: 6/25... Step: 780... Loss: 1.3584... Val Loss: 1.5003\n",
            "Epoch: 6/25... Step: 790... Loss: 1.3580... Val Loss: 1.4986\n",
            "Epoch: 6/25... Step: 800... Loss: 1.3794... Val Loss: 1.5039\n",
            "Epoch: 6/25... Step: 810... Loss: 1.3516... Val Loss: 1.5006\n",
            "Epoch: 6/25... Step: 820... Loss: 1.3097... Val Loss: 1.4926\n",
            "Epoch: 6/25... Step: 830... Loss: 1.3598... Val Loss: 1.4921\n",
            "Epoch: 7/25... Step: 840... Loss: 1.3229... Val Loss: 1.4900\n",
            "Epoch: 7/25... Step: 850... Loss: 1.3271... Val Loss: 1.4820\n",
            "Epoch: 7/25... Step: 860... Loss: 1.3113... Val Loss: 1.4864\n",
            "Epoch: 7/25... Step: 870... Loss: 1.3220... Val Loss: 1.4816\n",
            "Epoch: 7/25... Step: 880... Loss: 1.3222... Val Loss: 1.4771\n",
            "Epoch: 7/25... Step: 890... Loss: 1.3426... Val Loss: 1.4781\n",
            "Epoch: 7/25... Step: 900... Loss: 1.3332... Val Loss: 1.4745\n",
            "Epoch: 7/25... Step: 910... Loss: 1.2932... Val Loss: 1.4669\n",
            "Epoch: 7/25... Step: 920... Loss: 1.3003... Val Loss: 1.4638\n",
            "Epoch: 7/25... Step: 930... Loss: 1.2985... Val Loss: 1.4607\n",
            "Epoch: 7/25... Step: 940... Loss: 1.2931... Val Loss: 1.4611\n",
            "Epoch: 7/25... Step: 950... Loss: 1.3165... Val Loss: 1.4527\n",
            "Epoch: 7/25... Step: 960... Loss: 1.3202... Val Loss: 1.4524\n",
            "Epoch: 7/25... Step: 970... Loss: 1.3249... Val Loss: 1.4526\n",
            "Epoch: 8/25... Step: 980... Loss: 1.2797... Val Loss: 1.4513\n",
            "Epoch: 8/25... Step: 990... Loss: 1.2847... Val Loss: 1.4548\n",
            "Epoch: 8/25... Step: 1000... Loss: 1.2822... Val Loss: 1.4517\n",
            "Epoch: 8/25... Step: 1010... Loss: 1.3162... Val Loss: 1.4542\n",
            "Epoch: 8/25... Step: 1020... Loss: 1.3066... Val Loss: 1.4489\n",
            "Epoch: 8/25... Step: 1030... Loss: 1.2853... Val Loss: 1.4416\n",
            "Epoch: 8/25... Step: 1040... Loss: 1.2735... Val Loss: 1.4428\n",
            "Epoch: 8/25... Step: 1050... Loss: 1.2674... Val Loss: 1.4437\n",
            "Epoch: 8/25... Step: 1060... Loss: 1.2521... Val Loss: 1.4345\n",
            "Epoch: 8/25... Step: 1070... Loss: 1.2655... Val Loss: 1.4347\n",
            "Epoch: 8/25... Step: 1080... Loss: 1.2589... Val Loss: 1.4433\n",
            "Epoch: 8/25... Step: 1090... Loss: 1.2562... Val Loss: 1.4285\n",
            "Epoch: 8/25... Step: 1100... Loss: 1.2389... Val Loss: 1.4374\n",
            "Epoch: 8/25... Step: 1110... Loss: 1.2566... Val Loss: 1.4393\n",
            "Epoch: 9/25... Step: 1120... Loss: 1.2552... Val Loss: 1.4301\n",
            "Epoch: 9/25... Step: 1130... Loss: 1.2736... Val Loss: 1.4238\n",
            "Epoch: 9/25... Step: 1140... Loss: 1.2643... Val Loss: 1.4279\n",
            "Epoch: 9/25... Step: 1150... Loss: 1.2763... Val Loss: 1.4181\n",
            "Epoch: 9/25... Step: 1160... Loss: 1.2460... Val Loss: 1.4254\n",
            "Epoch: 9/25... Step: 1170... Loss: 1.2546... Val Loss: 1.4152\n",
            "Epoch: 9/25... Step: 1180... Loss: 1.2444... Val Loss: 1.4155\n",
            "Epoch: 9/25... Step: 1190... Loss: 1.2654... Val Loss: 1.4133\n",
            "Epoch: 9/25... Step: 1200... Loss: 1.2317... Val Loss: 1.4111\n",
            "Epoch: 9/25... Step: 1210... Loss: 1.2228... Val Loss: 1.4114\n",
            "Epoch: 9/25... Step: 1220... Loss: 1.2317... Val Loss: 1.4111\n",
            "Epoch: 9/25... Step: 1230... Loss: 1.2160... Val Loss: 1.4115\n",
            "Epoch: 9/25... Step: 1240... Loss: 1.2269... Val Loss: 1.4126\n",
            "Epoch: 9/25... Step: 1250... Loss: 1.2346... Val Loss: 1.4075\n",
            "Epoch: 10/25... Step: 1260... Loss: 1.2386... Val Loss: 1.4089\n",
            "Epoch: 10/25... Step: 1270... Loss: 1.2346... Val Loss: 1.4080\n",
            "Epoch: 10/25... Step: 1280... Loss: 1.2402... Val Loss: 1.4080\n",
            "Epoch: 10/25... Step: 1290... Loss: 1.2253... Val Loss: 1.3986\n",
            "Epoch: 10/25... Step: 1300... Loss: 1.2241... Val Loss: 1.3997\n",
            "Epoch: 10/25... Step: 1310... Loss: 1.2255... Val Loss: 1.4037\n",
            "Epoch: 10/25... Step: 1320... Loss: 1.1907... Val Loss: 1.3955\n",
            "Epoch: 10/25... Step: 1330... Loss: 1.1906... Val Loss: 1.3981\n",
            "Epoch: 10/25... Step: 1340... Loss: 1.1837... Val Loss: 1.3966\n",
            "Epoch: 10/25... Step: 1350... Loss: 1.1790... Val Loss: 1.3915\n",
            "Epoch: 10/25... Step: 1360... Loss: 1.1957... Val Loss: 1.4033\n",
            "Epoch: 10/25... Step: 1370... Loss: 1.1766... Val Loss: 1.3836\n",
            "Epoch: 10/25... Step: 1380... Loss: 1.2207... Val Loss: 1.3881\n",
            "Epoch: 10/25... Step: 1390... Loss: 1.2434... Val Loss: 1.3892\n",
            "Epoch: 11/25... Step: 1400... Loss: 1.2256... Val Loss: 1.3887\n",
            "Epoch: 11/25... Step: 1410... Loss: 1.2357... Val Loss: 1.3925\n",
            "Epoch: 11/25... Step: 1420... Loss: 1.2333... Val Loss: 1.3965\n",
            "Epoch: 11/25... Step: 1430... Loss: 1.1947... Val Loss: 1.3868\n",
            "Epoch: 11/25... Step: 1440... Loss: 1.2103... Val Loss: 1.3864\n",
            "Epoch: 11/25... Step: 1450... Loss: 1.1489... Val Loss: 1.3925\n",
            "Epoch: 11/25... Step: 1460... Loss: 1.1715... Val Loss: 1.3799\n",
            "Epoch: 11/25... Step: 1470... Loss: 1.1649... Val Loss: 1.3899\n",
            "Epoch: 11/25... Step: 1480... Loss: 1.1799... Val Loss: 1.3859\n",
            "Epoch: 11/25... Step: 1490... Loss: 1.1750... Val Loss: 1.3835\n",
            "Epoch: 11/25... Step: 1500... Loss: 1.1798... Val Loss: 1.3840\n",
            "Epoch: 11/25... Step: 1510... Loss: 1.1492... Val Loss: 1.3817\n",
            "Epoch: 11/25... Step: 1520... Loss: 1.1741... Val Loss: 1.3787\n",
            "Epoch: 12/25... Step: 1530... Loss: 1.2452... Val Loss: 1.3736\n",
            "Epoch: 12/25... Step: 1540... Loss: 1.1825... Val Loss: 1.3755\n",
            "Epoch: 12/25... Step: 1550... Loss: 1.1896... Val Loss: 1.3757\n",
            "Epoch: 12/25... Step: 1560... Loss: 1.1972... Val Loss: 1.3830\n",
            "Epoch: 12/25... Step: 1570... Loss: 1.1504... Val Loss: 1.3828\n",
            "Epoch: 12/25... Step: 1580... Loss: 1.1367... Val Loss: 1.3824\n",
            "Epoch: 12/25... Step: 1590... Loss: 1.1393... Val Loss: 1.3849\n",
            "Epoch: 12/25... Step: 1600... Loss: 1.1441... Val Loss: 1.3814\n",
            "Epoch: 12/25... Step: 1610... Loss: 1.1515... Val Loss: 1.3858\n",
            "Epoch: 12/25... Step: 1620... Loss: 1.1363... Val Loss: 1.3760\n",
            "Epoch: 12/25... Step: 1630... Loss: 1.1620... Val Loss: 1.3699\n",
            "Epoch: 12/25... Step: 1640... Loss: 1.1477... Val Loss: 1.3771\n",
            "Epoch: 12/25... Step: 1650... Loss: 1.1290... Val Loss: 1.3729\n",
            "Epoch: 12/25... Step: 1660... Loss: 1.1851... Val Loss: 1.3739\n",
            "Epoch: 13/25... Step: 1670... Loss: 1.1451... Val Loss: 1.3665\n",
            "Epoch: 13/25... Step: 1680... Loss: 1.1555... Val Loss: 1.3715\n",
            "Epoch: 13/25... Step: 1690... Loss: 1.1436... Val Loss: 1.3770\n",
            "Epoch: 13/25... Step: 1700... Loss: 1.1320... Val Loss: 1.3719\n",
            "Epoch: 13/25... Step: 1710... Loss: 1.1135... Val Loss: 1.3759\n",
            "Epoch: 13/25... Step: 1720... Loss: 1.1248... Val Loss: 1.3871\n",
            "Epoch: 13/25... Step: 1730... Loss: 1.1504... Val Loss: 1.3750\n",
            "Epoch: 13/25... Step: 1740... Loss: 1.1284... Val Loss: 1.3738\n",
            "Epoch: 13/25... Step: 1750... Loss: 1.0974... Val Loss: 1.3809\n",
            "Epoch: 13/25... Step: 1760... Loss: 1.1248... Val Loss: 1.3704\n",
            "Epoch: 13/25... Step: 1770... Loss: 1.1424... Val Loss: 1.3656\n",
            "Epoch: 13/25... Step: 1780... Loss: 1.1237... Val Loss: 1.3764\n",
            "Epoch: 13/25... Step: 1790... Loss: 1.1132... Val Loss: 1.3676\n",
            "Epoch: 13/25... Step: 1800... Loss: 1.1387... Val Loss: 1.3660\n",
            "Epoch: 14/25... Step: 1810... Loss: 1.1392... Val Loss: 1.3562\n",
            "Epoch: 14/25... Step: 1820... Loss: 1.1095... Val Loss: 1.3673\n",
            "Epoch: 14/25... Step: 1830... Loss: 1.1503... Val Loss: 1.3604\n",
            "Epoch: 14/25... Step: 1840... Loss: 1.0977... Val Loss: 1.3636\n",
            "Epoch: 14/25... Step: 1850... Loss: 1.0745... Val Loss: 1.3766\n",
            "Epoch: 14/25... Step: 1860... Loss: 1.1224... Val Loss: 1.3758\n",
            "Epoch: 14/25... Step: 1870... Loss: 1.1352... Val Loss: 1.3720\n",
            "Epoch: 14/25... Step: 1880... Loss: 1.1242... Val Loss: 1.3629\n",
            "Epoch: 14/25... Step: 1890... Loss: 1.1211... Val Loss: 1.3740\n",
            "Epoch: 14/25... Step: 1900... Loss: 1.1096... Val Loss: 1.3671\n",
            "Epoch: 14/25... Step: 1910... Loss: 1.1077... Val Loss: 1.3665\n",
            "Epoch: 14/25... Step: 1920... Loss: 1.1027... Val Loss: 1.3728\n",
            "Epoch: 14/25... Step: 1930... Loss: 1.0787... Val Loss: 1.3674\n",
            "Epoch: 14/25... Step: 1940... Loss: 1.1271... Val Loss: 1.3573\n",
            "Epoch: 15/25... Step: 1950... Loss: 1.1132... Val Loss: 1.3597\n",
            "Epoch: 15/25... Step: 1960... Loss: 1.1018... Val Loss: 1.3649\n",
            "Epoch: 15/25... Step: 1970... Loss: 1.0957... Val Loss: 1.3537\n",
            "Epoch: 15/25... Step: 1980... Loss: 1.0881... Val Loss: 1.3647\n",
            "Epoch: 15/25... Step: 1990... Loss: 1.0942... Val Loss: 1.3620\n",
            "Epoch: 15/25... Step: 2000... Loss: 1.0812... Val Loss: 1.3698\n",
            "Epoch: 15/25... Step: 2010... Loss: 1.0920... Val Loss: 1.3730\n",
            "Epoch: 15/25... Step: 2020... Loss: 1.1035... Val Loss: 1.3712\n",
            "Epoch: 15/25... Step: 2030... Loss: 1.0819... Val Loss: 1.3746\n",
            "Epoch: 15/25... Step: 2040... Loss: 1.1017... Val Loss: 1.3643\n",
            "Epoch: 15/25... Step: 2050... Loss: 1.0821... Val Loss: 1.3609\n",
            "Epoch: 15/25... Step: 2060... Loss: 1.0781... Val Loss: 1.3715\n",
            "Epoch: 15/25... Step: 2070... Loss: 1.0904... Val Loss: 1.3608\n",
            "Epoch: 15/25... Step: 2080... Loss: 1.0978... Val Loss: 1.3513\n",
            "Epoch: 16/25... Step: 2090... Loss: 1.1065... Val Loss: 1.3647\n",
            "Epoch: 16/25... Step: 2100... Loss: 1.0893... Val Loss: 1.3681\n",
            "Epoch: 16/25... Step: 2110... Loss: 1.0810... Val Loss: 1.3651\n",
            "Epoch: 16/25... Step: 2120... Loss: 1.0820... Val Loss: 1.3650\n",
            "Epoch: 16/25... Step: 2130... Loss: 1.0571... Val Loss: 1.3753\n",
            "Epoch: 16/25... Step: 2140... Loss: 1.0846... Val Loss: 1.3756\n",
            "Epoch: 16/25... Step: 2150... Loss: 1.0969... Val Loss: 1.3692\n",
            "Epoch: 16/25... Step: 2160... Loss: 1.0680... Val Loss: 1.3735\n",
            "Epoch: 16/25... Step: 2170... Loss: 1.0703... Val Loss: 1.3714\n",
            "Epoch: 16/25... Step: 2180... Loss: 1.0696... Val Loss: 1.3650\n",
            "Epoch: 16/25... Step: 2190... Loss: 1.0729... Val Loss: 1.3626\n",
            "Epoch: 16/25... Step: 2200... Loss: 1.0648... Val Loss: 1.3752\n",
            "Epoch: 16/25... Step: 2210... Loss: 1.0337... Val Loss: 1.3633\n",
            "Epoch: 16/25... Step: 2220... Loss: 1.0725... Val Loss: 1.3531\n",
            "Epoch: 17/25... Step: 2230... Loss: 1.0619... Val Loss: 1.3716\n",
            "Epoch: 17/25... Step: 2240... Loss: 1.0548... Val Loss: 1.3676\n",
            "Epoch: 17/25... Step: 2250... Loss: 1.0511... Val Loss: 1.3588\n",
            "Epoch: 17/25... Step: 2260... Loss: 1.0631... Val Loss: 1.3630\n",
            "Epoch: 17/25... Step: 2270... Loss: 1.0531... Val Loss: 1.3684\n",
            "Epoch: 17/25... Step: 2280... Loss: 1.0642... Val Loss: 1.3671\n",
            "Epoch: 17/25... Step: 2290... Loss: 1.0824... Val Loss: 1.3649\n",
            "Epoch: 17/25... Step: 2300... Loss: 1.0309... Val Loss: 1.3611\n",
            "Epoch: 17/25... Step: 2310... Loss: 1.0557... Val Loss: 1.3693\n",
            "Epoch: 17/25... Step: 2320... Loss: 1.0563... Val Loss: 1.3668\n",
            "Epoch: 17/25... Step: 2330... Loss: 1.0383... Val Loss: 1.3626\n",
            "Epoch: 17/25... Step: 2340... Loss: 1.0642... Val Loss: 1.3834\n",
            "Epoch: 17/25... Step: 2350... Loss: 1.0544... Val Loss: 1.3718\n",
            "Epoch: 17/25... Step: 2360... Loss: 1.0675... Val Loss: 1.3562\n",
            "Epoch: 18/25... Step: 2370... Loss: 1.0427... Val Loss: 1.3674\n",
            "Epoch: 18/25... Step: 2380... Loss: 1.0466... Val Loss: 1.3670\n",
            "Epoch: 18/25... Step: 2390... Loss: 1.0452... Val Loss: 1.3662\n",
            "Epoch: 18/25... Step: 2400... Loss: 1.0463... Val Loss: 1.3825\n",
            "Epoch: 18/25... Step: 2410... Loss: 1.0519... Val Loss: 1.3844\n",
            "Epoch: 18/25... Step: 2420... Loss: 1.0389... Val Loss: 1.3781\n",
            "Epoch: 18/25... Step: 2430... Loss: 1.0493... Val Loss: 1.3714\n",
            "Epoch: 18/25... Step: 2440... Loss: 1.0386... Val Loss: 1.3683\n",
            "Epoch: 18/25... Step: 2450... Loss: 1.0125... Val Loss: 1.3750\n",
            "Epoch: 18/25... Step: 2460... Loss: 1.0467... Val Loss: 1.3759\n",
            "Epoch: 18/25... Step: 2470... Loss: 1.0397... Val Loss: 1.3699\n",
            "Epoch: 18/25... Step: 2480... Loss: 1.0270... Val Loss: 1.3797\n",
            "Epoch: 18/25... Step: 2490... Loss: 1.0240... Val Loss: 1.3733\n",
            "Epoch: 18/25... Step: 2500... Loss: 1.0286... Val Loss: 1.3734\n",
            "Epoch: 19/25... Step: 2510... Loss: 1.0391... Val Loss: 1.3780\n",
            "Epoch: 19/25... Step: 2520... Loss: 1.0467... Val Loss: 1.3849\n",
            "Epoch: 19/25... Step: 2530... Loss: 1.0409... Val Loss: 1.3730\n",
            "Epoch: 19/25... Step: 2540... Loss: 1.0581... Val Loss: 1.3897\n",
            "Epoch: 19/25... Step: 2550... Loss: 1.0243... Val Loss: 1.3958\n",
            "Epoch: 19/25... Step: 2560... Loss: 1.0374... Val Loss: 1.3941\n",
            "Epoch: 19/25... Step: 2570... Loss: 1.0250... Val Loss: 1.3773\n",
            "Epoch: 19/25... Step: 2580... Loss: 1.0453... Val Loss: 1.3866\n",
            "Epoch: 19/25... Step: 2590... Loss: 1.0207... Val Loss: 1.3833\n",
            "Epoch: 19/25... Step: 2600... Loss: 1.0148... Val Loss: 1.3758\n",
            "Epoch: 19/25... Step: 2610... Loss: 1.0335... Val Loss: 1.3721\n",
            "Epoch: 19/25... Step: 2620... Loss: 1.0030... Val Loss: 1.3975\n",
            "Epoch: 19/25... Step: 2630... Loss: 1.0165... Val Loss: 1.3858\n",
            "Epoch: 19/25... Step: 2640... Loss: 1.0342... Val Loss: 1.3745\n",
            "Epoch: 20/25... Step: 2650... Loss: 1.0151... Val Loss: 1.3869\n",
            "Epoch: 20/25... Step: 2660... Loss: 1.0337... Val Loss: 1.3807\n",
            "Epoch: 20/25... Step: 2670... Loss: 1.0391... Val Loss: 1.3814\n",
            "Epoch: 20/25... Step: 2680... Loss: 1.0170... Val Loss: 1.3909\n",
            "Epoch: 20/25... Step: 2690... Loss: 1.0095... Val Loss: 1.3953\n",
            "Epoch: 20/25... Step: 2700... Loss: 1.0242... Val Loss: 1.4082\n",
            "Epoch: 20/25... Step: 2710... Loss: 0.9958... Val Loss: 1.3928\n",
            "Epoch: 20/25... Step: 2720... Loss: 0.9979... Val Loss: 1.3953\n",
            "Epoch: 20/25... Step: 2730... Loss: 0.9966... Val Loss: 1.3956\n",
            "Epoch: 20/25... Step: 2740... Loss: 0.9986... Val Loss: 1.3835\n",
            "Epoch: 20/25... Step: 2750... Loss: 1.0018... Val Loss: 1.3845\n",
            "Epoch: 20/25... Step: 2760... Loss: 0.9891... Val Loss: 1.3920\n",
            "Epoch: 20/25... Step: 2770... Loss: 1.0260... Val Loss: 1.4006\n",
            "Epoch: 20/25... Step: 2780... Loss: 1.0565... Val Loss: 1.3827\n",
            "Epoch: 21/25... Step: 2790... Loss: 1.0252... Val Loss: 1.3968\n",
            "Epoch: 21/25... Step: 2800... Loss: 1.0259... Val Loss: 1.3912\n",
            "Epoch: 21/25... Step: 2810... Loss: 1.0421... Val Loss: 1.3915\n",
            "Epoch: 21/25... Step: 2820... Loss: 1.0149... Val Loss: 1.4015\n",
            "Epoch: 21/25... Step: 2830... Loss: 1.0150... Val Loss: 1.3917\n",
            "Epoch: 21/25... Step: 2840... Loss: 0.9663... Val Loss: 1.4099\n",
            "Epoch: 21/25... Step: 2850... Loss: 0.9947... Val Loss: 1.3944\n",
            "Epoch: 21/25... Step: 2860... Loss: 0.9727... Val Loss: 1.3961\n",
            "Epoch: 21/25... Step: 2870... Loss: 0.9961... Val Loss: 1.3958\n",
            "Epoch: 21/25... Step: 2880... Loss: 0.9957... Val Loss: 1.3901\n",
            "Epoch: 21/25... Step: 2890... Loss: 0.9869... Val Loss: 1.3844\n",
            "Epoch: 21/25... Step: 2900... Loss: 0.9773... Val Loss: 1.4022\n",
            "Epoch: 21/25... Step: 2910... Loss: 0.9837... Val Loss: 1.4071\n",
            "Epoch: 22/25... Step: 2920... Loss: 1.1268... Val Loss: 1.3873\n",
            "Epoch: 22/25... Step: 2930... Loss: 1.0014... Val Loss: 1.3951\n",
            "Epoch: 22/25... Step: 2940... Loss: 1.0128... Val Loss: 1.3972\n",
            "Epoch: 22/25... Step: 2950... Loss: 1.0132... Val Loss: 1.3977\n",
            "Epoch: 22/25... Step: 2960... Loss: 0.9859... Val Loss: 1.4226\n",
            "Epoch: 22/25... Step: 2970... Loss: 0.9586... Val Loss: 1.4201\n",
            "Epoch: 22/25... Step: 2980... Loss: 0.9649... Val Loss: 1.4288\n",
            "Epoch: 22/25... Step: 2990... Loss: 0.9741... Val Loss: 1.3999\n",
            "Epoch: 22/25... Step: 3000... Loss: 0.9648... Val Loss: 1.4094\n",
            "Epoch: 22/25... Step: 3010... Loss: 0.9665... Val Loss: 1.4038\n",
            "Epoch: 22/25... Step: 3020... Loss: 0.9983... Val Loss: 1.3889\n",
            "Epoch: 22/25... Step: 3030... Loss: 0.9845... Val Loss: 1.3998\n",
            "Epoch: 22/25... Step: 3040... Loss: 0.9710... Val Loss: 1.4047\n",
            "Epoch: 22/25... Step: 3050... Loss: 1.0057... Val Loss: 1.3996\n",
            "Epoch: 23/25... Step: 3060... Loss: 0.9847... Val Loss: 1.3973\n",
            "Epoch: 23/25... Step: 3070... Loss: 0.9799... Val Loss: 1.3972\n",
            "Epoch: 23/25... Step: 3080... Loss: 0.9739... Val Loss: 1.4039\n",
            "Epoch: 23/25... Step: 3090... Loss: 0.9593... Val Loss: 1.4021\n",
            "Epoch: 23/25... Step: 3100... Loss: 0.9458... Val Loss: 1.4260\n",
            "Epoch: 23/25... Step: 3110... Loss: 0.9682... Val Loss: 1.4281\n",
            "Epoch: 23/25... Step: 3120... Loss: 0.9801... Val Loss: 1.4351\n",
            "Epoch: 23/25... Step: 3130... Loss: 0.9623... Val Loss: 1.4038\n",
            "Epoch: 23/25... Step: 3140... Loss: 0.9448... Val Loss: 1.4174\n",
            "Epoch: 23/25... Step: 3150... Loss: 0.9660... Val Loss: 1.4129\n",
            "Epoch: 23/25... Step: 3160... Loss: 0.9988... Val Loss: 1.4000\n",
            "Epoch: 23/25... Step: 3170... Loss: 0.9814... Val Loss: 1.4066\n",
            "Epoch: 23/25... Step: 3180... Loss: 0.9589... Val Loss: 1.4243\n",
            "Epoch: 23/25... Step: 3190... Loss: 0.9749... Val Loss: 1.4110\n",
            "Epoch: 24/25... Step: 3200... Loss: 0.9811... Val Loss: 1.4171\n",
            "Epoch: 24/25... Step: 3210... Loss: 0.9530... Val Loss: 1.4162\n",
            "Epoch: 24/25... Step: 3220... Loss: 0.9851... Val Loss: 1.4248\n",
            "Epoch: 24/25... Step: 3230... Loss: 0.9372... Val Loss: 1.4072\n",
            "Epoch: 24/25... Step: 3240... Loss: 0.9282... Val Loss: 1.4276\n",
            "Epoch: 24/25... Step: 3250... Loss: 0.9679... Val Loss: 1.4393\n",
            "Epoch: 24/25... Step: 3260... Loss: 0.9826... Val Loss: 1.4405\n",
            "Epoch: 24/25... Step: 3270... Loss: 0.9770... Val Loss: 1.4221\n",
            "Epoch: 24/25... Step: 3280... Loss: 0.9741... Val Loss: 1.4266\n",
            "Epoch: 24/25... Step: 3290... Loss: 0.9667... Val Loss: 1.4204\n",
            "Epoch: 24/25... Step: 3300... Loss: 0.9657... Val Loss: 1.4298\n",
            "Epoch: 24/25... Step: 3310... Loss: 0.9573... Val Loss: 1.4163\n",
            "Epoch: 24/25... Step: 3320... Loss: 0.9379... Val Loss: 1.4330\n",
            "Epoch: 24/25... Step: 3330... Loss: 0.9675... Val Loss: 1.4275\n",
            "Epoch: 25/25... Step: 3340... Loss: 0.9614... Val Loss: 1.4389\n",
            "Epoch: 25/25... Step: 3350... Loss: 0.9662... Val Loss: 1.4325\n",
            "Epoch: 25/25... Step: 3360... Loss: 0.9409... Val Loss: 1.4290\n",
            "Epoch: 25/25... Step: 3370... Loss: 0.9379... Val Loss: 1.4303\n",
            "Epoch: 25/25... Step: 3380... Loss: 0.9486... Val Loss: 1.4422\n",
            "Epoch: 25/25... Step: 3390... Loss: 0.9348... Val Loss: 1.4450\n",
            "Epoch: 25/25... Step: 3400... Loss: 0.9494... Val Loss: 1.4623\n",
            "Epoch: 25/25... Step: 3410... Loss: 0.9456... Val Loss: 1.4429\n",
            "Epoch: 25/25... Step: 3420... Loss: 0.9433... Val Loss: 1.4487\n",
            "Epoch: 25/25... Step: 3430... Loss: 0.9356... Val Loss: 1.4341\n",
            "Epoch: 25/25... Step: 3440... Loss: 0.9408... Val Loss: 1.4248\n",
            "Epoch: 25/25... Step: 3450... Loss: 0.9512... Val Loss: 1.4274\n",
            "Epoch: 25/25... Step: 3460... Loss: 0.9494... Val Loss: 1.4517\n",
            "Epoch: 25/25... Step: 3470... Loss: 0.9573... Val Loss: 1.4252\n"
          ],
          "name": "stdout"
        }
      ]
    },
    {
      "cell_type": "markdown",
      "metadata": {
        "id": "EqqKO9Ityj7N",
        "colab_type": "text"
      },
      "source": [
        "## 找到最佳模型\n",
        "\n",
        "要设置超参数以获得最佳性能，您需要观察训练和验证损失。如果您的训练损失远低于验证损失，那么您就过度拟合了。增加正规化（更多丢失）或使用更小的网络。如果培训和验证损失很接近，那么表现为欠拟合，需要增加网络规模。"
      ]
    },
    {
      "cell_type": "markdown",
      "metadata": {
        "id": "5oaf10WNyj7N",
        "colab_type": "text"
      },
      "source": [
        "## 超参数\n",
        "\n",
        "如下是网络的一些超参数\n",
        "\n",
        "定义模型过程中：\n",
        "* `n_hidden` - The number of units in the hidden layers.\n",
        "* `n_layers` - Number of hidden LSTM layers to use.\n",
        "\n",
        "We assume that dropout probability and learning rate will be kept at the default, in this example.\n",
        "\n",
        "训练过程中:\n",
        "* `n_seqs` - Number of sequences running through the network in one pass.\n",
        "* `n_steps` - Number of characters in the sequence the network is trained on. Larger is better typically, the network will learn more long range dependencies. But it takes longer to train. 100 is typically a good number here.\n",
        "* `lr` - Learning rate for training\n",
        "\n",
        "Here's some good advice from Andrej Karpathy on training the network. I'm going to copy it in here for your benefit, but also link to [where it originally came from](https://github.com/karpathy/char-rnn#tips-and-tricks).\n",
        "\n",
        "> ## 技巧\n",
        "\n",
        ">### 监控Validation Loss vs. Training Loss\n",
        ">If you're somewhat new to Machine Learning or Neural Networks it can take a bit of expertise to get good models. The most important quantity to keep track of is the difference between your training loss (printed during training) and the validation loss (printed once in a while when the RNN is run on the validation data (by default every 1000 iterations)). In particular:\n",
        "\n",
        "> - If your training loss is much lower than validation loss then this means the network might be **overfitting**. Solutions to this are to decrease your network size, or to increase dropout. For example you could try dropout of 0.5 and so on.\n",
        "> - If your training/validation loss are about equal then your model is **underfitting**. Increase the size of your model (either number of layers or the raw number of neurons per layer)\n",
        "\n",
        "> ### Approximate number of parameters\n",
        "\n",
        "> The two most important parameters that control the model are `n_hidden` and `n_layers`. I would advise that you always use `n_layers` of either 2/3. The `n_hidden` can be adjusted based on how much data you have. The two important quantities to keep track of here are:\n",
        "\n",
        "> - The number of parameters in your model. This is printed when you start training.\n",
        "> - The size of your dataset. 1MB file is approximately 1 million characters.\n",
        "\n",
        ">These two should be about the same order of magnitude. It's a little tricky to tell. Here are some examples:\n",
        "\n",
        "> - I have a 100MB dataset and I'm using the default parameter settings (which currently print 150K parameters). My data size is significantly larger (100 mil >> 0.15 mil), so I expect to heavily underfit. I am thinking I can comfortably afford to make `n_hidden` larger.\n",
        "> - I have a 10MB dataset and running a 10 million parameter model. I'm slightly nervous and I'm carefully monitoring my validation loss. If it's larger than my training loss then I may want to try to increase dropout a bit and see if that helps the validation loss.\n",
        "\n",
        "> ### Best models strategy\n",
        "\n",
        ">The winning strategy to obtaining very good models (if you have the compute time) is to always err on making the network larger (as large as you're willing to wait for it to compute) and then try different dropout values (between 0,1). Whatever model has the best validation performance (the loss, written in the checkpoint filename, low is good) is the one you should use in the end.\n",
        "\n",
        ">It is very common in deep learning to run many different models with many different hyperparameter settings, and in the end take whatever checkpoint gave the best validation performance.\n",
        "\n",
        ">By the way, the size of your training and validation splits are also parameters. Make sure you have a decent amount of data in your validation set or otherwise the validation performance will be noisy and not very informative."
      ]
    },
    {
      "cell_type": "markdown",
      "metadata": {
        "id": "A4gZJlmYyj7O",
        "colab_type": "text"
      },
      "source": [
        "After training, we'll save the model so we can load it again later if we need too. Here I'm saving the parameters needed to create the same architecture, the hidden layer hyperparameters and the text characters."
      ]
    },
    {
      "cell_type": "code",
      "metadata": {
        "id": "N_uROOReyj7P",
        "colab_type": "code",
        "colab": {}
      },
      "source": [
        "# change the name, for saving multiple files\n",
        "model_name = 'rnn_1_epoch.net'\n",
        "\n",
        "checkpoint = {'n_hidden': net.n_hidden,\n",
        "              'n_layers': net.n_layers,\n",
        "              'state_dict': net.state_dict(),\n",
        "              'tokens': net.chars}\n",
        "\n",
        "with open(model_name, 'wb') as f:\n",
        "    torch.save(checkpoint, f)"
      ],
      "execution_count": 0,
      "outputs": []
    },
    {
      "cell_type": "markdown",
      "metadata": {
        "id": "WIOvQRq5yj7R",
        "colab_type": "text"
      },
      "source": [
        "## Sampling\n",
        "\n",
        "Now that the model is trained, we'll want to sample from it. To sample, we pass in a character and have the network predict the next character. Then we take that character, pass it back in, and get another predicted character. Just keep doing this and you'll generate a bunch of text!\n",
        "\n",
        "### Top K sampling\n",
        "\n",
        "Our predictions come from a categorcial probability distribution over all the possible characters. We can make the sample text and make it more reasonable to handle (with less variables) by only considering some $K$ most probable characters. This will prevent the network from giving us completely absurd characters while allowing it to introduce some noise and randomness into the sampled text.\n",
        "\n",
        "Typically you'll want to prime the network so you can build up a hidden state. Otherwise the network will start out generating characters at random. In general the first bunch of characters will be a little rough since it hasn't built up a long history of characters to predict from."
      ]
    },
    {
      "cell_type": "code",
      "metadata": {
        "id": "DYlhX9Swyj7S",
        "colab_type": "code",
        "colab": {}
      },
      "source": [
        "def sample(net, size, prime='The', top_k=None, cuda=False):\n",
        "        \n",
        "    if cuda:\n",
        "        net.cuda()\n",
        "    else:\n",
        "        net.cpu()\n",
        "\n",
        "    net.eval()\n",
        "    \n",
        "    # First off, run through the prime characters\n",
        "    chars = [ch for ch in prime]\n",
        "    h = net.init_hidden(1)\n",
        "    for ch in prime:\n",
        "        char, h = net.predict(ch, h, cuda=cuda, top_k=top_k)\n",
        "\n",
        "    chars.append(char)\n",
        "    \n",
        "    # Now pass in the previous character and get a new one\n",
        "    for ii in range(size):\n",
        "        char, h = net.predict(chars[-1], h, cuda=cuda, top_k=top_k)\n",
        "        chars.append(char)\n",
        "\n",
        "    return ''.join(chars)"
      ],
      "execution_count": 0,
      "outputs": []
    },
    {
      "cell_type": "code",
      "metadata": {
        "id": "5Wa7YlP-yj7T",
        "colab_type": "code",
        "outputId": "f8866377-9f82-443d-be5b-6b441634852d",
        "colab": {
          "base_uri": "https://localhost:8080/",
          "height": 635
        }
      },
      "source": [
        "print(sample(net, 2000, prime='Anna', top_k=5, cuda=False))"
      ],
      "execution_count": 35,
      "outputs": [
        {
          "output_type": "stream",
          "text": [
            "Anna, the called\n",
            "commission in the first second too was never a perfect silence to the part\n",
            "the cloth and the secret comin out of the minds, and the colonel\n",
            "was seeking at the eact of his childhood and a peasant, all of his own\n",
            "foreseeing the servant came out on his study, and, took the carriage drooping in\n",
            "the bedroom door of their way how show it with the steps in the morning\n",
            "was so shrugg, his hands had already seen for the fact that\n",
            "his father always did, and again all disappointed their portraits in his\n",
            "heart and something should be fine with these springing and corn work and\n",
            "socras and household and intensely conversation it with his since had been\n",
            "plained in the proposed thick and stranker in the chair and sat a\n",
            "man of the same delicate figure to him.\n",
            "\n",
            "Anna did not answer, but what she would drive it at heallowy. Though the\n",
            "most contentious, one of the changing pain of the man with his fance and\n",
            "children, and taking the second, holding up his head to his, and wet all\n",
            "at his brother, and the princess told the most descreen, and powded and calm,\n",
            "annoused on these places were silent and their complete races and\n",
            "trembling sup of his healthy satt nice-foots were changed time as though the\n",
            "shade of the carp had a throw in stream, and a struggle was to be painfully\n",
            "carried away. At this moment the little gown stipred, and the sole delight of\n",
            "her most livily and a lively as they had been bought there with him, and at\n",
            "all the calm he went in at the door. The colonel was taking off his\n",
            "shoulders, had broken out, and the solam of what was said.\n",
            "\n",
            "\"No, these people have settled in the meaning of the subject of management\n",
            "of his society were, by now, how the steps of the provouce, she saw that it\n",
            "was all of some terms, to be serene, and that she had a position of the\n",
            "wile that says he was not in the conversation.\n",
            "\n",
            "\"Well, that where is the evente? When?\"\n",
            "\n",
            "\"No, I don't know if you had any sort of secret that was an expression\n",
            "of subject. But that I should not be a spiritual force\n"
          ],
          "name": "stdout"
        }
      ]
    },
    {
      "cell_type": "markdown",
      "metadata": {
        "id": "e2zlbRSCyj7V",
        "colab_type": "text"
      },
      "source": [
        "## Loading a checkpoint"
      ]
    },
    {
      "cell_type": "code",
      "metadata": {
        "id": "XtB7GioWyj7V",
        "colab_type": "code",
        "colab": {
          "base_uri": "https://localhost:8080/",
          "height": 35
        },
        "outputId": "436d28c5-0932-4783-e5f1-948e89a3a580"
      },
      "source": [
        "# Here we have loaded in a model that trained over 1 epoch `rnn_1_epoch.net`\n",
        "with open('rnn_1_epoch.net', 'rb') as f:\n",
        "    checkpoint = torch.load(f)\n",
        "    \n",
        "loaded = CharRNN(checkpoint['tokens'], n_hidden=checkpoint['n_hidden'], n_layers=checkpoint['n_layers'])\n",
        "loaded.load_state_dict(checkpoint['state_dict'])"
      ],
      "execution_count": 36,
      "outputs": [
        {
          "output_type": "execute_result",
          "data": {
            "text/plain": [
              "IncompatibleKeys(missing_keys=[], unexpected_keys=[])"
            ]
          },
          "metadata": {
            "tags": []
          },
          "execution_count": 36
        }
      ]
    },
    {
      "cell_type": "code",
      "metadata": {
        "id": "HGrwKmH7yj7X",
        "colab_type": "code",
        "outputId": "3e1e8842-2bba-43fb-e049-e529fc6b24ea",
        "colab": {
          "base_uri": "https://localhost:8080/",
          "height": 690
        }
      },
      "source": [
        "# Change cuda to True if you are using GPU!\n",
        "print(sample(loaded, 2000, cuda=False, top_k=5, prime=\"And Levin said\"))"
      ],
      "execution_count": 37,
      "outputs": [
        {
          "output_type": "stream",
          "text": [
            "And Levin said:\n",
            "\n",
            "\"That is what I can't feel that I am nice and there. These\n",
            "thousand about me on her soul a forest that's in the whole day. What is\n",
            "simple one of my profess?\" and a servant with which they had taken\n",
            "a little chook off to the silence when she had time to say that\n",
            "their conversation had been discovered, but she did not see, which\n",
            "would have the same society of again at home, where she went into the\n",
            "room.\n",
            "\n",
            "\"Ah! I should never have done that in all the theirs are\n",
            "proposed to all our horses. The colonel, the changing old man or\n",
            "a certainty privided any other service, and that he was almost at home the\n",
            "conversation was so strong that it was all the same that and a stock\n",
            "of and was a general suncession, and any other peasants were to be\n",
            "seen from the timid of the committee would try to start the little old\n",
            "man.\n",
            "\n",
            "Levin was not in to be seen before. But he could not submit. Alexey\n",
            "Alexandrovitch, smiling tone of the princess to wait the supple sight of\n",
            "the leather with a corns of her eagenties, and stirring it to\n",
            "his wife, the silk-desire was the case. After her money and the\n",
            "position with the peasants as some seat heaping in the marsh\n",
            "possible communist, which she had not time to do\n",
            "so as to say to her in spite of the steps to her fortune\n",
            "with which she had so marvelous her father, and she did not crisse\n",
            "to himself and all his wife at the same time seeing her to the subject, the\n",
            "service, of his official crail, though it was all ruse of successful is not as\n",
            "indifferent for the matters, all that she was sitting at the bedroom, and,\n",
            "had not seen in them facing him.\n",
            "\n",
            "\"Woman, want to be impossible to be at a common, the figure of the people, the\n",
            "position of a single monthm,\" she said, softly and with the child, and\n",
            "the simplest drive in half days, and the first person of his family too must\n",
            "be alone in the same solution of her husband, a fearful man in the\n",
            "morning frame of his white hindored friends which had been anxiet for something\n",
            "such action, he was trying to say that he c\n"
          ],
          "name": "stdout"
        }
      ]
    },
    {
      "cell_type": "code",
      "metadata": {
        "id": "S5TIl-V4yj7Y",
        "colab_type": "code",
        "colab": {}
      },
      "source": [
        ""
      ],
      "execution_count": 0,
      "outputs": []
    }
  ]
}